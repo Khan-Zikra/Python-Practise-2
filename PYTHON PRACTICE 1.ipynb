{
 "cells": [
  {
   "cell_type": "markdown",
   "id": "34ff1b26",
   "metadata": {},
   "source": [
    "# Python Strings\n",
    "\n"
   ]
  },
  {
   "cell_type": "code",
   "execution_count": 1,
   "id": "09b34a91",
   "metadata": {},
   "outputs": [
    {
     "name": "stdout",
     "output_type": "stream",
     "text": [
      "worl\n"
     ]
    }
   ],
   "source": [
    "b=\"Hello, world!\"\n",
    "print(b[-6:-2])\n"
   ]
  },
  {
   "cell_type": "code",
   "execution_count": 2,
   "id": "9616d39b",
   "metadata": {},
   "outputs": [
    {
     "name": "stdout",
     "output_type": "stream",
     "text": [
      "Hello, \n"
     ]
    }
   ],
   "source": [
    "b=\"Hello, World! \"\n",
    "print(b[:7])"
   ]
  },
  {
   "cell_type": "code",
   "execution_count": 1,
   "id": "14f084dc",
   "metadata": {},
   "outputs": [
    {
     "name": "stdout",
     "output_type": "stream",
     "text": [
      "s girl\n"
     ]
    }
   ],
   "source": [
    "#  Strip Method\n",
    "\n",
    "txt=\"    zikra is girl   \"\n",
    "a=txt.strip(\"   zikra   \")\n",
    "print(a)\n"
   ]
  },
  {
   "cell_type": "code",
   "execution_count": 3,
   "id": "270f10b0",
   "metadata": {},
   "outputs": [
    {
     "name": "stdout",
     "output_type": "stream",
     "text": [
      "rashtr\n"
     ]
    }
   ],
   "source": [
    "a=\"Maharashtra\"\n",
    "print(a[-7:-1])"
   ]
  },
  {
   "cell_type": "code",
   "execution_count": 4,
   "id": "124384e0",
   "metadata": {},
   "outputs": [
    {
     "name": "stdout",
     "output_type": "stream",
     "text": [
      "maha\n",
      "ashtr\n"
     ]
    }
   ],
   "source": [
    "a=\"maharashtra\"\n",
    "print(a[ :4])\n",
    "print(a[5:-1])"
   ]
  },
  {
   "cell_type": "code",
   "execution_count": 5,
   "id": "69941c79",
   "metadata": {},
   "outputs": [
    {
     "name": "stdout",
     "output_type": "stream",
     "text": [
      "SCIENCE\n"
     ]
    }
   ],
   "source": [
    "x=\"science\"\n",
    "\n",
    "print(x.upper())"
   ]
  },
  {
   "cell_type": "code",
   "execution_count": 6,
   "id": "fb853951",
   "metadata": {},
   "outputs": [
    {
     "name": "stdout",
     "output_type": "stream",
     "text": [
      "INVIROMENT\n"
     ]
    }
   ],
   "source": [
    "v=\"inviroment\"\n",
    "print(v.upper())"
   ]
  },
  {
   "cell_type": "code",
   "execution_count": 7,
   "id": "df61e3dc",
   "metadata": {},
   "outputs": [
    {
     "name": "stdout",
     "output_type": "stream",
     "text": [
      "people\n"
     ]
    }
   ],
   "source": [
    "c=\"People\"\n",
    "print(c.lower())"
   ]
  },
  {
   "cell_type": "code",
   "execution_count": 8,
   "id": "d56c7d53",
   "metadata": {},
   "outputs": [
    {
     "name": "stdout",
     "output_type": "stream",
     "text": [
      "hello, world!\n"
     ]
    }
   ],
   "source": [
    "b=\"Hello, World!\"\n",
    "print(b.lower())"
   ]
  },
  {
   "cell_type": "code",
   "execution_count": 9,
   "id": "fa5402b1",
   "metadata": {},
   "outputs": [
    {
     "name": "stdout",
     "output_type": "stream",
     "text": [
      "zikra, tarabun\n"
     ]
    }
   ],
   "source": [
    "a=\" zikra, tarabun \"\n",
    "print(a.strip())"
   ]
  },
  {
   "cell_type": "code",
   "execution_count": 10,
   "id": "9c99d37c",
   "metadata": {},
   "outputs": [
    {
     "name": "stdout",
     "output_type": "stream",
     "text": [
      "Table Size\n"
     ]
    }
   ],
   "source": [
    "c=\" Table Size \"\n",
    "print(c.strip())"
   ]
  },
  {
   "cell_type": "code",
   "execution_count": 11,
   "id": "32e71ad2",
   "metadata": {},
   "outputs": [
    {
     "name": "stdout",
     "output_type": "stream",
     "text": [
      "People\n"
     ]
    }
   ],
   "source": [
    "a=\"deople\"\n",
    "print(a.replace(\"d\",\"P\"))"
   ]
  },
  {
   "cell_type": "code",
   "execution_count": 1,
   "id": "995546de",
   "metadata": {},
   "outputs": [
    {
     "name": "stdout",
     "output_type": "stream",
     "text": [
      "jharkhand\n"
     ]
    }
   ],
   "source": [
    "c=\"bharkhand\"\n",
    "print(c.replace(\"b\",\"j\"))\n"
   ]
  },
  {
   "cell_type": "code",
   "execution_count": 13,
   "id": "ce51e609",
   "metadata": {},
   "outputs": [
    {
     "name": "stdout",
     "output_type": "stream",
     "text": [
      "['Hello', ' People!']\n"
     ]
    }
   ],
   "source": [
    "a=\"Hello, People!\"\n",
    "b=a.split(\",\")\n",
    "print(b)"
   ]
  },
  {
   "cell_type": "code",
   "execution_count": 14,
   "id": "a2f4379a",
   "metadata": {},
   "outputs": [
    {
     "name": "stdout",
     "output_type": "stream",
     "text": [
      "['Stay always positive', 'Be Positive']\n"
     ]
    }
   ],
   "source": [
    "a=\"Stay always positive,Be Positive\"\n",
    "b=a.split(\",\")\n",
    "print(b)"
   ]
  },
  {
   "cell_type": "code",
   "execution_count": 15,
   "id": "cb8cc852",
   "metadata": {},
   "outputs": [
    {
     "name": "stdout",
     "output_type": "stream",
     "text": [
      "Staypositive\n"
     ]
    }
   ],
   "source": [
    "a=\"Stay\"\n",
    "b=\"positive\"\n",
    "c=a+b\n",
    "print(c)"
   ]
  },
  {
   "cell_type": "code",
   "execution_count": 16,
   "id": "1be8a2b5",
   "metadata": {},
   "outputs": [
    {
     "name": "stdout",
     "output_type": "stream",
     "text": [
      "stay positive\n"
     ]
    }
   ],
   "source": [
    "a=\"stay\"\n",
    "b=\"positive\"\n",
    "c=a+\" \"+b\n",
    "print(c)"
   ]
  },
  {
   "cell_type": "code",
   "execution_count": 2,
   "id": "4cf689d2",
   "metadata": {},
   "outputs": [
    {
     "name": "stdout",
     "output_type": "stream",
     "text": [
      "My name is riya and I am 24 year old\n"
     ]
    }
   ],
   "source": [
    "age=24\n",
    "txt=\"My name is riya and I am {} year old\"\n",
    "print(txt.format(age))"
   ]
  },
  {
   "cell_type": "code",
   "execution_count": 1,
   "id": "7b039d22",
   "metadata": {},
   "outputs": [
    {
     "name": "stdout",
     "output_type": "stream",
     "text": [
      "I want 3 pices of item 567 for 49.95 dollars.\n"
     ]
    }
   ],
   "source": [
    "quantity=3\n",
    "itemno=567\n",
    "price=49.95\n",
    "myorder=\"I want {} pices of item {} for {} dollars.\"\n",
    "print(myorder.format (quantity,itemno,price))"
   ]
  },
  {
   "cell_type": "markdown",
   "id": "4b152607",
   "metadata": {},
   "source": []
  },
  {
   "cell_type": "code",
   "execution_count": 2,
   "id": "68e41164",
   "metadata": {},
   "outputs": [
    {
     "name": "stdout",
     "output_type": "stream",
     "text": [
      "I want to pay 87 dollars for 9 typy of item 678.\n"
     ]
    }
   ],
   "source": [
    "quantity=9\n",
    "itemno=678\n",
    "price=87\n",
    "myorder=\"I want to pay {2} dollars for {0} typy of item {1}.\"\n",
    "print(myorder.format(quantity,itemno,price))"
   ]
  },
  {
   "cell_type": "code",
   "execution_count": 3,
   "id": "fe38a74e",
   "metadata": {},
   "outputs": [
    {
     "name": "stdout",
     "output_type": "stream",
     "text": [
      "We are so-called \"vikings\" from north side.\n"
     ]
    }
   ],
   "source": [
    "txt=\"We are so-called \\\"vikings\\\" from north side.\"\n",
    "print(txt)\n"
   ]
  },
  {
   "cell_type": "code",
   "execution_count": 1,
   "id": "95013844",
   "metadata": {},
   "outputs": [
    {
     "name": "stdout",
     "output_type": "stream",
     "text": [
      "I want to pay 49.95 dollars for 3 pieces of item 567.\n"
     ]
    }
   ],
   "source": [
    "quantity = 3\n",
    "itemno = 567\n",
    "price = 49.95\n",
    "myorder = \"I want to pay {2} dollars for {0} pieces of item {1}.\"\n",
    "print(myorder.format(quantity, itemno, price)) \n"
   ]
  },
  {
   "cell_type": "markdown",
   "id": "7972356b",
   "metadata": {},
   "source": [
    "\n"
   ]
  },
  {
   "cell_type": "code",
   "execution_count": 1,
   "id": "74438678",
   "metadata": {},
   "outputs": [
    {
     "name": "stdout",
     "output_type": "stream",
     "text": [
      "we are so-called \"vikings\" fron north side\n"
     ]
    }
   ],
   "source": [
    "txt=\"we are so-called \\\"vikings\\\" fron north side\"\n",
    "print(txt)"
   ]
  },
  {
   "cell_type": "code",
   "execution_count": 2,
   "id": "fe7417c8",
   "metadata": {},
   "outputs": [
    {
     "name": "stdout",
     "output_type": "stream",
     "text": [
      "it's ok i have no problem.\n"
     ]
    }
   ],
   "source": [
    "txt='it\\'s ok i have no problem.'\n",
    "print(txt)"
   ]
  },
  {
   "cell_type": "code",
   "execution_count": 4,
   "id": "d94e1ee5",
   "metadata": {},
   "outputs": [
    {
     "name": "stdout",
     "output_type": "stream",
     "text": [
      "This will insert one \\(backslash).\n"
     ]
    }
   ],
   "source": [
    "txt=\"This will insert one \\\\(backslash).\"\n",
    "print(txt)"
   ]
  },
  {
   "cell_type": "code",
   "execution_count": 5,
   "id": "d0890315",
   "metadata": {},
   "outputs": [
    {
     "name": "stdout",
     "output_type": "stream",
     "text": [
      "Dont worry\n",
      " Great things take a time.\n"
     ]
    }
   ],
   "source": [
    "txt=\"Dont worry\\n Great things take a time.\"\n",
    "print(txt)"
   ]
  },
  {
   "cell_type": "code",
   "execution_count": 7,
   "id": "1762839f",
   "metadata": {},
   "outputs": [
    {
     "name": "stdout",
     "output_type": "stream",
     "text": [
      "sometimes we dont know value of moment\r",
      " until it's become a memory.\n"
     ]
    }
   ],
   "source": [
    "txt=\"sometimes we dont know value of moment\\r until it's become a memory.\"\n",
    "print(txt)"
   ]
  },
  {
   "cell_type": "code",
   "execution_count": 9,
   "id": "fdb1549d",
   "metadata": {},
   "outputs": [
    {
     "name": "stdout",
     "output_type": "stream",
     "text": [
      "Dont give up\r",
      "great things take a time\n"
     ]
    }
   ],
   "source": [
    "txt=\"Dont give up\\rgreat things take a time\"\n",
    "print(txt)"
   ]
  },
  {
   "cell_type": "markdown",
   "id": "0c3bba38",
   "metadata": {},
   "source": [
    "# Booleans\n"
   ]
  },
  {
   "cell_type": "code",
   "execution_count": 10,
   "id": "d4e2a44a",
   "metadata": {},
   "outputs": [
    {
     "name": "stdout",
     "output_type": "stream",
     "text": [
      "True\n",
      "False\n",
      "False\n"
     ]
    }
   ],
   "source": [
    "print(10>9)\n",
    "print(10==9)\n",
    "print(10<9)"
   ]
  },
  {
   "cell_type": "code",
   "execution_count": 12,
   "id": "63e06929",
   "metadata": {},
   "outputs": [
    {
     "name": "stdout",
     "output_type": "stream",
     "text": [
      "b is not greater than a\n"
     ]
    }
   ],
   "source": [
    "a=150\n",
    "b=50\n",
    "if b>a:\n",
    "    print(\"b is greater than a\")\n",
    "else:\n",
    "    print(\"b is not greater than a\")\n"
   ]
  },
  {
   "cell_type": "code",
   "execution_count": 13,
   "id": "050bf1ca",
   "metadata": {},
   "outputs": [
    {
     "name": "stdout",
     "output_type": "stream",
     "text": [
      "True\n",
      "True\n"
     ]
    }
   ],
   "source": [
    "print(bool(\"hello, world\"))\n",
    "print(bool(15))\n"
   ]
  },
  {
   "cell_type": "code",
   "execution_count": 14,
   "id": "39718a1f",
   "metadata": {},
   "outputs": [
    {
     "name": "stdout",
     "output_type": "stream",
     "text": [
      "True\n",
      "True\n"
     ]
    }
   ],
   "source": [
    "x=\"World\"\n",
    "y= 45\n",
    "print(bool(x))\n",
    "print(bool(y))"
   ]
  },
  {
   "cell_type": "code",
   "execution_count": 15,
   "id": "eeee227f",
   "metadata": {},
   "outputs": [
    {
     "name": "stdout",
     "output_type": "stream",
     "text": [
      "True\n",
      "True\n",
      "True\n"
     ]
    }
   ],
   "source": [
    "print(bool(\"Hello\"))\n",
    "print(bool(1234))\n",
    "print(bool([\"apple\",\"cherry\",\"banana\"]))"
   ]
  },
  {
   "cell_type": "code",
   "execution_count": 17,
   "id": "a72329bd",
   "metadata": {},
   "outputs": [
    {
     "name": "stdout",
     "output_type": "stream",
     "text": [
      "False\n",
      "False\n",
      "False\n"
     ]
    }
   ],
   "source": [
    "print(bool(None))\n",
    "print(bool(0))\n",
    "print(bool(\"\"))"
   ]
  },
  {
   "cell_type": "markdown",
   "id": "c6c2f178",
   "metadata": {},
   "source": [
    "# Opraters"
   ]
  },
  {
   "cell_type": "code",
   "execution_count": 33,
   "id": "8180cdc0",
   "metadata": {},
   "outputs": [
    {
     "name": "stdout",
     "output_type": "stream",
     "text": [
      "15\n",
      "90\n",
      "19\n",
      "24\n",
      "117\n",
      "240\n",
      "7.666666666666667\n",
      "11.142857142857142\n",
      "1\n",
      "2\n",
      "625\n",
      "59049\n",
      "11\n",
      "13\n"
     ]
    }
   ],
   "source": [
    "# Arithmatic opraters\n",
    "# Addition\n",
    "x=6\n",
    "y=9\n",
    "print(x+y)\n",
    "\n",
    "a=56\n",
    "b=34\n",
    "print(a+b)\n",
    "\n",
    "# substraction\n",
    "x=64\n",
    "y=45\n",
    "print(x-y)\n",
    "\n",
    "a=78\n",
    "b=54\n",
    "print(a-b)\n",
    "\n",
    "#multipliction\n",
    "x=9\n",
    "y=13\n",
    "print(x*y)\n",
    "\n",
    "a=12\n",
    "b=20\n",
    "print(a*b)\n",
    "\n",
    "#Division\n",
    "x=46\n",
    "y=6\n",
    "print(x/y)\n",
    "\n",
    "a=78\n",
    "b=7\n",
    "print(a/b)\n",
    "\n",
    "#Modulus\n",
    "a=13\n",
    "b=3\n",
    "print(a%b)\n",
    "\n",
    "x=47\n",
    "y=3\n",
    "print(x%y)\n",
    "\n",
    "#Exponentiton\n",
    "x=5\n",
    "y=4\n",
    "print(x**y)\n",
    "\n",
    "a=9\n",
    "b=5\n",
    "print(a**b)\n",
    "\n",
    "#Floor division\n",
    "x=47\n",
    "y=4\n",
    "print(x//y)\n",
    "\n",
    "a=67\n",
    "b=5\n",
    "print(a//b)\n"
   ]
  },
  {
   "cell_type": "code",
   "execution_count": 49,
   "id": "52bd9394",
   "metadata": {},
   "outputs": [
    {
     "name": "stdout",
     "output_type": "stream",
     "text": [
      "5\n",
      "14\n",
      "51\n",
      "11\n",
      "44\n",
      "108\n",
      "270\n",
      "16.75\n",
      "9.0\n",
      "3\n",
      "0\n",
      "20736\n",
      "18\n"
     ]
    }
   ],
   "source": [
    "#Assignment Opraters\n",
    "x=5\n",
    "print(x)\n",
    "\n",
    "x=9\n",
    "x +=5\n",
    "print(x)\n",
    "\n",
    "x=45\n",
    "x +=6\n",
    "print(x)\n",
    "\n",
    "a=56\n",
    "a-=45\n",
    "print(a)\n",
    "\n",
    "a=78\n",
    "a-=34\n",
    "print(a)\n",
    "\n",
    "x=12\n",
    "x*=9\n",
    "print(x)\n",
    "\n",
    "x=15\n",
    "x*=18\n",
    "print(x)\n",
    "\n",
    "a=67\n",
    "a/=4\n",
    "print(a)\n",
    "\n",
    "a=45\n",
    "a/=5\n",
    "print(a)\n",
    "\n",
    "x=78\n",
    "x%=5\n",
    "print(x)\n",
    "\n",
    "x=34\n",
    "x%=2\n",
    "print(x)\n",
    "\n",
    "a=12\n",
    "a**=4\n",
    "print(a)\n",
    "\n",
    "a=18\n",
    "a**3\n",
    "print(a)\n",
    "\n",
    "    "
   ]
  },
  {
   "cell_type": "code",
   "execution_count": 68,
   "id": "a9451ce3",
   "metadata": {},
   "outputs": [
    {
     "name": "stdout",
     "output_type": "stream",
     "text": [
      "11\n",
      "7\n",
      "0\n",
      "4\n",
      "47\n",
      "29\n",
      "30\n",
      "18\n",
      "4\n",
      "5\n",
      "448\n",
      "2\n"
     ]
    }
   ],
   "source": [
    "#Assignment Opraters countinue\n",
    "\n",
    "x=23\n",
    "x//=2\n",
    "print(x)\n",
    "\n",
    "x=46\n",
    "x//=6\n",
    "print(x)\n",
    "\n",
    "a=13\n",
    "a&=2\n",
    "print(a)\n",
    "\n",
    "a=30\n",
    "a&=4\n",
    "print(a)\n",
    "\n",
    "x=46\n",
    "x|=5\n",
    "print(x)\n",
    "\n",
    "x=25\n",
    "x|=4\n",
    "print(x)\n",
    "\n",
    "a=29\n",
    "a^=3\n",
    "print(a)\n",
    "\n",
    "a=16\n",
    "a^=2\n",
    "print(a)\n",
    "\n",
    "x=32\n",
    "x>>=3\n",
    "print(x)\n",
    "\n",
    "x=23\n",
    "x>>=2\n",
    "print(x)\n",
    "\n",
    "a=56\n",
    "a<<=3\n",
    "print(a)\n",
    "\n",
    "a=24\n",
    "a=2\n",
    "print(a)\n"
   ]
  },
  {
   "cell_type": "markdown",
   "id": "8f298edf",
   "metadata": {},
   "source": [
    "# Comparison Opraters\n"
   ]
  },
  {
   "cell_type": "code",
   "execution_count": 75,
   "id": "eccb2fd2",
   "metadata": {},
   "outputs": [
    {
     "name": "stdout",
     "output_type": "stream",
     "text": [
      "False\n",
      "True\n",
      "True\n",
      "False\n",
      "True\n",
      "True\n",
      "False\n"
     ]
    }
   ],
   "source": [
    "#Equal\n",
    "\n",
    "x=17\n",
    "y=10\n",
    "print(x==y)\n",
    "\n",
    "x=23\n",
    "y=28\n",
    "print(x!=y)\n",
    "\n",
    "a=23\n",
    "b=17\n",
    "print(a>b)\n",
    "\n",
    "a=11\n",
    "b=19\n",
    "print(a>b)\n",
    "\n",
    "x=13\n",
    "y=20\n",
    "print(x<y)\n",
    "\n",
    "a=34\n",
    "b=32\n",
    "print(a>=b)\n",
    "\n",
    "x=43\n",
    "y=31\n",
    "print(x<=y)"
   ]
  },
  {
   "cell_type": "markdown",
   "id": "45e853ec",
   "metadata": {},
   "source": [
    "# Logical Opraters\n"
   ]
  },
  {
   "cell_type": "code",
   "execution_count": 77,
   "id": "2648008f",
   "metadata": {},
   "outputs": [
    {
     "name": "stdout",
     "output_type": "stream",
     "text": [
      "True\n",
      "False\n"
     ]
    }
   ],
   "source": [
    "#and\n",
    "x=6\n",
    "print(x> 5 and x <9)\n",
    "\n",
    "x=7\n",
    "print(x< 8 and x > 10)"
   ]
  },
  {
   "cell_type": "code",
   "execution_count": 83,
   "id": "c075c3ae",
   "metadata": {},
   "outputs": [
    {
     "name": "stdout",
     "output_type": "stream",
     "text": [
      "False\n",
      "True\n",
      "True\n"
     ]
    }
   ],
   "source": [
    "#or\n",
    "a=12\n",
    "print(a > 14 and a < 16)\n",
    "\n",
    "a=8\n",
    "print(a> 6 and a < 9)\n",
    "\n",
    "a=10\n",
    "print(a> 8 and a < 12)"
   ]
  },
  {
   "cell_type": "code",
   "execution_count": 90,
   "id": "6b8f0bae",
   "metadata": {},
   "outputs": [
    {
     "name": "stdout",
     "output_type": "stream",
     "text": [
      "True\n",
      "True\n"
     ]
    }
   ],
   "source": [
    "#not\n",
    "x=6\n",
    "print(not(x> 5 and a < 10))\n",
    "\n",
    "x=13\n",
    "print(not(x> 15 and x > 20))\n"
   ]
  },
  {
   "cell_type": "markdown",
   "id": "99cd0340",
   "metadata": {},
   "source": [
    "# Identity Opraters\n"
   ]
  },
  {
   "cell_type": "code",
   "execution_count": 4,
   "id": "ecc14bb4",
   "metadata": {},
   "outputs": [
    {
     "name": "stdout",
     "output_type": "stream",
     "text": [
      "False\n",
      "True\n",
      "True\n"
     ]
    }
   ],
   "source": [
    "#is\n",
    "\n",
    "x=[\"orange\", \"pineapple\"]\n",
    "y=[\"orange\",\"pineapple\"]\n",
    "z=x\n",
    "\n",
    "print(x is y)\n",
    "print(x is z)\n",
    "print(x==y)"
   ]
  },
  {
   "cell_type": "code",
   "execution_count": 7,
   "id": "df28e1dd",
   "metadata": {},
   "outputs": [
    {
     "name": "stdout",
     "output_type": "stream",
     "text": [
      "False\n",
      "True\n",
      "False\n"
     ]
    }
   ],
   "source": [
    "#is not\n",
    "a=[\"cherry\", \"banana\"]\n",
    "b=[\"cherry\", \"banana\"]\n",
    "c=a\n",
    "\n",
    "print(a is not c)\n",
    "print(a is not b)\n",
    "print(a != b)\n",
    "\n",
    "\n"
   ]
  },
  {
   "cell_type": "markdown",
   "id": "3786486e",
   "metadata": {},
   "source": [
    "# Membership Opraters\n"
   ]
  },
  {
   "cell_type": "code",
   "execution_count": 10,
   "id": "f4cfbbee",
   "metadata": {},
   "outputs": [
    {
     "name": "stdout",
     "output_type": "stream",
     "text": [
      "True\n",
      "True\n"
     ]
    }
   ],
   "source": [
    "#in\n",
    "x=[\"mango\", \"chikoo\",\"apple\"]\n",
    "print(\"mango\" in x)\n",
    "\n",
    "print(\"apple\" in x)"
   ]
  },
  {
   "cell_type": "code",
   "execution_count": 14,
   "id": "44a6ca73",
   "metadata": {},
   "outputs": [
    {
     "name": "stdout",
     "output_type": "stream",
     "text": [
      "True\n",
      "False\n"
     ]
    }
   ],
   "source": [
    "#not in\n",
    "x=[\"mango\",\"chikoo\",\"apple\"]\n",
    "print(\"pineapple\" not in x)\n",
    "\n",
    "print(\"apple\" not in x)"
   ]
  },
  {
   "cell_type": "markdown",
   "id": "65ee9b79",
   "metadata": {},
   "source": [
    "# Bitwise Opraters"
   ]
  },
  {
   "cell_type": "code",
   "execution_count": 16,
   "id": "1ce7d3fc",
   "metadata": {},
   "outputs": [
    {
     "name": "stdout",
     "output_type": "stream",
     "text": [
      "7\n",
      "0\n"
     ]
    }
   ],
   "source": [
    "#and\n",
    "x=23\n",
    "y=7\n",
    "print(x&y)\n",
    "\n",
    "x=32\n",
    "y=10\n",
    "print(x&y)\n",
    "\n"
   ]
  },
  {
   "cell_type": "code",
   "execution_count": 22,
   "id": "daec11e2",
   "metadata": {},
   "outputs": [
    {
     "name": "stdout",
     "output_type": "stream",
     "text": [
      "22\n",
      "39\n",
      "23\n"
     ]
    }
   ],
   "source": [
    "#or\n",
    "x=16\n",
    "y=6\n",
    "print(x|y)\n",
    "\n",
    "x=34\n",
    "y=7\n",
    "print(x|y)\n",
    "\n",
    "x=17\n",
    "y=-7\n",
    "print(x|7)"
   ]
  },
  {
   "cell_type": "code",
   "execution_count": 24,
   "id": "45ce81a9",
   "metadata": {},
   "outputs": [
    {
     "name": "stdout",
     "output_type": "stream",
     "text": [
      "39\n",
      "29\n"
     ]
    }
   ],
   "source": [
    "#xor\n",
    "a=43\n",
    "b=12\n",
    "print(a^b)\n",
    "\n",
    "a=23\n",
    "b=10\n",
    "print(a^b)"
   ]
  },
  {
   "cell_type": "code",
   "execution_count": 30,
   "id": "c2e8b28e",
   "metadata": {},
   "outputs": [
    {
     "name": "stdout",
     "output_type": "stream",
     "text": [
      "-14\n",
      "22\n",
      "-18\n"
     ]
    }
   ],
   "source": [
    "#not\n",
    "x=13\n",
    "print(~x)\n",
    "\n",
    "y=-23\n",
    "print(~y)\n",
    "\n",
    "a=17\n",
    "print(~a)"
   ]
  },
  {
   "cell_type": "code",
   "execution_count": 34,
   "id": "495833f2",
   "metadata": {},
   "outputs": [
    {
     "name": "stdout",
     "output_type": "stream",
     "text": [
      "832\n",
      "320\n"
     ]
    }
   ],
   "source": [
    "#Left Shift\n",
    "x=13\n",
    "y=6\n",
    "print(x<<y)\n",
    "\n",
    "x=10\n",
    "y=5\n",
    "print(x<<y)"
   ]
  },
  {
   "cell_type": "code",
   "execution_count": 40,
   "id": "9328aea9",
   "metadata": {},
   "outputs": [
    {
     "name": "stdout",
     "output_type": "stream",
     "text": [
      "0\n",
      "0\n"
     ]
    }
   ],
   "source": [
    "#Right Shift\n",
    "a=45\n",
    "b=23\n",
    "print(a>>b)\n",
    "\n",
    "a=31\n",
    "b=11\n",
    "print(a>>b)"
   ]
  },
  {
   "cell_type": "markdown",
   "id": "8b77bcf9",
   "metadata": {},
   "source": [
    "# List\n"
   ]
  },
  {
   "cell_type": "code",
   "execution_count": 41,
   "id": "2b76035b",
   "metadata": {},
   "outputs": [
    {
     "name": "stdout",
     "output_type": "stream",
     "text": [
      "['apple', 'banana', 'cherry', 'pineapple']\n"
     ]
    }
   ],
   "source": [
    "thislist=[\"apple\",\"banana\",\"cherry\",\"pineapple\"]\n",
    "print(thislist)"
   ]
  },
  {
   "cell_type": "code",
   "execution_count": 42,
   "id": "8738b74b",
   "metadata": {},
   "outputs": [
    {
     "name": "stdout",
     "output_type": "stream",
     "text": [
      "4\n"
     ]
    }
   ],
   "source": [
    "thislist=[\"apple\",\"banana\",\"cherry\",\"pineapple\"]\n",
    "print(len(thislist))"
   ]
  },
  {
   "cell_type": "code",
   "execution_count": 48,
   "id": "121ffe2e",
   "metadata": {},
   "outputs": [
    {
     "name": "stdout",
     "output_type": "stream",
     "text": [
      "['apple', 'banana', 'orange']\n",
      "[3, 6, 8, 9, 2, 7]\n",
      "[True, False, False, True]\n"
     ]
    }
   ],
   "source": [
    "list1=[\"apple\",\"banana\",\"orange\"]\n",
    "list2=[3,6,8,9,2,7]\n",
    "list3=[True, False,False,True]\n",
    "\n",
    "print(list1)\n",
    "print(list2)\n",
    "print(list3)"
   ]
  },
  {
   "cell_type": "code",
   "execution_count": 50,
   "id": "3853b0de",
   "metadata": {},
   "outputs": [
    {
     "name": "stdout",
     "output_type": "stream",
     "text": [
      "<class 'list'>\n"
     ]
    }
   ],
   "source": [
    "list1=[\"orange\", 11 , True ,\"female\"]\n",
    "print(type(list1))"
   ]
  },
  {
   "cell_type": "code",
   "execution_count": 47,
   "id": "fa68a053",
   "metadata": {},
   "outputs": [
    {
     "name": "stdout",
     "output_type": "stream",
     "text": [
      "['apple', 11, True, 'orange']\n",
      "['banana', 21, False, 'pineapple']\n"
     ]
    }
   ],
   "source": [
    "list1=[\"apple\",11 ,True,\"orange\"]\n",
    "list2=[\"banana\", 21 ,False , \"pineapple\"]\n",
    "\n",
    "print(list1)\n",
    "print(list2)"
   ]
  },
  {
   "cell_type": "markdown",
   "id": "a06d9d64",
   "metadata": {},
   "source": [
    "# Access List Item"
   ]
  },
  {
   "cell_type": "code",
   "execution_count": 53,
   "id": "14d695be",
   "metadata": {},
   "outputs": [
    {
     "name": "stdout",
     "output_type": "stream",
     "text": [
      "grapes\n"
     ]
    }
   ],
   "source": [
    "#Access Items\n",
    "\n",
    "fruitslist=[\"apple\", \"pineapple\", \"orange\", \"grapes\",\"kiwi\"]\n",
    "print(fruitslist[3])\n"
   ]
  },
  {
   "cell_type": "code",
   "execution_count": 57,
   "id": "2f972a0b",
   "metadata": {},
   "outputs": [
    {
     "name": "stdout",
     "output_type": "stream",
     "text": [
      "kiwi\n",
      "orange\n"
     ]
    }
   ],
   "source": [
    "\n",
    "fruitslist=[\"apple\", \"pineapple\", \"orange\", \"grapes\",\"kiwi\"]\n",
    "print(fruitslist[-1])\n",
    "print(fruitslist[-3])"
   ]
  },
  {
   "cell_type": "code",
   "execution_count": 62,
   "id": "1237c5a2",
   "metadata": {},
   "outputs": [
    {
     "name": "stdout",
     "output_type": "stream",
     "text": [
      "['grapes', 'kiwi', 'melon']\n",
      "['apple', 'banana', 'cherry', 'grapes', 'kiwi']\n",
      "['cherry', 'grapes', 'kiwi', 'melon', 'pineapple']\n",
      "['grapes', 'kiwi', 'melon']\n"
     ]
    }
   ],
   "source": [
    "#Range of Index\n",
    "\n",
    "thislist=[\"apple\",\"banana\", \"cherry\", \"grapes\", 'kiwi',\"melon\", \"pineapple\"]\n",
    "print(thislist[3:6])\n",
    "print(thislist[ :5])\n",
    "print(thislist[2: ])\n",
    "print(thislist[-4:-1])"
   ]
  },
  {
   "cell_type": "code",
   "execution_count": 67,
   "id": "e1dfa715",
   "metadata": {},
   "outputs": [
    {
     "name": "stdout",
     "output_type": "stream",
     "text": [
      "yes ,'kiwi' in the given list\n"
     ]
    }
   ],
   "source": [
    "# If it\n",
    "list2=[\"orange\", \"kiwi\", \"mango\"]\n",
    "if\"kiwi\" in list2:\n",
    "        print(\"yes ,'kiwi' in the given list\")"
   ]
  },
  {
   "cell_type": "code",
   "execution_count": 75,
   "id": "4b6ab688",
   "metadata": {},
   "outputs": [
    {
     "name": "stdout",
     "output_type": "stream",
     "text": [
      "yes,'mango' in the fruit list\n"
     ]
    }
   ],
   "source": [
    "list3=[\"orange\", \"kiwi\", \"mango\"]\n",
    "if \"mango\" in list3:\n",
    "    print(\"yes,'mango' in the fruit list\")\n",
    "        "
   ]
  },
  {
   "cell_type": "code",
   "execution_count": 76,
   "id": "7646992f",
   "metadata": {},
   "outputs": [
    {
     "name": "stdout",
     "output_type": "stream",
     "text": [
      "No, this is not in this list\n"
     ]
    }
   ],
   "source": [
    "list4=[\"orange\", \"kiwi\", \"mango\"]\n",
    "if \"pineapple\" not in list4:\n",
    "    print(\"No, this is not in this list\")\n"
   ]
  },
  {
   "cell_type": "markdown",
   "id": "64cea5d3",
   "metadata": {},
   "source": [
    "# Change List Item"
   ]
  },
  {
   "cell_type": "code",
   "execution_count": 2,
   "id": "ca02e852",
   "metadata": {},
   "outputs": [
    {
     "name": "stdout",
     "output_type": "stream",
     "text": [
      "['apple', 'banana', 'grapes', 'mango']\n"
     ]
    }
   ],
   "source": [
    "thislist=[\"apple\", \"banana\", \"watermelon\",\"mango\"]\n",
    "thislist[2]=\"grapes\"\n",
    "print(thislist)"
   ]
  },
  {
   "cell_type": "code",
   "execution_count": 3,
   "id": "8f02915e",
   "metadata": {},
   "outputs": [
    {
     "name": "stdout",
     "output_type": "stream",
     "text": [
      "['apple', 'orange', 'watermelon', 'mango']\n"
     ]
    }
   ],
   "source": [
    "list1=[\"apple\", \"banana\", \"watermelon\",\"mango\"]\n",
    "list1[1]=\"orange\"\n",
    "print(list1)\n",
    "\n"
   ]
  },
  {
   "cell_type": "code",
   "execution_count": 7,
   "id": "39c77d9f",
   "metadata": {},
   "outputs": [
    {
     "name": "stdout",
     "output_type": "stream",
     "text": [
      "['apple', 'banana', 'watermelon', 'grapes', 'kiwi', 'mango']\n"
     ]
    }
   ],
   "source": [
    "# Change a range of item value\n",
    "list2 = [\"apple\", \"banana\", \"cherry\", \"orange\", \"kiwi\", \"mango\"]\n",
    "list2[2:4]=[\"watermelon\",\"grapes\"]\n",
    "print(list2)"
   ]
  },
  {
   "cell_type": "code",
   "execution_count": 8,
   "id": "94a2b871",
   "metadata": {},
   "outputs": [
    {
     "name": "stdout",
     "output_type": "stream",
     "text": [
      "['apple', 'lemon', 'chilli', 'orange', 'kiwi', 'mango']\n"
     ]
    }
   ],
   "source": [
    "list3 = [\"apple\", \"banana\", \"cherry\", \"orange\", \"kiwi\", \"mango\"]\n",
    "list3[1:3]=[\"lemon\", \"chilli\"]\n",
    "print(list3)"
   ]
  },
  {
   "cell_type": "code",
   "execution_count": 10,
   "id": "685ac5c7",
   "metadata": {},
   "outputs": [
    {
     "name": "stdout",
     "output_type": "stream",
     "text": [
      "['apple', 'banana', 'grapes', 'blackcurrent', 'watermelon']\n"
     ]
    }
   ],
   "source": [
    "list4=[\"apple\", \"banana\", \"pineapple\",\"watermelon\"]\n",
    "list4[2:3]=[\"grapes\", \"blackcurrent\"]\n",
    "print(list4)"
   ]
  },
  {
   "cell_type": "code",
   "execution_count": 13,
   "id": "7fdfab25",
   "metadata": {},
   "outputs": [
    {
     "name": "stdout",
     "output_type": "stream",
     "text": [
      "['apple', 'grapes', 'watermelon']\n"
     ]
    }
   ],
   "source": [
    "list5=[\"apple\", \"banana\", \"pineapple\",\"watermelon\"]\n",
    "list5[1:3]=[\"grapes\"]\n",
    "print(list5)"
   ]
  },
  {
   "cell_type": "code",
   "execution_count": 17,
   "id": "c9dd4266",
   "metadata": {},
   "outputs": [
    {
     "name": "stdout",
     "output_type": "stream",
     "text": [
      "['apple', 'banana', 'pineapple', 'orange', 'watermelon']\n"
     ]
    }
   ],
   "source": [
    "# Insert\n",
    "list6=[\"apple\", \"banana\", \"pineapple\",\"watermelon\"]\n",
    "list6.insert(3 ,\"orange\")\n",
    "print(list6)\n"
   ]
  },
  {
   "cell_type": "markdown",
   "id": "d915c849",
   "metadata": {},
   "source": [
    "# Add List Item"
   ]
  },
  {
   "cell_type": "code",
   "execution_count": 22,
   "id": "60230797",
   "metadata": {},
   "outputs": [
    {
     "name": "stdout",
     "output_type": "stream",
     "text": [
      "['apple', 'banana', 'orange', 'grapes']\n",
      "['cherry', 'pineapple', 'watermelon', 'mango']\n"
     ]
    }
   ],
   "source": [
    "# Append List\n",
    "\n",
    "thislist=[\"apple\",\"banana\",\"orange\"]\n",
    "thislist.append(\"grapes\")\n",
    "print(thislist)\n",
    "\n",
    "list2=[\"cherry\", \"pineapple\",\"watermelon\"]\n",
    "list2.append(\"mango\")\n",
    "print(list2)\n"
   ]
  },
  {
   "cell_type": "code",
   "execution_count": 24,
   "id": "040f6718",
   "metadata": {},
   "outputs": [
    {
     "name": "stdout",
     "output_type": "stream",
     "text": [
      "['watermelon', 'apple', 'banana', 'cherry']\n",
      "['watermelon', 'blackcurrent', ' muskmelon', 'kiwi', 'mango']\n"
     ]
    }
   ],
   "source": [
    "#insert List\n",
    "\n",
    "thislist=[\"apple\",\"banana\",\"cherry\"]\n",
    "thislist.insert(0 ,\"watermelon\")\n",
    "print(thislist)\n",
    "\n",
    "list2=[\"watermelon\",\"blackcurrent\",\"kiwi\",\"mango\"]\n",
    "list2.insert(2 ,\" muskmelon\")\n",
    "print(list2)"
   ]
  },
  {
   "cell_type": "code",
   "execution_count": 25,
   "id": "ee05607e",
   "metadata": {},
   "outputs": [
    {
     "name": "stdout",
     "output_type": "stream",
     "text": [
      "['apple', 'banana', 'cherry', 'watermelon', 'blackcurrent', 'kiwi', 'mango']\n"
     ]
    }
   ],
   "source": [
    "# Extend List\n",
    "thislist=[\"apple\",\"banana\",\"cherry\"]\n",
    "list2=[\"watermelon\",\"blackcurrent\", \"kiwi\", \"mango\"]\n",
    "thislist.extend(list2)\n",
    "print(thislist)\n"
   ]
  },
  {
   "cell_type": "code",
   "execution_count": 26,
   "id": "689b4bdf",
   "metadata": {},
   "outputs": [
    {
     "name": "stdout",
     "output_type": "stream",
     "text": [
      "['apple', 'banana', 'orange', 'muskmelon', 'cherry', 'pineapple', 'watermelon', 'kiwi']\n"
     ]
    }
   ],
   "source": [
    "thislist=[\"apple\",\"banana\",\"orange\", \"muskmelon\"]\n",
    "list3=[\"cherry\", \"pineapple\",\"watermelon\", \"kiwi\"]\n",
    "thislist.extend(list3)\n",
    "print(thislist)\n"
   ]
  },
  {
   "cell_type": "markdown",
   "id": "c0f174d9",
   "metadata": {},
   "source": [
    "# Remove List Item\n"
   ]
  },
  {
   "cell_type": "code",
   "execution_count": 28,
   "id": "f48181ad",
   "metadata": {},
   "outputs": [
    {
     "name": "stdout",
     "output_type": "stream",
     "text": [
      "['mango', 'grapes', 'orange']\n",
      "['mango', 'orange']\n"
     ]
    }
   ],
   "source": [
    "#Remove specifid Item\n",
    "list1=[\"mango\", \"grapes\", \"orange\", \"kiwi\"]\n",
    "list1.remove(\"kiwi\")\n",
    "print(list1)\n",
    "\n",
    "list1.remove(\"grapes\")\n",
    "print(list1)"
   ]
  },
  {
   "cell_type": "code",
   "execution_count": 31,
   "id": "4e6739f6",
   "metadata": {},
   "outputs": [
    {
     "name": "stdout",
     "output_type": "stream",
     "text": [
      "['apple', 'banana', 'muskmelon']\n",
      "['pen', 'pencil', 'eraser', 'bag', 'Notebook']\n"
     ]
    }
   ],
   "source": [
    "# Remove Specified Index\n",
    "list2=[\"apple\",\"banana\",\"orange\", \"muskmelon\"]\n",
    "list2.pop(2)\n",
    "print(llist2)\n",
    "\n",
    "\n",
    "list3=[\"pen\", \"pencil\", \"eraser\", \"bag\", \"notebook\",\"pan\"]\n",
    "list3.pop(5)\n",
    "print(list3)\n"
   ]
  },
  {
   "cell_type": "code",
   "execution_count": 33,
   "id": "f3939fd0",
   "metadata": {},
   "outputs": [
    {
     "name": "stdout",
     "output_type": "stream",
     "text": [
      "['apple', 'banana', 'muskmelon']\n",
      "['pen', 'pencil', 'eraser', 'bag', 'pan']\n"
     ]
    }
   ],
   "source": [
    "# del\n",
    "thislist=[\"apple\",\"banana\",\"orange\", \"muskmelon\"]\n",
    "del thislist[2]\n",
    "print(thislist)\n",
    "\n",
    "list2=[\"pen\", \"pencil\", \"eraser\", \"bag\", \"notebook\",\"pan\"]\n",
    "del list2[4]\n",
    "print(list2)\n"
   ]
  },
  {
   "cell_type": "code",
   "execution_count": 35,
   "id": "932397a1",
   "metadata": {},
   "outputs": [
    {
     "name": "stdout",
     "output_type": "stream",
     "text": [
      "[]\n",
      "[]\n"
     ]
    }
   ],
   "source": [
    "# Clear the list\n",
    "list3=[\"watermelon\", \"blackcurrent\",\"kiwi\",\"mango\"]\n",
    "list3.clear()\n",
    "print(list3)\n",
    "\n",
    "list4=[\"pen\", \"pencil\", \"eraser\", \"bag\", \"notebook\",\"pan\"]\n",
    "list4.clear()\n",
    "print(list4)"
   ]
  },
  {
   "cell_type": "markdown",
   "id": "95076075",
   "metadata": {},
   "source": [
    "# Loop List\n"
   ]
  },
  {
   "cell_type": "code",
   "execution_count": 37,
   "id": "7879aac2",
   "metadata": {},
   "outputs": [
    {
     "name": "stdout",
     "output_type": "stream",
     "text": [
      "pen\n",
      "pencil\n",
      "notebook\n",
      "bag\n",
      "apple\n",
      "banana\n",
      "mango\n",
      "kiwi\n"
     ]
    }
   ],
   "source": [
    "list=[\"pen\", \"pencil\", \"notebook\",\"bag\"]\n",
    "for x in list:\n",
    "    print(x)\n",
    "\n",
    "list2=[\"apple\",\"banana\",\"mango\",\"kiwi\"]\n",
    "for y in list2:\n",
    "    print(y)"
   ]
  },
  {
   "cell_type": "code",
   "execution_count": 38,
   "id": "920e02ce",
   "metadata": {},
   "outputs": [
    {
     "name": "stdout",
     "output_type": "stream",
     "text": [
      "apple\n",
      "pineapple\n",
      "custeredapple\n",
      "watermelon\n",
      "muskmelon\n"
     ]
    }
   ],
   "source": [
    "# Using While Loop\n",
    "thislist=[\"apple\",\"pineapple\", \"custeredapple\",\"watermelon\",\"muskmelon\"]\n",
    "i=0\n",
    "while i <len (thislist):\n",
    "    print(thislist[i])\n",
    "    i=i+1"
   ]
  },
  {
   "cell_type": "code",
   "execution_count": 39,
   "id": "26c82a25",
   "metadata": {},
   "outputs": [
    {
     "name": "stdout",
     "output_type": "stream",
     "text": [
      "custeredapple\n",
      "watermelon\n",
      "muskmelon\n"
     ]
    }
   ],
   "source": [
    "list2=[\"apple\",\"pineapple\", \"custeredapple\",\"watermelon\",\"muskmelon\"]\n",
    "x=2\n",
    "while x < len(list2):\n",
    "    print(list2[x])\n",
    "    x=x+1\n"
   ]
  },
  {
   "cell_type": "code",
   "execution_count": 40,
   "id": "0007872d",
   "metadata": {},
   "outputs": [
    {
     "name": "stdout",
     "output_type": "stream",
     "text": [
      "apple\n",
      "custeredapple\n",
      "muskmelon\n"
     ]
    }
   ],
   "source": [
    "list3=[\"apple\",\"pineapple\", \"custeredapple\",\"watermelon\",\"muskmelon\"]\n",
    "a=0\n",
    "while a < len(list3):\n",
    "    print(list3[a])\n",
    "    a=a+2"
   ]
  },
  {
   "cell_type": "code",
   "execution_count": 45,
   "id": "930c81bc",
   "metadata": {},
   "outputs": [
    {
     "name": "stdout",
     "output_type": "stream",
     "text": [
      "pen\n",
      "pencil\n",
      "eraser\n",
      "bag\n",
      "notebook\n",
      "pan\n"
     ]
    },
    {
     "data": {
      "text/plain": [
       "[None, None, None, None, None, None]"
      ]
     },
     "execution_count": 45,
     "metadata": {},
     "output_type": "execute_result"
    }
   ],
   "source": [
    "# Looping Using List Comprehension\n",
    "\n",
    "list1=[\"pen\", \"pencil\", \"eraser\", \"bag\", \"notebook\",\"pan\"]\n",
    "[print(x) for x in list1]\n"
   ]
  },
  {
   "cell_type": "code",
   "execution_count": 46,
   "id": "7f0e1fb9",
   "metadata": {},
   "outputs": [
    {
     "name": "stdout",
     "output_type": "stream",
     "text": [
      "apple\n",
      "pineapple\n",
      "custeredapple\n",
      "watermelon\n",
      "muskmelon\n"
     ]
    },
    {
     "data": {
      "text/plain": [
       "[None, None, None, None, None]"
      ]
     },
     "execution_count": 46,
     "metadata": {},
     "output_type": "execute_result"
    }
   ],
   "source": [
    "list2=[\"apple\",\"pineapple\", \"custeredapple\",\"watermelon\",\"muskmelon\"]\n",
    "y=[]\n",
    "[print(y) for y in list2]"
   ]
  },
  {
   "cell_type": "markdown",
   "id": "25bbff0d",
   "metadata": {},
   "source": [
    "# List Copmrehension"
   ]
  },
  {
   "cell_type": "code",
   "execution_count": 6,
   "id": "f291b114",
   "metadata": {},
   "outputs": [
    {
     "ename": "IndentationError",
     "evalue": "expected an indented block after 'for' statement on line 3 (3519574.py, line 4)",
     "output_type": "error",
     "traceback": [
      "\u001b[1;36m  Input \u001b[1;32mIn [6]\u001b[1;36m\u001b[0m\n\u001b[1;33m    if \"a\" in y:\u001b[0m\n\u001b[1;37m    ^\u001b[0m\n\u001b[1;31mIndentationError\u001b[0m\u001b[1;31m:\u001b[0m expected an indented block after 'for' statement on line 3\n"
     ]
    }
   ],
   "source": [
    "fruits=[\"apple\",\"banana\", \"cherry\",\"kiwi\",\"mango\"]\n",
    "newlist=[]\n",
    "for y in fruits:\n",
    "if \"a\" in y:\n",
    "newlist.append(y)\n",
    "print(newlist)\n",
    "    "
   ]
  },
  {
   "cell_type": "code",
   "execution_count": 19,
   "id": "a4892c6b",
   "metadata": {},
   "outputs": [
    {
     "name": "stdout",
     "output_type": "stream",
     "text": [
      "['apple', 'banana', 'mango']\n"
     ]
    }
   ],
   "source": [
    "fruits=[\"apple\",\"banana\", \"cherry\",\"kiwi\",\"mango\"]\n",
    "newlist=[x for x in fruits if \"a\" in x]\n",
    "print(newlist)"
   ]
  },
  {
   "cell_type": "code",
   "execution_count": 21,
   "id": "76cb6204",
   "metadata": {},
   "outputs": [
    {
     "name": "stdout",
     "output_type": "stream",
     "text": [
      "['banana', 'cherry', 'kiwi', 'mango', 'grapes']\n",
      "['apple', 'banana', 'kiwi', 'mango', 'grapes']\n"
     ]
    }
   ],
   "source": [
    "# Condition\n",
    "fruits=[\"apple\",\"banana\", \"cherry\",\"kiwi\",\"mango\",\"grapes\"]\n",
    "newlist=[y for y in fruits if y !=\"apple\"]\n",
    "print(newlist)\n",
    "\n",
    "newlist=[z for z in fruits if z !=\"cherry\"]\n",
    "print(newlist)"
   ]
  },
  {
   "cell_type": "code",
   "execution_count": 22,
   "id": "fd4c4cc3",
   "metadata": {},
   "outputs": [
    {
     "name": "stdout",
     "output_type": "stream",
     "text": [
      "['apple', 'banana', 'cherry', 'kiwi', 'mango', 'watermelon', 'mango']\n"
     ]
    }
   ],
   "source": [
    "# withouht if condition\n",
    "list1=[\"apple\",\"banana\", \"cherry\",\"kiwi\",\"mango\",\"watermelon\", \"mango\"]\n",
    "newlist=[x for x in list1]\n",
    "print(newlist)"
   ]
  },
  {
   "cell_type": "code",
   "execution_count": 26,
   "id": "c0778560",
   "metadata": {},
   "outputs": [
    {
     "name": "stdout",
     "output_type": "stream",
     "text": [
      "[0, 1, 2, 3, 4, 5, 6, 7, 8, 9]\n"
     ]
    }
   ],
   "source": [
    "# iterable\n",
    "#use range\n",
    "newlist=[a for a in range(10)]\n",
    "print(newlist)\n",
    "\n"
   ]
  },
  {
   "cell_type": "code",
   "execution_count": 29,
   "id": "40b42232",
   "metadata": {},
   "outputs": [
    {
     "name": "stdout",
     "output_type": "stream",
     "text": [
      "[6, 7, 8, 9]\n"
     ]
    }
   ],
   "source": [
    "# with condition\n",
    "newlist=[x for x in range(10) if x >5]\n",
    "print(newlist)"
   ]
  },
  {
   "cell_type": "code",
   "execution_count": 1,
   "id": "0fe3d66b",
   "metadata": {},
   "outputs": [
    {
     "name": "stdout",
     "output_type": "stream",
     "text": [
      "['APPLE', 'BANANA', 'CHERRY', 'KIWI', 'MANGO', 'WATERMELON', 'MANGO']\n"
     ]
    }
   ],
   "source": [
    "#Expression \n",
    "list1=[\"apple\",\"banana\", \"cherry\",\"kiwi\",\"mango\",\"watermelon\", \"mango\"]\n",
    "newlist=[x.upper() for x in list1]\n",
    "print(newlist)"
   ]
  },
  {
   "cell_type": "code",
   "execution_count": 3,
   "id": "206778dd",
   "metadata": {},
   "outputs": [
    {
     "name": "stdout",
     "output_type": "stream",
     "text": [
      "['fruits', 'fruits', 'fruits', 'fruits', 'fruits', 'fruits', 'fruits']\n"
     ]
    }
   ],
   "source": [
    "list2=[\"apple\",\"banana\", \"cherry\",\"kiwi\",\"mango\",\"watermelon\", \"mango\"]\n",
    "newlist=['fruits' for x in list2]\n",
    "print(newlist)"
   ]
  },
  {
   "cell_type": "code",
   "execution_count": 4,
   "id": "f52208cd",
   "metadata": {},
   "outputs": [
    {
     "name": "stdout",
     "output_type": "stream",
     "text": [
      "['apple', 'banana', 'cherry', 'grapes', 'mango', 'watermelon', 'mango']\n"
     ]
    }
   ],
   "source": [
    "# Expresswion with condition\n",
    "list3=[\"apple\",\"banana\", \"cherry\",\"kiwi\",\"mango\",\"watermelon\", \"mango\"]\n",
    "newlist=[z if z !=\"kiwi\" else \"grapes\" for z in list3]\n",
    "print(newlist)"
   ]
  },
  {
   "cell_type": "code",
   "execution_count": 7,
   "id": "b2a624ce",
   "metadata": {},
   "outputs": [
    {
     "name": "stdout",
     "output_type": "stream",
     "text": [
      "['apple', 'banana', 'cherry', 'kiwi', 'mango', 'watermelon', 'mango']\n"
     ]
    }
   ],
   "source": [
    "list4=[\"Apple\",\"Banana\", \"Cherry\",\"Kiwi\",\"Mango\",\"Watermelon\", \"Mango\"]\n",
    "newlist=[a.lower() for a in list4]\n",
    "print(newlist)"
   ]
  },
  {
   "cell_type": "code",
   "execution_count": 8,
   "id": "51cd92bf",
   "metadata": {},
   "outputs": [
    {
     "name": "stdout",
     "output_type": "stream",
     "text": [
      "['Hello', 'Hello', 'Hello', 'Hello', 'Hello', 'Hello']\n"
     ]
    }
   ],
   "source": [
    "thislist=[\"apple\",\"banana\", \"cherry\",\"kiwi\",\"mango\",\"grapes\"]\n",
    "newlist=[\"Hello\" for x in thislist]\n",
    "print(newlist)"
   ]
  },
  {
   "cell_type": "markdown",
   "id": "f765dda2",
   "metadata": {},
   "source": [
    "# Sort List"
   ]
  },
  {
   "cell_type": "code",
   "execution_count": 10,
   "id": "71460e2f",
   "metadata": {},
   "outputs": [
    {
     "name": "stdout",
     "output_type": "stream",
     "text": [
      "['bag', 'notebook', 'pen', 'pencil', 'school', 'textbook']\n",
      "[15, 18, 23, 28, 43, 43, 45, 67, 87, 90, 93, 99, 100]\n"
     ]
    }
   ],
   "source": [
    "# sort list alphabetically\n",
    "list=[\"school\", \"bag\",\"pen\", \"pencil\", \"notebook\", \"textbook\"]\n",
    "list.sort()\n",
    "print(list)\n",
    "\n",
    "\n",
    "list2=[15,18, 23, 45, 67,87, 43,90,28,93,99, 43, 100]\n",
    "list2.sort()\n",
    "print(list2)"
   ]
  },
  {
   "cell_type": "code",
   "execution_count": 13,
   "id": "9ad300f5",
   "metadata": {},
   "outputs": [
    {
     "name": "stdout",
     "output_type": "stream",
     "text": [
      "['textbook', 'school', 'pencil', 'pen', 'notebook', 'bag']\n",
      "[100, 99, 93, 90, 87, 67, 45, 43, 43, 28, 23, 18, 15]\n"
     ]
    }
   ],
   "source": [
    "# Sort Descending\n",
    "list3=[\"school\", \"bag\",\"pen\", \"pencil\", \"notebook\", \"textbook\"]\n",
    "list3.sort(reverse= True)\n",
    "print(list3)\n",
    "\n",
    "\n",
    "list4=[15,18, 23, 45, 67,87, 43,90,28,93,99, 43, 100]\n",
    "list4.sort(reverse= True)\n",
    "print(list4)\n"
   ]
  },
  {
   "cell_type": "code",
   "execution_count": 25,
   "id": "2d139dd7",
   "metadata": {},
   "outputs": [
    {
     "name": "stdout",
     "output_type": "stream",
     "text": [
      "[23, 18, 15, 45]\n"
     ]
    }
   ],
   "source": [
    "# Cutomize Sort Function \n",
    "def myfunc (n):\n",
    "    return  abs(n-25)\n",
    "list1=[15,18, 23, 45]\n",
    "list1.sort(key= myfunc)\n",
    "print(list1)"
   ]
  },
  {
   "cell_type": "code",
   "execution_count": 47,
   "id": "cb69a2a7",
   "metadata": {},
   "outputs": [
    {
     "name": "stdout",
     "output_type": "stream",
     "text": [
      "[15, 23, 48, 53, 89, 100]\n"
     ]
    }
   ],
   "source": [
    "def myfunc (n):\n",
    "    return  (n-20)\n",
    "list2=[23,15, 48,53,89,100]\n",
    "list2.sort(key= myfunc)\n",
    "print(list2)\n",
    "\n"
   ]
  },
  {
   "cell_type": "code",
   "execution_count": 27,
   "id": "8dcde501",
   "metadata": {},
   "outputs": [
    {
     "name": "stdout",
     "output_type": "stream",
     "text": [
      "['school', 'bag', 'pen', 'pencil', 'notebook', 'textbook']\n"
     ]
    }
   ],
   "source": [
    "def myfunc (n):\n",
    "    return ()\n",
    "list2=[\"school\", \"bag\",\"pen\", \"pencil\", \"notebook\", \"textbook\"]\n",
    "list2.sort(key=myfunc)\n",
    "print(list2)"
   ]
  },
  {
   "cell_type": "code",
   "execution_count": 38,
   "id": "523b8723",
   "metadata": {},
   "outputs": [
    {
     "name": "stdout",
     "output_type": "stream",
     "text": [
      "['Banana', 'Grapes', 'Orange', 'kiwi', 'mango']\n"
     ]
    }
   ],
   "source": [
    "thislist=[\"mango\",\"Banana\", \"Orange\", \"kiwi\",\"Grapes\"]\n",
    "thislist.sort()\n",
    "print(thislist)"
   ]
  },
  {
   "cell_type": "code",
   "execution_count": 37,
   "id": "12577c02",
   "metadata": {},
   "outputs": [
    {
     "name": "stdout",
     "output_type": "stream",
     "text": [
      "['Apple', 'Banaana', 'grapes', 'kiwi', 'Orange']\n"
     ]
    }
   ],
   "source": [
    "# Case Insensitive sort\n",
    "\n",
    "thislist2=[\"Apple\", \"kiwi\", \"Banaana\", \"Orange\", 'grapes']\n",
    "thislist2.sort (key=str. lower)\n",
    "print(thislist2)"
   ]
  },
  {
   "cell_type": "code",
   "execution_count": 41,
   "id": "c5f63486",
   "metadata": {},
   "outputs": [
    {
     "name": "stdout",
     "output_type": "stream",
     "text": [
      "['grapes', 'Orange', 'Banaana', 'kiwi', 'Apple']\n"
     ]
    }
   ],
   "source": [
    "# Reverse Order\n",
    "\n",
    "thislist=[\"Apple\", \"kiwi\", \"Banaana\", \"Orange\", 'grapes']\n",
    "thislist.reverse()\n",
    "print(thislist)"
   ]
  },
  {
   "cell_type": "markdown",
   "id": "7f7c9acf",
   "metadata": {},
   "source": [
    "# Copy List"
   ]
  },
  {
   "cell_type": "code",
   "execution_count": 49,
   "id": "9e3ce6c5",
   "metadata": {},
   "outputs": [
    {
     "name": "stdout",
     "output_type": "stream",
     "text": [
      "['apple', 'kiwi', 'banaana', 'orange', 'grapes']\n"
     ]
    }
   ],
   "source": [
    "# Using Copy\n",
    "\n",
    "thislist=[\"apple\", \"kiwi\", \"banaana\", \"orange\", 'grapes']\n",
    "list2= thislist.copy()\n",
    "print(list2)"
   ]
  },
  {
   "cell_type": "code",
   "execution_count": 1,
   "id": "79e60e4c",
   "metadata": {},
   "outputs": [
    {
     "name": "stdout",
     "output_type": "stream",
     "text": [
      "['school', 'bag', 'pen', 'pencil', 'notebook', 'textbook']\n"
     ]
    }
   ],
   "source": [
    "# Using List\n",
    "thislist=[\"school\", \"bag\",\"pen\", \"pencil\", \"notebook\", \"textbook\"]\n",
    "list4= list(thislist)\n",
    "print(list4)"
   ]
  },
  {
   "cell_type": "markdown",
   "id": "40ead8a0",
   "metadata": {},
   "source": [
    "# Join List\n"
   ]
  },
  {
   "cell_type": "code",
   "execution_count": 2,
   "id": "a69ce227",
   "metadata": {},
   "outputs": [
    {
     "name": "stdout",
     "output_type": "stream",
     "text": [
      "['apple', 'orange', 'pineapple', 'muskmelon', 1, 2, 3, 4, 5]\n"
     ]
    }
   ],
   "source": [
    "# Using +\n",
    "list1=[\"apple\", \"orange\",\"pineapple\",\"muskmelon\"]\n",
    "list2=[1,2,3,4,5]\n",
    "list3= list1+ list2\n",
    "print(list3)"
   ]
  },
  {
   "cell_type": "code",
   "execution_count": 5,
   "id": "c3e86270",
   "metadata": {},
   "outputs": [
    {
     "name": "stdout",
     "output_type": "stream",
     "text": [
      "[6, 7, 8, 9, 10, 'apple']\n",
      "[6, 7, 8, 9, 10, 'apple', 'orange']\n",
      "[6, 7, 8, 9, 10, 'apple', 'orange', 'pineapple']\n",
      "[6, 7, 8, 9, 10, 'apple', 'orange', 'pineapple', 'muskmelon']\n"
     ]
    }
   ],
   "source": [
    "# Using Append\n",
    "list1=[\"apple\", \"orange\",\"pineapple\",\"muskmelon\"]\n",
    "list2=[6,7,8,9,10]\n",
    "\n",
    "for y in list2:\n",
    "    list1.append(y)\n",
    "    print(list1)\n",
    " "
   ]
  },
  {
   "cell_type": "code",
   "execution_count": 4,
   "id": "eaadc86d",
   "metadata": {},
   "outputs": [
    {
     "name": "stdout",
     "output_type": "stream",
     "text": [
      "[1, 2, 3, 4, 5, 'apple', 'orange', 'pineapple', 'muskmelon']\n"
     ]
    }
   ],
   "source": [
    "list1=[\"apple\", \"orange\",\"pineapple\",\"muskmelon\"]\n",
    "list2=[1,2,3,4,5]\n",
    "list2.extend (list1)\n",
    "print(list2)"
   ]
  },
  {
   "cell_type": "markdown",
   "id": "a414c121",
   "metadata": {},
   "source": [
    "# Tuple"
   ]
  },
  {
   "cell_type": "code",
   "execution_count": 1,
   "id": "a51aa45f",
   "metadata": {},
   "outputs": [
    {
     "name": "stdout",
     "output_type": "stream",
     "text": [
      "5\n"
     ]
    }
   ],
   "source": [
    "thistuple=(\"school\", \"class\", \"window\", \"boared\", \"teacher\")\n",
    "print(len (thistuple))"
   ]
  },
  {
   "cell_type": "code",
   "execution_count": 9,
   "id": "09aa010f",
   "metadata": {},
   "outputs": [
    {
     "name": "stdout",
     "output_type": "stream",
     "text": [
      "('school',)\n",
      "<class 'tuple'>\n",
      "<class 'str'>\n"
     ]
    }
   ],
   "source": [
    "#One Item tuple\n",
    "tuplelist=(\"school\",)\n",
    "print(tuplelist)\n",
    "\n",
    "print(type(tuplelist))\n",
    "\n",
    "tuplelist2=(\"school\")\n",
    "print(type(tuplelist2))"
   ]
  },
  {
   "cell_type": "code",
   "execution_count": 6,
   "id": "07487b65",
   "metadata": {},
   "outputs": [
    {
     "name": "stdout",
     "output_type": "stream",
     "text": [
      "('school', 'class', 'window', 'boared', 'teacher')\n",
      "(1, 4, 6, 3, 7, 5)\n",
      "(True, False, False, True)\n"
     ]
    }
   ],
   "source": [
    "# Tuple Item-Data Type \n",
    "tuplelist1=(\"school\", \"class\", \"window\", \"boared\", \"teacher\")\n",
    "tuplelist2=(1,4,6,3,7,5)\n",
    "tuplelist3=(True, False, False,True)\n",
    "\n",
    "print(tuplelist1)\n",
    "print(tuplelist2)\n",
    "print(tuplelist3)"
   ]
  },
  {
   "cell_type": "code",
   "execution_count": 7,
   "id": "d7a3a49b",
   "metadata": {},
   "outputs": [
    {
     "name": "stdout",
     "output_type": "stream",
     "text": [
      "('school', 7, False, 'class', 3, True, 'teacher')\n"
     ]
    }
   ],
   "source": [
    "#contain Difrent Data Type\n",
    "tuplelist=(\"school\", 7, False, \"class\", 3,True,\"teacher\")\n",
    "print(tuplelist)"
   ]
  },
  {
   "cell_type": "code",
   "execution_count": 14,
   "id": "c06c9f1e",
   "metadata": {},
   "outputs": [
    {
     "name": "stdout",
     "output_type": "stream",
     "text": [
      "('school', 'class', 'window', 'boared', 'teacher', 'pen')\n"
     ]
    }
   ],
   "source": [
    "list1=tuple((\"school\", \"class\", \"window\", \"boared\", \"teacher\",\"pen\"))\n",
    "print(list1)"
   ]
  },
  {
   "cell_type": "markdown",
   "id": "4a148a75",
   "metadata": {},
   "source": [
    "# Access tuple"
   ]
  },
  {
   "cell_type": "code",
   "execution_count": 10,
   "id": "76bdffa2",
   "metadata": {},
   "outputs": [
    {
     "name": "stdout",
     "output_type": "stream",
     "text": [
      "window\n"
     ]
    }
   ],
   "source": [
    "tuplelist=(\"school\", \"class\", \"window\", \"boared\", \"teacher\")\n",
    "print(tuplelist[2])"
   ]
  },
  {
   "cell_type": "code",
   "execution_count": 11,
   "id": "ac9d9c3c",
   "metadata": {},
   "outputs": [
    {
     "name": "stdout",
     "output_type": "stream",
     "text": [
      "boared\n"
     ]
    }
   ],
   "source": [
    "tuplelist2=(\"school\", \"class\", \"window\", \"boared\", \"teacher\")\n",
    "print(tuplelist2[-2])"
   ]
  },
  {
   "cell_type": "code",
   "execution_count": 15,
   "id": "c66ad17b",
   "metadata": {},
   "outputs": [
    {
     "name": "stdout",
     "output_type": "stream",
     "text": [
      "('class', 'window', 'boared', 'teacher')\n"
     ]
    }
   ],
   "source": [
    "# Range of index\n",
    "tuplelist3=(\"school\", \"class\", \"window\", \"boared\", \"teacher\", \"textbook\")\n",
    "print(tuplelist3[1:5])"
   ]
  },
  {
   "cell_type": "code",
   "execution_count": 16,
   "id": "74cc2e2d",
   "metadata": {},
   "outputs": [
    {
     "name": "stdout",
     "output_type": "stream",
     "text": [
      "('school', 'class', 'window', 'boared')\n"
     ]
    }
   ],
   "source": [
    "# Leaving out Start value\n",
    "\n",
    "tuplelist4=(\"school\", \"class\", \"window\", \"boared\", \"teacher\",\"notebook\")\n",
    "print(tuplelist4[ :4])"
   ]
  },
  {
   "cell_type": "code",
   "execution_count": 17,
   "id": "707bb312",
   "metadata": {},
   "outputs": [
    {
     "name": "stdout",
     "output_type": "stream",
     "text": [
      "('window', 'boared', 'teacher', 'book')\n"
     ]
    }
   ],
   "source": [
    "# Leaving out End value\n",
    "tuplelist5=(\"school\", \"class\", \"window\", \"boared\", \"teacher\",\"book\")\n",
    "print(tuplelist5[2: ])"
   ]
  },
  {
   "cell_type": "code",
   "execution_count": 18,
   "id": "893d3703",
   "metadata": {},
   "outputs": [
    {
     "name": "stdout",
     "output_type": "stream",
     "text": [
      "('window', 'boared', 'teacher', 'pen')\n"
     ]
    }
   ],
   "source": [
    "# Range of Negative index\n",
    "tuplelist6=(\"school\", \"class\", \"window\", \"boared\", \"teacher\",\"pen\", \"pencil\")\n",
    "print(tuplelist6[-5:-1])"
   ]
  },
  {
   "cell_type": "code",
   "execution_count": 13,
   "id": "570903f1",
   "metadata": {},
   "outputs": [
    {
     "name": "stdout",
     "output_type": "stream",
     "text": [
      "No, 'pen',is Not in the tuplelist\n"
     ]
    }
   ],
   "source": [
    "#check If Item Exist\n",
    "tuplelist=(\"school\", \"class\", \"window\", \"boared\", \"teacher\")\n",
    "if \"pen\" not in tuplelist:\n",
    "    print(\"No, 'pen',is Not in the tuplelist\")"
   ]
  },
  {
   "cell_type": "markdown",
   "id": "85ff3427",
   "metadata": {},
   "source": [
    "# Update Tuples"
   ]
  },
  {
   "cell_type": "code",
   "execution_count": 16,
   "id": "14901011",
   "metadata": {},
   "outputs": [
    {
     "name": "stdout",
     "output_type": "stream",
     "text": [
      "('apple', 'banana', 'grapes', 'kiwi')\n"
     ]
    }
   ],
   "source": [
    "# convert in a list to be able to change it\n",
    "thistuple=(\"apple\", \"banana\", \"cherry\",\"kiwi\")\n",
    "y=list(thistuple)\n",
    "y[2]=\"grapes\"\n",
    "thistuple= tuple(y)\n",
    "print(thistuple)"
   ]
  },
  {
   "cell_type": "code",
   "execution_count": 17,
   "id": "43890d23",
   "metadata": {},
   "outputs": [
    {
     "name": "stdout",
     "output_type": "stream",
     "text": [
      "('school', 'class', 'window', 'boared', 'teacher')\n"
     ]
    }
   ],
   "source": [
    "# Add Items \n",
    "# 1.convert in to a list\n",
    "\n",
    "tuplelist1=(\"school\", \"class\", \"window\", \"boared\")\n",
    "a=list(tuplelist1)\n",
    "a.append(\"teacher\")\n",
    "tuplelist1=tuple(a)\n",
    "print(tuplelist1)\n"
   ]
  },
  {
   "cell_type": "code",
   "execution_count": 18,
   "id": "d1ee2425",
   "metadata": {},
   "outputs": [
    {
     "name": "stdout",
     "output_type": "stream",
     "text": [
      "('school', 'class', 'window', 'boared', 'notebook')\n"
     ]
    }
   ],
   "source": [
    "# 2.Add tuple to a tuple\n",
    "tuplelist2=(\"school\", \"class\", \"window\", \"boared\")\n",
    "x=(\"notebook\",)\n",
    "tuplelist2 += x\n",
    "print(tuplelist2)"
   ]
  },
  {
   "cell_type": "code",
   "execution_count": 19,
   "id": "c04b7d87",
   "metadata": {},
   "outputs": [
    {
     "name": "stdout",
     "output_type": "stream",
     "text": [
      "('school', 'class', 'boared', 'teacher')\n"
     ]
    }
   ],
   "source": [
    "# Remove Items\n",
    "tuplelist3=(\"school\", \"class\", \"banana\", \"boared\", \"teacher\")\n",
    "y=list(tuplelist3)\n",
    "y.remove(\"banana\")\n",
    "tuplelist3=tuple(y)\n",
    "print(tuplelist3)"
   ]
  },
  {
   "cell_type": "markdown",
   "id": "171a357b",
   "metadata": {},
   "source": [
    "# Loop Tuple"
   ]
  },
  {
   "cell_type": "code",
   "execution_count": 20,
   "id": "4bb02994",
   "metadata": {},
   "outputs": [
    {
     "name": "stdout",
     "output_type": "stream",
     "text": [
      "school\n",
      "class\n",
      "window\n",
      "boared\n",
      "teacher\n"
     ]
    }
   ],
   "source": [
    "# Using for\n",
    "tuplelist=(\"school\", \"class\", \"window\", \"boared\", \"teacher\")\n",
    "for x in tuplelist:\n",
    "    print(x)"
   ]
  },
  {
   "cell_type": "code",
   "execution_count": 22,
   "id": "f5233121",
   "metadata": {},
   "outputs": [
    {
     "name": "stdout",
     "output_type": "stream",
     "text": [
      "school\n",
      "class\n",
      "window\n",
      "boared\n",
      "teacher\n"
     ]
    }
   ],
   "source": [
    "# Using While\n",
    "tuplelist2=(\"school\", \"class\", \"window\", \"boared\", \"teacher\")\n",
    "y=0\n",
    "while y <len(tuplelist2):\n",
    "    print(tuplelist2[y])\n",
    "    y=y+1\n"
   ]
  },
  {
   "cell_type": "code",
   "execution_count": 24,
   "id": "83e17974",
   "metadata": {},
   "outputs": [
    {
     "name": "stdout",
     "output_type": "stream",
     "text": [
      "school\n",
      "window\n",
      "teacher\n"
     ]
    }
   ],
   "source": [
    "tuplelist3=(\"school\", \"class\", \"window\", \"boared\", \"teacher\")\n",
    "x=0\n",
    "while x <len(tuplelist3):\n",
    "    print(tuplelist3[x])\n",
    "    x=x+2"
   ]
  },
  {
   "cell_type": "markdown",
   "id": "11414255",
   "metadata": {},
   "source": [
    "# Join Tuple  "
   ]
  },
  {
   "cell_type": "code",
   "execution_count": 25,
   "id": "98ce1b65",
   "metadata": {},
   "outputs": [
    {
     "name": "stdout",
     "output_type": "stream",
     "text": [
      "('a', 'b', 'c', 'd', 1, 3, 7, 9, 5)\n"
     ]
    }
   ],
   "source": [
    "# Join Two tuple\n",
    "tuple1=(\"a\",\"b\", \"c\",\"d\")\n",
    "tuple2=(1,3,7,9,5,)\n",
    "tuple3= tuple1+ tuple2\n",
    "print(tuple3)"
   ]
  },
  {
   "cell_type": "code",
   "execution_count": 27,
   "id": "1d79f30c",
   "metadata": {},
   "outputs": [
    {
     "name": "stdout",
     "output_type": "stream",
     "text": [
      "('apple', 'cherry', 'grapes', 'apple', 'cherry', 'grapes', 'apple', 'cherry', 'grapes')\n"
     ]
    }
   ],
   "source": [
    "# Multiply Tuple\n",
    "tuplelist=(\"apple\", \"cherry\", \"grapes\")\n",
    "mytuple= tuplelist*3\n",
    "print(mytuple)"
   ]
  },
  {
   "cell_type": "markdown",
   "id": "b56bbfab",
   "metadata": {},
   "source": [
    "# set"
   ]
  },
  {
   "cell_type": "code",
   "execution_count": 2,
   "id": "443a55b1",
   "metadata": {},
   "outputs": [
    {
     "name": "stdout",
     "output_type": "stream",
     "text": [
      "5\n",
      "4\n"
     ]
    }
   ],
   "source": [
    "# len\n",
    "set1={\"apple\", \"banana\",\"grapes\", \"orange\",\"kiwi\"}\n",
    "print(len(set1))\n",
    "\n",
    "set2={\"school\", \"class\", \"window\", \"boared\"}\n",
    "print(len(set2))"
   ]
  },
  {
   "cell_type": "code",
   "execution_count": 4,
   "id": "ed0213d2",
   "metadata": {},
   "outputs": [
    {
     "name": "stdout",
     "output_type": "stream",
     "text": [
      "{'cherry', 'apple', 'banana', 'kiwi'}\n",
      "{'class', 'school', 'window', 'boared'}\n"
     ]
    }
   ],
   "source": [
    "# Duplicate Not Allowed\n",
    "set1={\"apple\", \"banana\",\"cherry\",\"apple\", \"kiwi\",\"cherry\"}\n",
    "print(set1)\n",
    "\n",
    "set2={\"school\", \"class\", \"window\", \"boared\", \"window\",\"boared\"}\n",
    "print(set2)"
   ]
  },
  {
   "cell_type": "code",
   "execution_count": 5,
   "id": "4d97eb44",
   "metadata": {},
   "outputs": [
    {
     "name": "stdout",
     "output_type": "stream",
     "text": [
      "{'cherry', 'apple', 'banana', 'orange'}\n",
      "{1, 3, 4, 6, 7, 8, 9}\n",
      "{False, True}\n"
     ]
    }
   ],
   "source": [
    "# Store any data type\n",
    "set1={\"apple\", \"cherry\", \"banana\",\"orange\"}\n",
    "set2={1,6,4,8,4,3,9,7}\n",
    "set3={True ,False, True, False, True}\n",
    "\n",
    "print(set1)\n",
    "print(set2)\n",
    "print(set3)"
   ]
  },
  {
   "cell_type": "code",
   "execution_count": 7,
   "id": "7fb6cd1e",
   "metadata": {},
   "outputs": [
    {
     "name": "stdout",
     "output_type": "stream",
     "text": [
      "{'school', 'apple', 'false', '23', 'True', '71'}\n",
      "{False, True, 67, 7, 'teacher', 'kiwi', 41}\n"
     ]
    }
   ],
   "source": [
    "#cantain any data type\n",
    "set={\"school\", \"apple\", \"True\", \"23\",\"false\",\"71\"}\n",
    "print(set)\n",
    "\n",
    "set1={\"teacher\", \"kiwi\",41 , False, 7 , True, 67}\n",
    "print(set1)"
   ]
  },
  {
   "cell_type": "code",
   "execution_count": 8,
   "id": "1797112f",
   "metadata": {},
   "outputs": [
    {
     "name": "stdout",
     "output_type": "stream",
     "text": [
      "<class 'set'>\n"
     ]
    }
   ],
   "source": [
    "settype={\"school\", \"class\", \"window\", \"boared\", \"teacher\"}\n",
    "print(type(settype))"
   ]
  },
  {
   "cell_type": "code",
   "execution_count": 1,
   "id": "4af4c01c",
   "metadata": {},
   "outputs": [
    {
     "name": "stdout",
     "output_type": "stream",
     "text": [
      "{'teacher', 'class', 'boared', 'school', 'window'}\n",
      "<class 'set'>\n"
     ]
    }
   ],
   "source": [
    "# The set() Constructer\n",
    "set1= set((\"school\", \"class\", \"window\", \"boared\", \"teacher\"))\n",
    "print(set1)\n",
    "print(type(set1))\n"
   ]
  },
  {
   "cell_type": "markdown",
   "id": "9034048d",
   "metadata": {},
   "source": [
    "# Access set items"
   ]
  },
  {
   "cell_type": "code",
   "execution_count": 4,
   "id": "6c91e9ce",
   "metadata": {},
   "outputs": [
    {
     "name": "stdout",
     "output_type": "stream",
     "text": [
      "class\n",
      "boared\n",
      "window\n",
      "school\n",
      "apple\n",
      "cherry\n",
      "banana\n",
      "grapes\n"
     ]
    }
   ],
   "source": [
    "#loop\n",
    "set1={\"school\", \"class\", \"window\", \"boared\"}\n",
    "for x in set1:\n",
    "    print(x)\n",
    "    \n",
    "    \n",
    "set2={\"apple\", \"banana\", \"cherry\", \"grapes\"}\n",
    "for y in set2:\n",
    "    print(y)"
   ]
  },
  {
   "cell_type": "code",
   "execution_count": 6,
   "id": "811cec2a",
   "metadata": {},
   "outputs": [
    {
     "name": "stdout",
     "output_type": "stream",
     "text": [
      "True\n",
      "False\n"
     ]
    }
   ],
   "source": [
    "# If\n",
    "thisset={\"school\", \"class\", \"window\", \"boared\"}\n",
    "print(\"class\" in thisset)\n",
    "\n",
    "set2={\"school\", \"class\", \"window\", \"boared\", \"teacher\"}\n",
    "print(\"banaan\" in set2)"
   ]
  },
  {
   "cell_type": "markdown",
   "id": "90e2d135",
   "metadata": {},
   "source": [
    "# Add set item"
   ]
  },
  {
   "cell_type": "code",
   "execution_count": 8,
   "id": "75298741",
   "metadata": {},
   "outputs": [
    {
     "name": "stdout",
     "output_type": "stream",
     "text": [
      "{'cherry', 'orange', 'grapes', 'kiwi', 'banana'}\n",
      "{'teacher', 'class', 'boared', 'school', 'window'}\n"
     ]
    }
   ],
   "source": [
    "# Using add\n",
    "\n",
    "thisset={\"banana\", \"orange\", \"kiwi\", \"cherry\"}\n",
    "thisset.add(\"grapes\")\n",
    "print(thisset)\n",
    "\n",
    "thisset2={\"school\", \"class\", \"window\", \"boared\"}\n",
    "thisset2.add(\"teacher\")\n",
    "print(thisset2)"
   ]
  },
  {
   "cell_type": "code",
   "execution_count": 2,
   "id": "0c0cfdf0",
   "metadata": {},
   "outputs": [
    {
     "name": "stdout",
     "output_type": "stream",
     "text": [
      "{'banaan', 'apple', 'boared', 'cherry', 'Kiwi', 'teacher', 'class', 'school'}\n",
      "{'pineapple', 'cariar', 'teacher', 'book', 'watermelon', 'muskmelon', 'study', 'custeredapple'}\n"
     ]
    }
   ],
   "source": [
    "# Using Update\n",
    "set1={\"apple\", \"cherry\", \"Kiwi\", \"banaan\"}\n",
    "set2={\"school\", \"class\", \"boared\", \"teacher\"}\n",
    "set1.update(set2)\n",
    "print(set1)\n",
    "\n",
    "\n",
    "set3={\"pineapple\", \"custeredapple\", \"watermelon\", \"muskmelon\"}\n",
    "set4={\"teacher\", \"study\", \"book\",\"cariar\" }\n",
    "set3.update(set4)\n",
    "print(set3)"
   ]
  },
  {
   "cell_type": "code",
   "execution_count": 5,
   "id": "1a1827a4",
   "metadata": {},
   "outputs": [
    {
     "name": "stdout",
     "output_type": "stream",
     "text": [
      "{'pineapple', 'cherry', 'class', 'banana', 'school', 'window'}\n"
     ]
    }
   ],
   "source": [
    "# Add Any Iterable\n",
    "thisset={\"pineapple\", \"banana\",\"cherry\"}\n",
    "thislist=[\"school\", \"class\", \"window\"]\n",
    "thisset.update(thislist)\n",
    "print(thisset)"
   ]
  },
  {
   "cell_type": "markdown",
   "id": "a96c8edc",
   "metadata": {},
   "source": [
    "# Remove set Items"
   ]
  },
  {
   "cell_type": "code",
   "execution_count": 11,
   "id": "ee338545",
   "metadata": {},
   "outputs": [
    {
     "name": "stdout",
     "output_type": "stream",
     "text": [
      "{'boared', 'teacher', 'class', 'school'}\n",
      "{'orange', 'mango', 'cherry', 'grapes'}\n"
     ]
    }
   ],
   "source": [
    "# Using remove\n",
    "set1={\"school\", \"class\", \"window\", \"boared\", \"teacher\"}\n",
    "set1.remove(\"window\")\n",
    "print(set1)\n",
    "\n",
    "set2={\"cherry\", \"orange\", \"grapes\", \"mango\",\"pineapple\"}\n",
    "set2.remove('pineapple')\n",
    "print(set2)"
   ]
  },
  {
   "cell_type": "code",
   "execution_count": 12,
   "id": "88ed9ad1",
   "metadata": {},
   "outputs": [
    {
     "name": "stdout",
     "output_type": "stream",
     "text": [
      "{'cherry', 'apple', 'grapes'}\n",
      "{'boared', 'class', 'school', 'window'}\n"
     ]
    }
   ],
   "source": [
    "# Using discard\n",
    "set3={\"apple\", \"cherry\", \"grapes\", \"muskmelon\"}\n",
    "set3.discard(\"muskmelon\")\n",
    "print(set3)\n",
    "\n",
    "\n",
    "set4={\"school\", \"class\", \"window\", \"boared\",\"holiday\"}\n",
    "set4.remove(\"holiday\")\n",
    "print(set4)"
   ]
  },
  {
   "cell_type": "code",
   "execution_count": 15,
   "id": "c31a91d0",
   "metadata": {},
   "outputs": [
    {
     "name": "stdout",
     "output_type": "stream",
     "text": [
      "{'teacher', 'class', 'school', 'window'}\n"
     ]
    }
   ],
   "source": [
    "# Using pop\n",
    "thisset={\"school\", \"class\", \"window\", \"boared\", \"teacher\"}\n",
    "thisset.pop()\n",
    "print(thisset)\n",
    "    "
   ]
  },
  {
   "cell_type": "code",
   "execution_count": 18,
   "id": "fde4a838",
   "metadata": {},
   "outputs": [
    {
     "name": "stdout",
     "output_type": "stream",
     "text": [
      "set()\n",
      "set()\n"
     ]
    }
   ],
   "source": [
    "thisset2={\"school\", \"class\", \"window\", \"boared\", \"teacher\"}\n",
    "thisset2.clear()\n",
    "print(thisset2)\n",
    "\n",
    "thisset3={\"orange\", \"mango\",\"grapes\", \"cherry\"}\n",
    "thisset3.clear()\n",
    "print(thisset3)"
   ]
  },
  {
   "cell_type": "markdown",
   "id": "08617202",
   "metadata": {},
   "source": [
    "# Join sets"
   ]
  },
  {
   "cell_type": "code",
   "execution_count": 20,
   "id": "3b774e75",
   "metadata": {},
   "outputs": [
    {
     "name": "stdout",
     "output_type": "stream",
     "text": [
      "{'orange', 'wikipedia', 'microsoft', 'cherry', 'google', 'mango', 'grapes'}\n",
      "{'pineapple', 'apple', 'cherry', 'grapes', 'banana'}\n"
     ]
    }
   ],
   "source": [
    "# Using Union\n",
    "set1={\"cherry\", \"grapes\", \"mango\", \"orange\"}\n",
    "set2={\"google\", \"wikipedia\", \"mango\", \"microsoft\"}\n",
    "set3= set1.union(set2)\n",
    "print(set3)\n",
    "\n",
    "\n",
    "\n",
    "set3={\"apple\", \"banana\",\"pineapple\"}\n",
    "set4={\"cherry\", \"grapes\", \"banana\"}\n",
    "set5=set3.union(set4)\n",
    "print(set5)"
   ]
  },
  {
   "cell_type": "code",
   "execution_count": 22,
   "id": "bf15ffda",
   "metadata": {},
   "outputs": [
    {
     "name": "stdout",
     "output_type": "stream",
     "text": [
      "{'orange', 'wikipedia', 'microsoft', 'cherry', 'google', 'mango', 'grapes'}\n",
      "{'pineapple', 'apple', 'cherry', 'grapes', 'banana'}\n"
     ]
    }
   ],
   "source": [
    "#Using update\n",
    "\n",
    "set1={\"cherry\", \"grapes\", \"mango\", \"orange\"}\n",
    "set2={\"google\",\"wikipedia\", \"mango\", \"microsoft\"}\n",
    "set1.update(set2)\n",
    "print(set1)\n",
    "\n",
    "\n",
    "set3={\"apple\",\"banana\" , \"pineapple\"}\n",
    "set4={\"cherry\", \"grapes\",\"banana\"}\n",
    "set3.update(set4)\n",
    "print(set3)"
   ]
  },
  {
   "cell_type": "code",
   "execution_count": 3,
   "id": "867293a8",
   "metadata": {},
   "outputs": [
    {
     "name": "stdout",
     "output_type": "stream",
     "text": [
      "{'mango'}\n",
      "{'banana'}\n"
     ]
    }
   ],
   "source": [
    "# intersection-update\n",
    "set1={\"cherry\", \"grapes\", \"mango\", \"orange\"}\n",
    "set2={\"google\",\"wikipedia\", \"mango\", \"microsoft\"}\n",
    "set1.intersection_update(set2)\n",
    "print(set1)\n",
    "\n",
    "\n",
    "set3={\"apple\",\"banana\" , \"pineapple\"}\n",
    "set4={\"cherry\", \"grapes\",\"banana\"}\n",
    "set3.intersection_update(set4)\n",
    "print(set3)"
   ]
  },
  {
   "cell_type": "code",
   "execution_count": 5,
   "id": "88b87ad5",
   "metadata": {},
   "outputs": [
    {
     "name": "stdout",
     "output_type": "stream",
     "text": [
      "{'mango'}\n",
      "{'banana'}\n"
     ]
    }
   ],
   "source": [
    "#intersection\n",
    "set1={\"cherry\", \"grapes\", \"mango\", \"orange\"}\n",
    "set2={\"google\",\"wikipedia\", \"mango\", \"microsoft\"}\n",
    "set3= set1.intersection(set2)\n",
    "print(set3)\n",
    "\n",
    "\n",
    "set3={\"apple\",\"banana\" , \"pineapple\"}\n",
    "set4={\"cherry\", \"grapes\",\"banana\"}\n",
    "set5= set3.intersection(set4)\n",
    "print(set5)"
   ]
  },
  {
   "cell_type": "code",
   "execution_count": 8,
   "id": "961c2104",
   "metadata": {},
   "outputs": [
    {
     "name": "stdout",
     "output_type": "stream",
     "text": [
      "{'cherry', 'wikipedia', 'microsoft', 'google', 'grapes', 'orange'}\n",
      "{'cherry', 'pineapple', 'apple', 'grapes'}\n"
     ]
    }
   ],
   "source": [
    "# symmetric_diffrence_update\n",
    "set1={\"cherry\", \"grapes\", \"mango\", \"orange\"}\n",
    "set2={\"google\",\"wikipedia\", \"mango\", \"microsoft\"}\n",
    "set1.symmetric_difference_update(set2)\n",
    "print(set1)\n",
    "\n",
    "\n",
    "set3={\"apple\",\"banana\" , \"pineapple\"}\n",
    "set4={\"cherry\", \"grapes\",\"banana\"}\n",
    "set3.symmetric_difference_update(set4)\n",
    "print(set3)"
   ]
  },
  {
   "cell_type": "code",
   "execution_count": 10,
   "id": "f30111b2",
   "metadata": {},
   "outputs": [
    {
     "name": "stdout",
     "output_type": "stream",
     "text": [
      "{'cherry', 'microsoft', 'google', 'orange', 'grapes', 'wikipedia'}\n",
      "{'pineapple', 'apple', 'cherry', 'grapes'}\n"
     ]
    }
   ],
   "source": [
    "# symmetric_difference\n",
    "set1={\"cherry\", \"grapes\", \"mango\", \"orange\"}\n",
    "set2={\"google\",\"wikipedia\", \"mango\", \"microsoft\"}\n",
    "set3= set1.symmetric_difference(set2)\n",
    "print(set3)\n",
    "\n",
    "\n",
    "set3={\"apple\",\"banana\" , \"pineapple\"}\n",
    "set4={\"cherry\", \"grapes\",\"banana\"}\n",
    "set5= set3.symmetric_difference(set4)\n",
    "print(set5)"
   ]
  },
  {
   "cell_type": "markdown",
   "id": "b7af46e6",
   "metadata": {},
   "source": [
    "# Dictionaries"
   ]
  },
  {
   "cell_type": "code",
   "execution_count": 13,
   "id": "1e0e48a1",
   "metadata": {},
   "outputs": [
    {
     "name": "stdout",
     "output_type": "stream",
     "text": [
      "{'brand': 'ford', 'modle': 'mustang', 'year': 1989}\n"
     ]
    }
   ],
   "source": [
    "# Duplicates not allowed\n",
    "thisdic={\n",
    "\"brand\": \"ford\",\n",
    "\"modle\": \"mustang\",\n",
    "\"year\": 1940,\n",
    "\"year\": 1989 \n",
    "}\n",
    "print(thisdic)"
   ]
  },
  {
   "cell_type": "code",
   "execution_count": 15,
   "id": "9f139f0c",
   "metadata": {},
   "outputs": [
    {
     "name": "stdout",
     "output_type": "stream",
     "text": [
      "3\n",
      "4\n"
     ]
    }
   ],
   "source": [
    "#len \n",
    "thisdic={\n",
    "\"brand\": \"ford\",\n",
    "\"modle\": \"mustang\",\n",
    "\"year\": 1940,\n",
    "}\n",
    "print(len(thisdic))\n",
    "\n",
    "\n",
    "thisdic={\n",
    "\n",
    "\"Name\" : \"Hazra\",\n",
    "\"surname\" : \"khan\",\n",
    "\"Age\" : 21,\n",
    "\"Hobby\": \"cooking\"\n",
    "}\n",
    "print(len(thisdic))\n"
   ]
  },
  {
   "cell_type": "code",
   "execution_count": 16,
   "id": "deadf280",
   "metadata": {},
   "outputs": [
    {
     "name": "stdout",
     "output_type": "stream",
     "text": [
      "{'Name': 'Hazra', 'Age': 20, 'talented': True, 'Hobby': ['cooking', 'reading', 'Daceing']}\n"
     ]
    }
   ],
   "source": [
    "# Any Data Type\n",
    "thisdic= {\n",
    "    \n",
    "\"Name\"  : \"Hazra\",\n",
    "\"Age\"   :  20,\n",
    "\"talented\": True,\n",
    " \"Hobby\"  : [\"cooking\", \"reading\",\"Daceing\"],\n",
    "}\n",
    "print(thisdic)"
   ]
  },
  {
   "cell_type": "code",
   "execution_count": 17,
   "id": "6da4917e",
   "metadata": {},
   "outputs": [
    {
     "name": "stdout",
     "output_type": "stream",
     "text": [
      "<class 'dict'>\n"
     ]
    }
   ],
   "source": [
    "thisdic={\n",
    "\"brand\": \"ford\",\n",
    "\"modle\": \"mustang\",\n",
    "\"year\": 1940,\n",
    "\"year\": 1989 \n",
    "}\n",
    "print(type(thisdic))"
   ]
  },
  {
   "cell_type": "markdown",
   "id": "aa03f6ca",
   "metadata": {},
   "source": [
    "# Access Items\n"
   ]
  },
  {
   "cell_type": "code",
   "execution_count": 20,
   "id": "88c2f1b2",
   "metadata": {},
   "outputs": [
    {
     "name": "stdout",
     "output_type": "stream",
     "text": [
      "ford\n"
     ]
    }
   ],
   "source": [
    "dic1={\n",
    "\"brand\": \"ford\",\n",
    "\"modle\": \"mustang\",\n",
    "\"year\": 1940,\n",
    "\"year\": 1989 \n",
    "}\n",
    "x=dic1[\"brand\"]\n",
    "print(x)\n"
   ]
  },
  {
   "cell_type": "code",
   "execution_count": 23,
   "id": "6100a127",
   "metadata": {},
   "outputs": [
    {
     "name": "stdout",
     "output_type": "stream",
     "text": [
      "mustang\n"
     ]
    }
   ],
   "source": [
    "# Using Get\n",
    "dic2={\n",
    "\"brand\": \"ford\",\n",
    "\"model\": \"mustang\",\n",
    "\"year\": 1940,\n",
    "}\n",
    "y=dic2.get(\"model\")\n",
    "print(y)\n"
   ]
  },
  {
   "cell_type": "code",
   "execution_count": 3,
   "id": "a1eb705e",
   "metadata": {},
   "outputs": [
    {
     "name": "stdout",
     "output_type": "stream",
     "text": [
      "dict_keys(['brand', 'modle', 'year'])\n",
      "dict_keys(['brand', 'modle', 'year', 'color'])\n"
     ]
    }
   ],
   "source": [
    "# Kyes\n",
    "dic3={\n",
    "\"brand\": \"ford\",\n",
    "\"modle\": \"mustang\",\n",
    "\"year\": 1940,\n",
    "}\n",
    "z= dic3.keys()\n",
    "print(z)\n",
    "\n",
    "dic3[\"color\"]=\"red\"\n",
    "print(z)\n",
    "\n",
    "\n"
   ]
  },
  {
   "cell_type": "code",
   "execution_count": 28,
   "id": "dbdc37d6",
   "metadata": {},
   "outputs": [
    {
     "name": "stdout",
     "output_type": "stream",
     "text": [
      "dict_values(['ford', 'mustang', 1940])\n",
      "dict_values(['ford', 'mustang', 1940, 'white'])\n"
     ]
    }
   ],
   "source": [
    "# Values\n",
    "dic4={\n",
    "\"brand\": \"ford\",\n",
    "\"modle\": \"mustang\",\n",
    "\"year\": 1940,\n",
    "}\n",
    "a=dic4.values()\n",
    "print(a) # before changes\n",
    "\n",
    "dic4[\"color\"]= \"white\"\n",
    "print(a) # after changes"
   ]
  },
  {
   "cell_type": "code",
   "execution_count": 1,
   "id": "7ab6ad0f",
   "metadata": {},
   "outputs": [
    {
     "name": "stdout",
     "output_type": "stream",
     "text": [
      "dict_items([('brand', 'ford'), ('modle', 'mustang'), ('year', 1940)])\n",
      "dict_items([('brand', 'ford'), ('modle', 'mustang'), ('year', 1940), ('color', 'red')])\n"
     ]
    }
   ],
   "source": [
    "# Items\n",
    "dic5={\n",
    "\"brand\": \"ford\",\n",
    "\"modle\": \"mustang\",\n",
    "\"year\": 1940,\n",
    "}\n",
    "b=dic5.items() # before changes\n",
    "print(b)\n",
    "\n",
    "dic5[\"color\"]= \"red\" \n",
    "print(b) # after changes\n"
   ]
  },
  {
   "cell_type": "code",
   "execution_count": 10,
   "id": "3a224902",
   "metadata": {},
   "outputs": [
    {
     "name": "stdout",
     "output_type": "stream",
     "text": [
      "yes, 'year', is present in dictionary\n",
      "NO, 'qualifition' is not in dictionary set.\n"
     ]
    }
   ],
   "source": [
    "# If condition \n",
    "dic1= {\n",
    "\"brand\": \"ford\",\n",
    "\"modle\": \"mustang\",\n",
    "\"year\": 1940,\n",
    "}\n",
    "if \"year\" in dic1:\n",
    "    print(\"yes, 'year', is present in dictionary\")\n",
    "    \n",
    "    \n",
    "dic2= {\n",
    "\n",
    "\"Name\"  :  \"iqra\",\n",
    "\"surname\": \"sheikh\",\n",
    "\"Age\"    :  \"10\"\n",
    "}\n",
    "if \"qualification\" not in dic2:\n",
    "    print(\"NO, 'qualifition' is not in dictionary set.\")\n"
   ]
  },
  {
   "cell_type": "markdown",
   "id": "a9b8b1cd",
   "metadata": {},
   "source": [
    "# Change Items\n"
   ]
  },
  {
   "cell_type": "code",
   "execution_count": 13,
   "id": "611c9a13",
   "metadata": {},
   "outputs": [
    {
     "name": "stdout",
     "output_type": "stream",
     "text": [
      "{'brand': 'maruti', 'modle': 'mustang', 'year': 1940}\n",
      "{'brand': 'maruti', 'modle': 'mustang', 'year': '1990'}\n"
     ]
    }
   ],
   "source": [
    "# using Keys\n",
    "\n",
    "dict1={\n",
    "\n",
    "\"brand\": \"ford\",\n",
    "\"modle\": \"mustang\",\n",
    "\"year\": 1940,\n",
    "}\n",
    "dict1[\"brand\"]=\"maruti\"\n",
    "print(dict1)\n",
    "\n",
    "dict1[\"year\"]=  \"1990\"\n",
    "print(dict1)"
   ]
  },
  {
   "cell_type": "code",
   "execution_count": 3,
   "id": "c04ad886",
   "metadata": {},
   "outputs": [
    {
     "name": "stdout",
     "output_type": "stream",
     "text": [
      "{'Name': 'yusuf', 'surname': 'sheikh', 'qualification': 10, 'Age': 13, 'qualifition': 7}\n",
      "{'brand': 'BMW', 'modle': 'mustang', 'year': 1940}\n"
     ]
    }
   ],
   "source": [
    "# using update\n",
    "dict2={\n",
    "    \n",
    "\"Name\"    :     \"yusuf\",\n",
    "\"surname\" :     \"sheikh\",\n",
    "\"qualification\" : 10,\n",
    "\"Age\"      :   13,\n",
    "}\n",
    "\n",
    "dict2.update({\"qualifition\" : 7})\n",
    "print(dict2)\n",
    "\n",
    "\n",
    "dict3= {\n",
    "    \n",
    "\"brand\": \"ford\",\n",
    "\"modle\": \"mustang\",\n",
    "\"year\": 1940,\n",
    "}\n",
    "\n",
    "dict3.update({\"brand\" : \"BMW\"})\n",
    "print(dict3)"
   ]
  },
  {
   "cell_type": "markdown",
   "id": "d962bfdf",
   "metadata": {},
   "source": [
    "# Add Items"
   ]
  },
  {
   "cell_type": "code",
   "execution_count": 6,
   "id": "8023990b",
   "metadata": {},
   "outputs": [
    {
     "name": "stdout",
     "output_type": "stream",
     "text": [
      "{'brand': 'ford', 'modle': 'mustang', 'year': 1940, 'year2': 1990}\n",
      "{'Name': 'Aaliya', 'surname': 'manihar', 'Age': 8, 'qualification': 3}\n"
     ]
    }
   ],
   "source": [
    "# Using Keys\n",
    "\n",
    "dict1= {\n",
    "\n",
    "\"brand\": \"ford\",\n",
    "\"modle\": \"mustang\",\n",
    "\"year\": 1940,\n",
    "}\n",
    "\n",
    "dict1[\"year2\"]= 1990\n",
    "print(dict1)}\n",
    "\n",
    "\n",
    "dict2={\n",
    " \n",
    "\"Name\"             :         \"Aaliya\",\n",
    "\"surname\"          :         \"manihar\",\n",
    "\"Age\"              :          8\n",
    "}\n",
    "\n",
    "dict2[\"qualification\"] =  3\n",
    "print(dict2)"
   ]
  },
  {
   "cell_type": "code",
   "execution_count": 8,
   "id": "b05a68ef",
   "metadata": {},
   "outputs": [
    {
     "name": "stdout",
     "output_type": "stream",
     "text": [
      "{'brand': 'ford', 'modle': 'mustang', 'year': 1940, 'year2': 1964}\n",
      "{'Name': 'Ahana', 'surname': 'manihar', 'Age': 8, 'qualification': 2}\n"
     ]
    }
   ],
   "source": [
    "# using Update\n",
    "dict1= {\n",
    "    \n",
    "\"brand\": \"ford\",\n",
    "\"modle\": \"mustang\",\n",
    "\"year\": 1940,\n",
    "}\n",
    "\n",
    "dict1.update({\"year2\" :  1964})\n",
    "print(dict1)\n",
    "\n",
    "\n",
    "dict2={\n",
    "\n",
    "\"Name\"             :         \"Ahana\",\n",
    "\"surname\"          :         \"manihar\",\n",
    "\"Age\"              :          8\n",
    "}\n",
    "\n",
    "dict2.update({\"qualification\" : 2})\n",
    "print(dict2)\n"
   ]
  },
  {
   "cell_type": "markdown",
   "id": "37665d1a",
   "metadata": {},
   "source": [
    "# Remove Items"
   ]
  },
  {
   "cell_type": "code",
   "execution_count": 12,
   "id": "f5cd0722",
   "metadata": {},
   "outputs": [
    {
     "name": "stdout",
     "output_type": "stream",
     "text": [
      "{'Name': 'Aaliya', 'Age': 8}\n",
      "{'modle': 'mustang', 'year': 1940}\n"
     ]
    }
   ],
   "source": [
    "#  Using pop methode\n",
    "\n",
    "dict1={\n",
    "\n",
    "\"Name\"             :         \"Aaliya\",\n",
    "\"surname\"          :         \"manihar\",\n",
    "\"Age\"              :          8\n",
    "}\n",
    "dict1.pop(\"surname\")\n",
    "print(dict1)\n",
    "\n",
    "dict2={\n",
    "\"brand\": \"ford\",\n",
    "\"modle\": \"mustang\",\n",
    "\"year\": 1940,\n",
    "}\n",
    "\n",
    "dict2.pop(\"brand\")\n",
    "print(dict2)\n"
   ]
  },
  {
   "cell_type": "code",
   "execution_count": 17,
   "id": "dd3e16b5",
   "metadata": {},
   "outputs": [
    {
     "name": "stdout",
     "output_type": "stream",
     "text": [
      "{'brand': 'ford', 'modle': 'mustang'}\n",
      "{'Name': 'Aiman', 'surname': 'manihar', 'Age': 9}\n"
     ]
    }
   ],
   "source": [
    "# Using popitem \n",
    "\n",
    "dict3={    \n",
    "\"brand\": \"ford\",\n",
    "\"modle\": \"mustang\",\n",
    "\"year\": 1940,\n",
    "}\n",
    "\n",
    "dict3.popitem()\n",
    "print(dict3)\n",
    "\n",
    "dict4={\n",
    "    \n",
    "\"Name\"             :         \"Aiman\",\n",
    "\"surname\"          :         \"manihar\",\n",
    "\"Age\"              :          9,\n",
    " \"qualification\"   :         3\n",
    "}\n",
    "dict4.popitem()\n",
    "print(dict4)\n"
   ]
  },
  {
   "cell_type": "code",
   "execution_count": 19,
   "id": "67defaa1",
   "metadata": {},
   "outputs": [
    {
     "name": "stdout",
     "output_type": "stream",
     "text": [
      "{'Name': 'Aaliya', 'surname': 'manihar', 'qualification': 3}\n",
      "{'brand': 'ford', 'modle': 'mustang'}\n"
     ]
    }
   ],
   "source": [
    "# using del\n",
    "\n",
    "dict5={\n",
    "    \n",
    "\"Name\"             :         \"Aaliya\",\n",
    "\"surname\"          :         \"manihar\",\n",
    "\"Age\"              :          8,\n",
    "\"qualification\"    :          3\n",
    "}\n",
    "\n",
    "del dict5[\"Age\"]\n",
    "print(dict5)\n",
    "\n",
    "dict5={\n",
    "\"brand\": \"ford\",\n",
    "\"modle\": \"mustang\",\n",
    "\"year\": 1940,\n",
    "}\n",
    "\n",
    "del dict5[\"year\"]\n",
    "print(dict5)\n"
   ]
  },
  {
   "cell_type": "code",
   "execution_count": 20,
   "id": "0760ca9f",
   "metadata": {},
   "outputs": [
    {
     "name": "stdout",
     "output_type": "stream",
     "text": [
      "{}\n"
     ]
    }
   ],
   "source": [
    "# using Clear Methode\n",
    "\n",
    "dict1={\n",
    "    \n",
    "\"brand\": \"ford\",\n",
    "\"modle\": \"mustang\",\n",
    "\"year\": 1940,\n",
    "}\n",
    "\n",
    "dict1.clear()\n",
    "print(dict1)\n",
    "    \n"
   ]
  },
  {
   "cell_type": "markdown",
   "id": "cfc8c917",
   "metadata": {},
   "source": [
    "# Loop Dictionaries"
   ]
  },
  {
   "cell_type": "code",
   "execution_count": 21,
   "id": "64cb959a",
   "metadata": {},
   "outputs": [
    {
     "name": "stdout",
     "output_type": "stream",
     "text": [
      "brand\n",
      "modle\n",
      "year\n"
     ]
    }
   ],
   "source": [
    "# print keys \n",
    "dict1={\n",
    "    \n",
    "\"brand\": \"ford\",\n",
    "\"modle\": \"mustang\",\n",
    "\"year\": 1940,\n",
    "}\n",
    "\n",
    "for x in dict1:\n",
    "    print(x)"
   ]
  },
  {
   "cell_type": "code",
   "execution_count": 22,
   "id": "e93c4867",
   "metadata": {},
   "outputs": [
    {
     "name": "stdout",
     "output_type": "stream",
     "text": [
      "Aaliya\n",
      "manihar\n",
      "8\n",
      "3\n"
     ]
    }
   ],
   "source": [
    "# print values\n",
    "\n",
    "dict2={\n",
    "    \n",
    "\"Name\"             :         \"Aaliya\",\n",
    "\"surname\"          :         \"manihar\",\n",
    "\"Age\"              :          8,\n",
    "\"qualification\"    :          3\n",
    "}\n",
    "for y in dict2:\n",
    "    print(dict2[y])"
   ]
  },
  {
   "cell_type": "code",
   "execution_count": 7,
   "id": "56f064e0",
   "metadata": {},
   "outputs": [
    {
     "name": "stdout",
     "output_type": "stream",
     "text": [
      "Aamina\n",
      "seikh\n",
      "10\n",
      "5\n",
      "ford\n",
      "mustang\n",
      "1940\n"
     ]
    }
   ],
   "source": [
    "# Also use values\n",
    "\n",
    "dict3={\n",
    "    \n",
    "\"Name\"             :         \"Aamina\",\n",
    "\"surname\"          :         \"seikh\",\n",
    "\"Age\"              :          10,\n",
    "\"qualification\"    :          5\n",
    "}\n",
    "\n",
    "for x in dict3.values():\n",
    "    print(x)\n",
    "        \n",
    " \n",
    "dict4= {\n",
    "     \n",
    "\"brand\": \"ford\",\n",
    "\"modle\": \"mustang\",\n",
    "\"year\": 1940,\n",
    " }\n",
    "for y in dict4.values():\n",
    "    print(y)\n"
   ]
  },
  {
   "cell_type": "code",
   "execution_count": 9,
   "id": "adbc942d",
   "metadata": {},
   "outputs": [
    {
     "name": "stdout",
     "output_type": "stream",
     "text": [
      "brand\n",
      "modle\n",
      "year\n",
      "Name\n",
      "surname\n",
      "Age\n",
      "qualification\n"
     ]
    }
   ],
   "source": [
    "# Also use keys \n",
    "\n",
    "dict5={\n",
    "    \n",
    "\"brand\": \"ford\",\n",
    "\"modle\": \"mustang\",\n",
    "\"year\": 1940,\n",
    "}\n",
    "\n",
    "for a in dict5.keys():\n",
    "    print(a)\n",
    "\n",
    "dict6={\n",
    "   \n",
    "\"Name\"             :         \"Aamina\",\n",
    "\"surname\"          :         \"seikh\",\n",
    "\"Age\"              :          10,\n",
    "\"qualification\"    :          5\n",
    "}\n",
    "for b in dict6.keys():\n",
    "    print(b)\n"
   ]
  },
  {
   "cell_type": "code",
   "execution_count": 11,
   "id": "ff9d3667",
   "metadata": {},
   "outputs": [
    {
     "name": "stdout",
     "output_type": "stream",
     "text": [
      "Name Aamina\n",
      "surname seikh\n",
      "Age 10\n",
      "qualification 5\n",
      "brand ford\n",
      "modle mustang\n",
      "year 1940\n"
     ]
    }
   ],
   "source": [
    "# using Items\n",
    "\n",
    "dict7={\n",
    "    \n",
    "\"Name\"             :         \"Aamina\",\n",
    "\"surname\"          :         \"seikh\",\n",
    "\"Age\"              :          10,\n",
    "\"qualification\"    :          5\n",
    "}\n",
    "\n",
    "for m,n in dict7.items():\n",
    "    print(m,n)\n",
    "    \n",
    "\n",
    "dict8={\n",
    "\"brand\": \"ford\",\n",
    "\"modle\": \"mustang\",\n",
    "\"year\": 1940,\n",
    "}\n",
    "\n",
    "for o,p in dict8.items():\n",
    "    print(o,p)\n"
   ]
  },
  {
   "cell_type": "markdown",
   "id": "dfb9266c",
   "metadata": {},
   "source": [
    "# copy Dictionaries\n",
    "\n"
   ]
  },
  {
   "cell_type": "code",
   "execution_count": 17,
   "id": "74eec198",
   "metadata": {},
   "outputs": [
    {
     "name": "stdout",
     "output_type": "stream",
     "text": [
      "{'brand': 'ford', 'modle': 'mustang', 'year': 1940}\n",
      "{'Name': 'Aamina', 'surname': 'seikh', 'Age': 10, 'qualification': 5}\n"
     ]
    }
   ],
   "source": [
    "# using copy\n",
    "dict1={\n",
    "     \n",
    "\"brand\": \"ford\",\n",
    "\"modle\": \"mustang\",\n",
    "\"year\": 1940,\n",
    " }\n",
    "mydict= dict1.copy()\n",
    "print(mydict)\n",
    "\n",
    "dict2={\n",
    "    \n",
    "\"Name\"             :         \"Aamina\",\n",
    "\"surname\"          :         \"seikh\",\n",
    "\"Age\"              :          10,\n",
    "\"qualification\"    :          5\n",
    "}\n",
    "thisdict= dict2.copy()\n",
    "print(thisdict)"
   ]
  },
  {
   "cell_type": "code",
   "execution_count": 19,
   "id": "bc4bf2af",
   "metadata": {},
   "outputs": [
    {
     "name": "stdout",
     "output_type": "stream",
     "text": [
      "{'brand': 'ford', 'modle': 'mustang', 'year': 1940}\n",
      "{'Name': 'Aamina', 'surname': 'seikh', 'Age': 10, 'qualification': 5}\n"
     ]
    }
   ],
   "source": [
    "# using dict()\n",
    "\n",
    "dict3={\n",
    "    \n",
    "\"brand\": \"ford\",\n",
    "\"modle\": \"mustang\",\n",
    "\"year\": 1940,\n",
    "}\n",
    "\n",
    "thisdict= dict(dict3)\n",
    "print(thisdict)\n",
    "\n",
    "\n",
    "dict4={    \n",
    "\"Name\"             :         \"Aamina\",\n",
    "\"surname\"          :         \"seikh\",\n",
    "\"Age\"              :          10,\n",
    "\"qualification\"    :          5\n",
    "}\n",
    "mydict= dict(dict4)\n",
    "print(mydict)\n"
   ]
  },
  {
   "cell_type": "markdown",
   "id": "083b8c2b",
   "metadata": {},
   "source": [
    "# Nested Dictionaries\n"
   ]
  },
  {
   "cell_type": "code",
   "execution_count": 22,
   "id": "316ef0fe",
   "metadata": {},
   "outputs": [
    {
     "name": "stdout",
     "output_type": "stream",
     "text": [
      "{'child1': {'Name': 'Emil', 'year': 2004}, 'child2': {'Name': 'Tobias', 'year': 2007}, 'child3': {'Name': 'Linus', ' year': 2010}}\n"
     ]
    }
   ],
   "source": [
    "myfamily={\n",
    "\"child1\"     : {\n",
    " \"Name\"      : \"Emil\",\n",
    " \"year\"      : 2004\n",
    "},\n",
    " \n",
    "\"child2\"  :  {\n",
    "\"Name\"    :  \"Tobias\",\n",
    "\"year\"    :   2007\n",
    "},\n",
    "\n",
    "\"child3\"  :  {\n",
    "\"Name\"    : \"Linus\",\n",
    "\" year\"   : 2010\n",
    "}\n",
    "}\n",
    "print(myfamily)"
   ]
  },
  {
   "cell_type": "code",
   "execution_count": 1,
   "id": "0b7db8eb",
   "metadata": {},
   "outputs": [
    {
     "ename": "SyntaxError",
     "evalue": "cannot assign to literal here. Maybe you meant '==' instead of '='? (2877428136.py, line 20)",
     "output_type": "error",
     "traceback": [
      "\u001b[1;36m  Input \u001b[1;32mIn [1]\u001b[1;36m\u001b[0m\n\u001b[1;33m    \"Child1\"   = Child1,\u001b[0m\n\u001b[1;37m    ^\u001b[0m\n\u001b[1;31mSyntaxError\u001b[0m\u001b[1;31m:\u001b[0m cannot assign to literal here. Maybe you meant '==' instead of '='?\n"
     ]
    }
   ],
   "source": [
    "# Add Three dictionaries into a dictionary\n",
    "\n",
    "Child1= {\n",
    "\"Name\"      :  \"Hazra\",\n",
    "\"Age\"      :  14,\n",
    "\"Height\"    :   4\n",
    "}\n",
    "Child2= {\n",
    "\"Name\"      :  \"Mubushra\",\n",
    "\"Age\"       :   11,\n",
    "\"Height\"    :   4\n",
    "}\n",
    "Child3= {\n",
    "\"Name\"      :  \"Iqra\",\n",
    "\"Age\"       :  10,\n",
    "\"Height\"    :  3\n",
    "}    \n",
    "\n",
    "myfamily= {\n",
    "\"Child1\"   = Child1,\n",
    "\"Child2\"   = Child2,\n",
    "\"Child3\"   = Child3\n",
    "}\n",
    "\n",
    "print(myfamily)"
   ]
  },
  {
   "cell_type": "markdown",
   "id": "4d1f5946",
   "metadata": {},
   "source": [
    "# STRING TASK QUS"
   ]
  },
  {
   "cell_type": "code",
   "execution_count": 3,
   "id": "771dfe79",
   "metadata": {},
   "outputs": [
    {
     "name": "stdout",
     "output_type": "stream",
     "text": [
      "The string is a palindrome.\n"
     ]
    }
   ],
   "source": [
    "# Program to check if a string is palindrome or not\n",
    "\n",
    "my_str = 'RACEcar'\n",
    "my_str = my_str.casefold()\n",
    "\n",
    "rev_str = reversed(my_str)\n",
    "\n",
    "if list(my_str) == list(rev_str):\n",
    "   print(\"The string is a palindrome.\")\n",
    "else:\n",
    "   print(\"The string is not a palindrome.\")\n",
    "\n"
   ]
  },
  {
   "cell_type": "code",
   "execution_count": 5,
   "id": "3158ad88",
   "metadata": {},
   "outputs": [
    {
     "name": "stdout",
     "output_type": "stream",
     "text": [
      "this Is My  First Task\n"
     ]
    }
   ],
   "source": [
    "2.\n",
    "a=\"this Is My\"\n",
    "b=\"First Task\"\n",
    "c=a+\"  \"+b\n",
    "print(c)\n",
    "\n"
   ]
  },
  {
   "cell_type": "code",
   "execution_count": 1,
   "id": "6908fade",
   "metadata": {},
   "outputs": [
    {
     "name": "stdout",
     "output_type": "stream",
     "text": [
      "['This', 'Is', 'first', 'Task']\n"
     ]
    }
   ],
   "source": [
    "3.\n",
    "def Convert(string):\n",
    "    li = list(string.split(\" \"))\n",
    "    return li\n",
    "  \n",
    "# Driver code    \n",
    "str1 = \"This Is first Task\"\n",
    "print(Convert(str1))\n"
   ]
  },
  {
   "cell_type": "code",
   "execution_count": 19,
   "id": "d6c0970c",
   "metadata": {},
   "outputs": [
    {
     "name": "stdout",
     "output_type": "stream",
     "text": [
      "Be\n",
      "positive\n",
      "Never\n",
      "give\n",
      "up\n"
     ]
    }
   ],
   "source": [
    " 4.\n",
    "mystr =\"Be positive  Never give up \"\n",
    "words=mystr.split()\n",
    "words.sort\n",
    "for word in words:\n",
    "    print(word)\n",
    "   \n",
    "    "
   ]
  },
  {
   "cell_type": "code",
   "execution_count": 5,
   "id": "10c58fcb",
   "metadata": {},
   "outputs": [
    {
     "name": "stdout",
     "output_type": "stream",
     "text": [
      "b\n",
      "a\n",
      "n\n",
      "a\n",
      "n\n",
      "a\n"
     ]
    }
   ],
   "source": [
    "5.\n",
    "# 1 LOOPING THRUOGH A STRING\n",
    "for x in \"banana\":\n",
    "    \n",
    "    print(x)\n"
   ]
  },
  {
   "cell_type": "code",
   "execution_count": 6,
   "id": "ca030c01",
   "metadata": {},
   "outputs": [
    {
     "name": "stdout",
     "output_type": "stream",
     "text": [
      "36\n"
     ]
    }
   ],
   "source": [
    "5.2\n",
    "# srting len\n",
    "a=\"In this world nothing is immpossible\"\n",
    "print(len(a))"
   ]
  },
  {
   "cell_type": "code",
   "execution_count": 8,
   "id": "f2cd2798",
   "metadata": {},
   "outputs": [
    {
     "name": "stdout",
     "output_type": "stream",
     "text": [
      "sitive , Never Give\n"
     ]
    }
   ],
   "source": [
    "5.3\n",
    "# Slicing\n",
    "b=\"Be positive , Never Give up\"\n",
    "print(b[5:24])"
   ]
  },
  {
   "cell_type": "code",
   "execution_count": 9,
   "id": "b415f668",
   "metadata": {},
   "outputs": [
    {
     "name": "stdout",
     "output_type": "stream",
     "text": [
      "BE , POSITIVE\n"
     ]
    }
   ],
   "source": [
    "5.4\n",
    "# Upper case\n",
    "x=\"Be , Positive\"\n",
    "print(x.upper())"
   ]
  },
  {
   "cell_type": "code",
   "execution_count": 10,
   "id": "f8310393",
   "metadata": {},
   "outputs": [
    {
     "name": "stdout",
     "output_type": "stream",
     "text": [
      "never give up ,try harder\n"
     ]
    }
   ],
   "source": [
    "5.5\n",
    "# Lower case\n",
    "b= \"Never Give Up ,Try Harder\"\n",
    "print(b.lower())\n"
   ]
  },
  {
   "cell_type": "code",
   "execution_count": 20,
   "id": "5aa213bf",
   "metadata": {},
   "outputs": [
    {
     "name": "stdout",
     "output_type": "stream",
     "text": [
      "Be ,positive.\n"
     ]
    }
   ],
   "source": [
    "5.5\n",
    "# Replace string\n",
    "y= \"we ,positive.\"\n",
    "print(y.replace(\"w\", \"B\"))\n"
   ]
  },
  {
   "cell_type": "code",
   "execution_count": 21,
   "id": "f289c4df",
   "metadata": {},
   "outputs": [
    {
     "name": "stdout",
     "output_type": "stream",
     "text": [
      "Never Give Up Python Is Easy\n"
     ]
    }
   ],
   "source": [
    "5.6\n",
    "# string concatention\n",
    "a=\"Never Give Up\"\n",
    "b=\"Python Is Easy\"\n",
    "c=a+ \" \" +b\n",
    "print(c)"
   ]
  },
  {
   "cell_type": "code",
   "execution_count": 25,
   "id": "565e7388",
   "metadata": {},
   "outputs": [
    {
     "name": "stdout",
     "output_type": "stream",
     "text": [
      "Sometime We Dont Know The Value Of Moment\n"
     ]
    }
   ],
   "source": [
    "5.7\n",
    "# title\n",
    "string=\"sometime we dont know the value of moment\"\n",
    "print(string.title())"
   ]
  },
  {
   "cell_type": "code",
   "execution_count": 28,
   "id": "a94d91eb",
   "metadata": {},
   "outputs": [
    {
     "name": "stdout",
     "output_type": "stream",
     "text": [
      "until its become a memory\n"
     ]
    }
   ],
   "source": [
    "5.8\n",
    "# casefold \n",
    "string= \"Until Its Become A Memory\"\n",
    "print(string.casefold())"
   ]
  },
  {
   "cell_type": "code",
   "execution_count": 27,
   "id": "6372665f",
   "metadata": {},
   "outputs": [
    {
     "name": "stdout",
     "output_type": "stream",
     "text": [
      "SOMETIME WE DONT KNOE THE VALUE OF MOMENT\n"
     ]
    }
   ],
   "source": [
    "5.9\n",
    "# swapcase\n",
    "string= \"sometime we dont knoe the value of moment\"\n",
    "print(string.swapcase())"
   ]
  },
  {
   "cell_type": "code",
   "execution_count": 32,
   "id": "187b2655",
   "metadata": {},
   "outputs": [
    {
     "name": "stdout",
     "output_type": "stream",
     "text": [
      "3\n"
     ]
    }
   ],
   "source": [
    "5.10 \n",
    "# join \n",
    "string1= \"sometime we dont knoe the value of moment\"\n",
    "print(string1.find (\"e\"))"
   ]
  },
  {
   "cell_type": "code",
   "execution_count": 5,
   "id": "36c89213",
   "metadata": {},
   "outputs": [
    {
     "name": "stdout",
     "output_type": "stream",
     "text": [
      "Hello \n",
      " , people\n",
      " Worl\n",
      " world\n"
     ]
    }
   ],
   "source": [
    "6.\n",
    "# slice from the start\n",
    "b=\"Hello , people\"\n",
    "print(b[ : 6])\n",
    "\n",
    "\n",
    "# slice from the end\n",
    "c= \"Hello , people\"\n",
    "print(c[5 : ])\n",
    "\n",
    "\n",
    "# negative\n",
    "d= \"Hello , World\"\n",
    "print(d[-6: -1])\n",
    "\n",
    "\n",
    "e=\"Hello world\"\n",
    "print(e[5 : 11])"
   ]
  },
  {
   "cell_type": "code",
   "execution_count": 1,
   "id": "2c74c99d",
   "metadata": {},
   "outputs": [
    {
     "data": {
      "text/plain": [
       "True"
      ]
     },
     "execution_count": 1,
     "metadata": {},
     "output_type": "execute_result"
    }
   ],
   "source": [
    "x= \"in this world nothing is immposible\"\n",
    "\"this\" in x \n",
    "    "
   ]
  },
  {
   "cell_type": "markdown",
   "id": "e6c3abdf",
   "metadata": {},
   "source": [
    "# If .....Else"
   ]
  },
  {
   "cell_type": "code",
   "execution_count": 6,
   "id": "0910a246",
   "metadata": {},
   "outputs": [
    {
     "name": "stdout",
     "output_type": "stream",
     "text": [
      "b is greater than a\n",
      "x is greater than y\n"
     ]
    }
   ],
   "source": [
    "# If\n",
    "a=33\n",
    "b=220\n",
    "if b > a:\n",
    "    print(\"b is greater than a\")\n",
    "\n",
    "\n",
    "    \n",
    "x=325\n",
    "y=150\n",
    "if x > y:\n",
    "    print(\"x is greater than y\")"
   ]
  },
  {
   "cell_type": "code",
   "execution_count": 8,
   "id": "8d8ec1b0",
   "metadata": {},
   "outputs": [
    {
     "name": "stdout",
     "output_type": "stream",
     "text": [
      "b is greater than a\n",
      "x is greater than y\n"
     ]
    }
   ],
   "source": [
    "# Elif\n",
    "a=44\n",
    "b=250\n",
    "if b < a:\n",
    "    print(\"b is less than a\")\n",
    "elif b > a:\n",
    "    print(\"b is greater than a\")\n",
    "\n",
    "    \n",
    "x=300\n",
    "y=250\n",
    "if y > x:\n",
    "    print(\"y is greater than x\")\n",
    "elif x > y :\n",
    "    print(\"x is greater than y\")"
   ]
  },
  {
   "cell_type": "code",
   "execution_count": 4,
   "id": "56dfc1af",
   "metadata": {},
   "outputs": [
    {
     "name": "stdout",
     "output_type": "stream",
     "text": [
      "'a' is greater than b\n"
     ]
    }
   ],
   "source": [
    "# Else\n",
    "a=250\n",
    "b=150\n",
    "if b> a:\n",
    "    print(\"b is greater than a\")\n",
    "elif b==a :\n",
    "    print(\"b and a are equal\")\n",
    "else: a> b\n",
    "print(\"'a' is greater than b\")\n"
   ]
  },
  {
   "cell_type": "code",
   "execution_count": 5,
   "id": "cabb4438",
   "metadata": {},
   "outputs": [
    {
     "name": "stdout",
     "output_type": "stream",
     "text": [
      "'m' and  n are equal\n"
     ]
    }
   ],
   "source": [
    "m=250\n",
    "n=250\n",
    "if m > n:\n",
    "    print(\"'m' is greater than n\")\n",
    "elif m < n:\n",
    "    print(\"'m' is less than n \")\n",
    "else:\n",
    "    print(\"'m' and  n are equal\")"
   ]
  },
  {
   "cell_type": "code",
   "execution_count": 8,
   "id": "f08306a2",
   "metadata": {},
   "outputs": [
    {
     "name": "stdout",
     "output_type": "stream",
     "text": [
      "q is greater than p\n"
     ]
    }
   ],
   "source": [
    "p=171\n",
    "q=200\n",
    "if p > q:\n",
    "    print(\"p is greater than q\")\n",
    "else:q >p\n",
    "print(\"q is greater than p\")"
   ]
  },
  {
   "cell_type": "code",
   "execution_count": 10,
   "id": "41e85e55",
   "metadata": {},
   "outputs": [
    {
     "name": "stdout",
     "output_type": "stream",
     "text": [
      "a is greater than b\n",
      "y is greater than x\n"
     ]
    }
   ],
   "source": [
    "# If short hand\n",
    "a=200\n",
    "b=195\n",
    "if a > b: print(\"a is greater than b\")\n",
    "    \n",
    "x=150\n",
    "y=160\n",
    "if y > x: print(\"y is greater than x\")"
   ]
  },
  {
   "cell_type": "code",
   "execution_count": 12,
   "id": "1d7b31ef",
   "metadata": {},
   "outputs": [
    {
     "data": {
      "text/plain": [
       "'a and b are equal'"
      ]
     },
     "execution_count": 12,
     "metadata": {},
     "output_type": "execute_result"
    }
   ],
   "source": [
    "# else short hand\n",
    "a=200\n",
    "b=200\n",
    "print(\"b is greater than a\")if b> a else (\"a and b are equal\")"
   ]
  },
  {
   "cell_type": "code",
   "execution_count": 15,
   "id": "16424883",
   "metadata": {},
   "outputs": [
    {
     "name": "stdout",
     "output_type": "stream",
     "text": [
      "b\n",
      "=\n"
     ]
    }
   ],
   "source": [
    "# one line if else statement whith three condition\n",
    "a= 400\n",
    "b= 450\n",
    "print(\"a\")if a > b else print(\"=\")if a==b else print(\"b\")\n",
    "\n",
    "\n",
    "x=251\n",
    "y=251\n",
    "print(\"x\")if x > y else print(\"y\")if y > x else print(\"=\")"
   ]
  },
  {
   "cell_type": "code",
   "execution_count": 19,
   "id": "7db558fe",
   "metadata": {},
   "outputs": [
    {
     "name": "stdout",
     "output_type": "stream",
     "text": [
      "both statement are right\n",
      "Both statement are right\n"
     ]
    }
   ],
   "source": [
    "# And\n",
    "a=400\n",
    "b=300\n",
    "c=350\n",
    "if a >b and c <a :\n",
    "    print(\"both statement are right\")\n",
    "    \n",
    "x=300\n",
    "y=305\n",
    "z= 150\n",
    "if y >x and x > z:\n",
    "    print(\"Both statement are right\")"
   ]
  },
  {
   "cell_type": "code",
   "execution_count": 20,
   "id": "0f1b1653",
   "metadata": {},
   "outputs": [
    {
     "name": "stdout",
     "output_type": "stream",
     "text": [
      "At least one of the condition are true\n"
     ]
    }
   ],
   "source": [
    "# or\n",
    "a= 400\n",
    "b=300\n",
    "c=350\n",
    "if a > c or b > c:\n",
    "    print(\"At least one of the condition are true\")"
   ]
  },
  {
   "cell_type": "code",
   "execution_count": 21,
   "id": "20464fce",
   "metadata": {},
   "outputs": [
    {
     "name": "stdout",
     "output_type": "stream",
     "text": [
      "above 20\n",
      "And also above 30\n"
     ]
    }
   ],
   "source": [
    "# Nested if\n",
    "y=53\n",
    "if y >20:\n",
    "    print(\"above 20\")\n",
    "if y >35:\n",
    "    print(\"And also above 30\")\n",
    "else:\n",
    "    print(\"but not above 60\")\n"
   ]
  },
  {
   "cell_type": "markdown",
   "id": "948492ae",
   "metadata": {},
   "source": [
    "# List Task\n"
   ]
  },
  {
   "cell_type": "code",
   "execution_count": 24,
   "id": "d5d26a06",
   "metadata": {},
   "outputs": [
    {
     "name": "stdout",
     "output_type": "stream",
     "text": [
      "['chilli', 'lady finger', 'brinjal']\n"
     ]
    }
   ],
   "source": [
    "#  5 diffrent list using comrehension\n",
    "vegitables=[\"cabbage\", \"chilli\", \"lady finger\", \"brinjal\", \"tomato\"]\n",
    "newlist=[x for x in vegitables if \"i\" in x]\n",
    "print(newlist)"
   ]
  },
  {
   "cell_type": "code",
   "execution_count": 33,
   "id": "9ac677f4",
   "metadata": {},
   "outputs": [
    {
     "name": "stdout",
     "output_type": "stream",
     "text": [
      "['cabbage', 'lady finger', 'brinjal', 'tomato']\n"
     ]
    }
   ],
   "source": [
    "# 1.2\n",
    "list1=[\"cabbage\", \"chilli\", \"lady finger\", \"brinjal\", \"tomato\"]\n",
    "newlist=[y for y in list1 if y!=\"chilli\"]\n",
    "print(newlist)\n"
   ]
  },
  {
   "cell_type": "code",
   "execution_count": 30,
   "id": "d0cb4c33",
   "metadata": {},
   "outputs": [
    {
     "name": "stdout",
     "output_type": "stream",
     "text": [
      "['apple', 'banana', 'mango', 'grapes', 'orange']\n"
     ]
    }
   ],
   "source": [
    "# 1.3\n",
    "list2=[\"apple\", \"banana\", \"mango\", \"grapes\", \"orange\"]\n",
    "newlist=[x for x in list2]\n",
    "print(newlist)"
   ]
  },
  {
   "cell_type": "code",
   "execution_count": 34,
   "id": "2c4997e2",
   "metadata": {},
   "outputs": [
    {
     "name": "stdout",
     "output_type": "stream",
     "text": [
      "[0, 3, 6, 9, 12, 15, 18]\n"
     ]
    }
   ],
   "source": [
    "# 1.4 \n",
    "list3=[x for x in range(21) if x%3 == 0]\n",
    "print(list3)"
   ]
  },
  {
   "cell_type": "code",
   "execution_count": 35,
   "id": "32eab267",
   "metadata": {},
   "outputs": [
    {
     "name": "stdout",
     "output_type": "stream",
     "text": [
      "[8, 9, 10, 11, 12, 13, 14]\n"
     ]
    }
   ],
   "source": [
    "#1.5\n",
    "list4=[y for y in range(15) if y >7]\n",
    "print(list4)"
   ]
  },
  {
   "cell_type": "code",
   "execution_count": 5,
   "id": "96bd2f12",
   "metadata": {},
   "outputs": [
    {
     "name": "stdout",
     "output_type": "stream",
     "text": [
      "450\n"
     ]
    }
   ],
   "source": [
    "# 2 print largest number\n",
    "list1=[ 19, 5, 13, 32, 40, 250, 400, 7,38, 450]\n",
    "x= max (list1)\n",
    "print(x)"
   ]
  },
  {
   "cell_type": "code",
   "execution_count": 36,
   "id": "6cece7e0",
   "metadata": {},
   "outputs": [
    {
     "name": "stdout",
     "output_type": "stream",
     "text": [
      "yes given number is present\n"
     ]
    }
   ],
   "source": [
    "#3 check given number is present or not\n",
    "list1=[3, 10, 17, 22, 39, 41]\n",
    "if 39 in list1:\n",
    "    print(\"yes given number is present\")"
   ]
  },
  {
   "cell_type": "code",
   "execution_count": 37,
   "id": "887d2584",
   "metadata": {},
   "outputs": [
    {
     "name": "stdout",
     "output_type": "stream",
     "text": [
      "['apple', 'banana', 'orange', 'mango', 'kiwi']\n"
     ]
    }
   ],
   "source": [
    "#4 Demonstrate any 10 methods\n",
    "# 4.1 append\n",
    "\n",
    "list1=[\"apple\", \"banana\", \"orange\", \"mango\"]\n",
    "list1.append(\"kiwi\")\n",
    "print(list1)\n"
   ]
  },
  {
   "cell_type": "code",
   "execution_count": 38,
   "id": "34bb40aa",
   "metadata": {},
   "outputs": [
    {
     "name": "stdout",
     "output_type": "stream",
     "text": [
      "['pineapple', 'watermelon', 'muskmelon', 'custered-apple']\n"
     ]
    }
   ],
   "source": [
    "# 4.2 copy\n",
    "list1=[\"pineapple\", \"watermelon\", \"muskmelon\", \"custered-apple\"]\n",
    "list2= list1.copy()\n",
    "print(list2)"
   ]
  },
  {
   "cell_type": "code",
   "execution_count": 39,
   "id": "959a1224",
   "metadata": {},
   "outputs": [
    {
     "name": "stdout",
     "output_type": "stream",
     "text": [
      "[]\n"
     ]
    }
   ],
   "source": [
    "# 4.3 clear\n",
    "list1=[\"cabbage\", \"chilli\", \"tomato\", \"potato\",\"brinjal\"]\n",
    "list1.clear()\n",
    "print(list1)\n"
   ]
  },
  {
   "cell_type": "code",
   "execution_count": 43,
   "id": "dc49e2d9",
   "metadata": {},
   "outputs": [
    {
     "name": "stdout",
     "output_type": "stream",
     "text": [
      "['cabbage', 'chilli', 'lady finger', 'brinjal', 'tomato', 'pineapple', 'watermelon', 'muskmelon', 'custered-apple']\n"
     ]
    }
   ],
   "source": [
    "# 4.4 extend\n",
    "list2=[\"cabbage\", \"chilli\", \"lady finger\", \"brinjal\", \"tomato\"]\n",
    "list3=[\"pineapple\", \"watermelon\", \"muskmelon\", \"custered-apple\"]\n",
    "list2.extend (list3)\n",
    "print(list2)"
   ]
  },
  {
   "cell_type": "code",
   "execution_count": 45,
   "id": "8ead18f0",
   "metadata": {},
   "outputs": [
    {
     "name": "stdout",
     "output_type": "stream",
     "text": [
      "['pineapple', 'watermelon', 'orange', 'muskmelon']\n"
     ]
    }
   ],
   "source": [
    "# 4.5 insert\n",
    "list1=[\"pineapple\", \"watermelon\", \"muskmelon\"]\n",
    "list1. insert(2, \"orange\")\n",
    "print(list1)\n",
    "\n"
   ]
  },
  {
   "cell_type": "code",
   "execution_count": 46,
   "id": "636ab186",
   "metadata": {},
   "outputs": [
    {
     "name": "stdout",
     "output_type": "stream",
     "text": [
      "['pineapple', 'watermelon', 'muskmelon']\n"
     ]
    }
   ],
   "source": [
    "# 4.6 pop\n",
    "list2=[\"pineapple\", \"watermelon\", \"muskmelon\", \"custered-apple\"]\n",
    "list2.pop()\n",
    "print(list2)"
   ]
  },
  {
   "cell_type": "code",
   "execution_count": 47,
   "id": "4e99b6e6",
   "metadata": {},
   "outputs": [
    {
     "name": "stdout",
     "output_type": "stream",
     "text": [
      "['pineapple', 'watermelon', 'muskmelon', 'custered-apple']\n"
     ]
    }
   ],
   "source": [
    "# 4.7 remove\n",
    "list3=[\"pineapple\", \"watermelon\", \"muskmelon\", \"orange\", \"custered-apple\"]\n",
    "list3.remove(\"orange\")\n",
    "print(list3)"
   ]
  },
  {
   "cell_type": "code",
   "execution_count": 48,
   "id": "fcf79618",
   "metadata": {},
   "outputs": [
    {
     "name": "stdout",
     "output_type": "stream",
     "text": [
      "['tomato', 'potato', 'chilli', 'cabbage', 'brinjal']\n"
     ]
    }
   ],
   "source": [
    "# 4.8 reverse\n",
    "list4=[\"cabbage\", \"chilli\", \"tomato\", \"potato\",\"brinjal\"]\n",
    "list4.sort(reverse= True)\n",
    "print(list4)"
   ]
  },
  {
   "cell_type": "code",
   "execution_count": 49,
   "id": "7c25ca46",
   "metadata": {},
   "outputs": [
    {
     "name": "stdout",
     "output_type": "stream",
     "text": [
      "['custered-apple', 'muskmelon', 'pineapple', 'watermelon']\n"
     ]
    }
   ],
   "source": [
    "# 4.9 sort\n",
    "list1=[\"pineapple\", \"watermelon\", \"muskmelon\", \"custered-apple\"]\n",
    "list1.sort()\n",
    "print(list1)"
   ]
  },
  {
   "cell_type": "code",
   "execution_count": 52,
   "id": "2a372939",
   "metadata": {},
   "outputs": [
    {
     "name": "stdout",
     "output_type": "stream",
     "text": [
      "3\n"
     ]
    }
   ],
   "source": [
    "# 4.10 index\n",
    "list1=[\"pineapple\", \"watermelon\", \"muskmelon\", \"orange\", \"mango\"]\n",
    "y=list1.index(\"orange\")\n",
    "print(y)"
   ]
  },
  {
   "cell_type": "code",
   "execution_count": 57,
   "id": "181b70b3",
   "metadata": {},
   "outputs": [
    {
     "name": "stdout",
     "output_type": "stream",
     "text": [
      "['orangecabbage']\n",
      "['orangecabbage', 'watermelontomato']\n",
      "['orangecabbage', 'watermelontomato', 'muskmelonpotato']\n"
     ]
    }
   ],
   "source": [
    "# 5 Add two list\n",
    "list1=[\"orange\", \"watermelon\", \"muskmelon\"]\n",
    "list2=[\"cabbage\", \"tomato\", \"potato\"]\n",
    "sum_list=[]\n",
    "for (item1,item2) in zip (list1,list2):\n",
    "    sum_list.append(item1+item2)\n",
    "    print(sum_list)\n",
    "\n",
    "\n"
   ]
  },
  {
   "cell_type": "code",
   "execution_count": 3,
   "id": "40c675dd",
   "metadata": {},
   "outputs": [
    {
     "name": "stdout",
     "output_type": "stream",
     "text": [
      "['pineapple', 'watermelon', 'muskmelon', 'orange', 'mango', 'kiwi']\n",
      "['pineapple', 'watermelon', 'muskmelon', 'orange']\n",
      "grapes\n"
     ]
    }
   ],
   "source": [
    "# 6 implement a stack using a list\n",
    "list1=[\"pineapple\", \"watermelon\", \"muskmelon\", \"orange\", \"mango\"]\n",
    "list1.append(\"kiwi\")\n",
    "print(list1)\n",
    "\n",
    "\n",
    "list2=[\"pineapple\", \"watermelon\", \"muskmelon\", \"orange\", \"mango\"]\n",
    "list2.pop()\n",
    "print(list2)\n",
    "\n",
    "list3=[\"pineapple\", \"watermelon\", \"muskmelon\", \"orange\", \"grapes\"]\n",
    "print(list3[-1])"
   ]
  },
  {
   "cell_type": "code",
   "execution_count": 4,
   "id": "bd4c5ae0",
   "metadata": {},
   "outputs": [
    {
     "name": "stdout",
     "output_type": "stream",
     "text": [
      "[4, 7, 8, 12, 15, 23, 31, 34]\n"
     ]
    }
   ],
   "source": [
    "# 7 sort given number in ascending list\n",
    "list1=[23,12,7, 34, 8, 4 ,15, 31]\n",
    "list1.sort()\n",
    "print(list1)"
   ]
  },
  {
   "cell_type": "markdown",
   "id": "3febca93",
   "metadata": {},
   "source": [
    "# While loops"
   ]
  },
  {
   "cell_type": "code",
   "execution_count": 6,
   "id": "e287394c",
   "metadata": {},
   "outputs": [
    {
     "name": "stdout",
     "output_type": "stream",
     "text": [
      "1\n",
      "2\n",
      "3\n",
      "4\n",
      "5\n",
      "6\n",
      "7\n"
     ]
    }
   ],
   "source": [
    "i=1 \n",
    "while i < 8:\n",
    "    print(i)\n",
    "    i +=1\n",
    "\n"
   ]
  },
  {
   "cell_type": "code",
   "execution_count": 8,
   "id": "abec0d93",
   "metadata": {},
   "outputs": [
    {
     "name": "stdout",
     "output_type": "stream",
     "text": [
      "1\n",
      "3\n",
      "5\n",
      "7\n",
      "9\n"
     ]
    }
   ],
   "source": [
    "i=1\n",
    "while i < 10:\n",
    "    print(i)\n",
    "    i += 2"
   ]
  },
  {
   "cell_type": "code",
   "execution_count": 4,
   "id": "c80b217a",
   "metadata": {},
   "outputs": [
    {
     "name": "stdout",
     "output_type": "stream",
     "text": [
      "1\n",
      "2\n",
      "3\n",
      "4\n",
      "5\n"
     ]
    }
   ],
   "source": [
    "# using break\n",
    "i=1\n",
    "while i < 10:\n",
    "    print(i)\n",
    "    if i==5:\n",
    "        break\n",
    "    i+= 1 \n",
    "    "
   ]
  },
  {
   "cell_type": "code",
   "execution_count": 26,
   "id": "9bef1884",
   "metadata": {},
   "outputs": [
    {
     "name": "stdout",
     "output_type": "stream",
     "text": [
      "1\n",
      "4\n",
      "7\n",
      "10\n"
     ]
    }
   ],
   "source": [
    "i=1\n",
    "while i < 11:\n",
    "    print(i)\n",
    "    if (i == 8):\n",
    "        break\n",
    "    i+= 3\n",
    "    \n"
   ]
  },
  {
   "cell_type": "code",
   "execution_count": 27,
   "id": "83834bff",
   "metadata": {},
   "outputs": [
    {
     "name": "stdout",
     "output_type": "stream",
     "text": [
      "2\n",
      "4\n",
      "6\n",
      "10\n",
      "12\n",
      "14\n"
     ]
    }
   ],
   "source": [
    "# using continiue\n",
    "a=0\n",
    "while a < 13:\n",
    "    a += 2\n",
    "    if a== 8:\n",
    "        continue\n",
    "    print(a)"
   ]
  },
  {
   "cell_type": "code",
   "execution_count": 1,
   "id": "787af226",
   "metadata": {},
   "outputs": [
    {
     "name": "stdout",
     "output_type": "stream",
     "text": [
      "10\n"
     ]
    }
   ],
   "source": [
    "y=0\n",
    "while y < 10:\n",
    "    y += 2\n",
    "    if y == 6:\n",
    "        continue\n",
    "print(y)\n",
    "    \n",
    "    \n",
    "    \n"
   ]
  },
  {
   "cell_type": "code",
   "execution_count": 1,
   "id": "6c907a04",
   "metadata": {},
   "outputs": [
    {
     "name": "stdout",
     "output_type": "stream",
     "text": [
      "14\n"
     ]
    }
   ],
   "source": [
    "i=0\n",
    "while i < 13:\n",
    "    i += 2\n",
    "    if i ==3:\n",
    "        continue\n",
    "print(i)\n",
    "    \n"
   ]
  },
  {
   "cell_type": "markdown",
   "id": "621ff607",
   "metadata": {},
   "source": [
    "# For loop question"
   ]
  },
  {
   "cell_type": "code",
   "execution_count": 3,
   "id": "8b985bbe",
   "metadata": {},
   "outputs": [
    {
     "name": "stdout",
     "output_type": "stream",
     "text": [
      "* \n",
      "* * \n",
      "* * * \n",
      "* * * * \n",
      "* * * * * \n"
     ]
    }
   ],
   "source": [
    "# Q.1\n",
    "\n",
    "n=5\n",
    "for i in range(n):\n",
    "    for j in range (i+1):\n",
    "        print('*',end= ' ')\n",
    "    print()\n",
    "\n",
    "\n",
    "        \n",
    "        "
   ]
  },
  {
   "cell_type": "code",
   "execution_count": 1,
   "id": "31208a94",
   "metadata": {},
   "outputs": [
    {
     "name": "stdout",
     "output_type": "stream",
     "text": [
      "* * * * * \n",
      "* * * * \n",
      "* * * \n",
      "* * \n",
      "* \n"
     ]
    }
   ],
   "source": [
    "# Q.2\n",
    "\n",
    "n=5\n",
    "for i in range(n):\n",
    "    for j in range(i,n):\n",
    "        print(\"*\", end= ' ')\n",
    "    print()"
   ]
  },
  {
   "cell_type": "code",
   "execution_count": 2,
   "id": "823529ac",
   "metadata": {},
   "outputs": [
    {
     "name": "stdout",
     "output_type": "stream",
     "text": [
      "Enter the number of row:4\n",
      "1 \n",
      "2 3 \n",
      "4 5 6 \n",
      "7 8 9 10 \n"
     ]
    }
   ],
   "source": [
    "# Q.3\n",
    "\n",
    "n=int(input(\"Enter the number of row:\"))\n",
    "num=1\n",
    "for row in range(1, n+1):\n",
    "    for col in range(1,row+1):\n",
    "        print(num,end= ' ')\n",
    "        num= num+1\n",
    "    print()"
   ]
  },
  {
   "cell_type": "code",
   "execution_count": 3,
   "id": "0227171b",
   "metadata": {},
   "outputs": [
    {
     "name": "stdout",
     "output_type": "stream",
     "text": [
      "Enter the number of row:5\n",
      "1 \n",
      "1 2 \n",
      "1 2 3 \n",
      "1 2 3 4 \n",
      "1 2 3 4 5 \n"
     ]
    }
   ],
   "source": [
    "# Q .4\n",
    "\n",
    "n=int(input(\"Enter the number of row:\"))\n",
    "for i in range(n):\n",
    "    for j in range(i+1):\n",
    "        print(j+1,end= ' ')\n",
    "    print()"
   ]
  },
  {
   "cell_type": "code",
   "execution_count": 4,
   "id": "bdaa4840",
   "metadata": {},
   "outputs": [
    {
     "name": "stdout",
     "output_type": "stream",
     "text": [
      "Enter the number of row:5\n",
      "A \n",
      "A B \n",
      "A B C \n",
      "A B C D \n",
      "A B C D E \n"
     ]
    }
   ],
   "source": [
    "# Q .5\n",
    "\n",
    "n=int(input(\"Enter the number of row:\"))\n",
    "for i in range(65,n+65):\n",
    "    for j in range(65,i+1):\n",
    "        print(chr(j), end= ' ')\n",
    "    print()"
   ]
  },
  {
   "cell_type": "code",
   "execution_count": 1,
   "id": "f08b45db",
   "metadata": {},
   "outputs": [
    {
     "name": "stdout",
     "output_type": "stream",
     "text": [
      "Enter the number of row:5\n",
      "A \n",
      "B C \n",
      "D E F \n",
      "G H I J \n",
      "K L M N O \n"
     ]
    }
   ],
   "source": [
    "# Q .6\n",
    "\n",
    "n=int(input(\"Enter the number of row:\"))\n",
    "k=ord(\"A\")\n",
    "for i in range(n):\n",
    "    for j in range(i+1):\n",
    "        print(chr(k), end= ' ')\n",
    "        k=k+1\n",
    "    print()\n",
    "        \n",
    "        \n"
   ]
  },
  {
   "cell_type": "code",
   "execution_count": 4,
   "id": "3e3ac1db",
   "metadata": {},
   "outputs": [
    {
     "name": "stdout",
     "output_type": "stream",
     "text": [
      "                 *  \n",
      "             *   *  \n",
      "         *   *   *  \n",
      "     *   *   *   *  \n",
      " *   *   *   *   *  \n"
     ]
    }
   ],
   "source": [
    "# Q .7\n",
    "\n",
    "for i in range (1, 6):\n",
    "    for j in range (1, 6):\n",
    "        if(j<=5-i):\n",
    "            print(\"  \", end= \"  \")\n",
    "        else:\n",
    "            print(\" * \", end= \" \")\n",
    "    print()\n",
    " "
   ]
  },
  {
   "cell_type": "code",
   "execution_count": 25,
   "id": "474f0a43",
   "metadata": {},
   "outputs": [
    {
     "name": "stdout",
     "output_type": "stream",
     "text": [
      "Enter the number of row: 5\n",
      "        * \n",
      "      * * \n",
      "    * * * \n",
      "  * * * * \n",
      "* * * * * \n"
     ]
    }
   ],
   "source": [
    "# Q 7.1\n",
    "\n",
    "n= int(input(\"Enter the number of row: \"))\n",
    "for i in range(n):\n",
    "    for j in range (n-i-1):\n",
    "        print(' ', end= ' ')\n",
    "    for j in range (i+1):\n",
    "            print('*', end= ' ')\n",
    "    print()\n",
    "        "
   ]
  },
  {
   "cell_type": "code",
   "execution_count": 9,
   "id": "7fff342d",
   "metadata": {},
   "outputs": [
    {
     "name": "stdout",
     "output_type": "stream",
     "text": [
      "Enter the number of row: 5\n",
      "  1 2 3 4 5 \n",
      "    1 2 3 4 \n",
      "      1 2 3 \n",
      "        1 2 \n",
      "          1 \n"
     ]
    }
   ],
   "source": [
    "# Q .8\n",
    "n= int(input(\"Enter the number of row: \"))\n",
    "for i in range(n):\n",
    "    p=1\n",
    "    for j in range (i+1):\n",
    "        print(\" \", end= \" \")\n",
    "    for j in range (i,n):\n",
    "        print(p, end= \" \")\n",
    "        p+=1\n",
    "    print()\n",
    "        \n",
    "        "
   ]
  },
  {
   "cell_type": "code",
   "execution_count": 4,
   "id": "e7ab8141",
   "metadata": {},
   "outputs": [
    {
     "name": "stdout",
     "output_type": "stream",
     "text": [
      "Enter the number of rows:5\n",
      "          * \n",
      "        * * * \n",
      "      * * * * * \n",
      "    * * * * * * * \n",
      "  * * * * * * * * * \n"
     ]
    }
   ],
   "source": [
    "# Q.9\n",
    "k=1\n",
    "i=1\n",
    "while\n",
    "        \n",
    "    print()"
   ]
  },
  {
   "cell_type": "markdown",
   "id": "d39faa8c",
   "metadata": {},
   "source": [
    "# Function Questions\n"
   ]
  },
  {
   "cell_type": "code",
   "execution_count": 5,
   "id": "2ea25c91",
   "metadata": {},
   "outputs": [
    {
     "name": "stdout",
     "output_type": "stream",
     "text": [
      "20\n"
     ]
    }
   ],
   "source": [
    "# 1.Write a Python function to find the Max of three numbers\n",
    "\n",
    "def maximum(a, b, c):\n",
    "    list = [a, b, c]\n",
    "    return max(list)\n",
    "  \n",
    "\n",
    "#a = 10\n",
    "#b = 14\n",
    "#c = 12\n",
    "print(maximum(10, 20,12))\n",
    "\n"
   ]
  },
  {
   "cell_type": "code",
   "execution_count": 10,
   "id": "0d8583de",
   "metadata": {},
   "outputs": [
    {
     "name": "stdout",
     "output_type": "stream",
     "text": [
      "23\n"
     ]
    }
   ],
   "source": [
    "# 1.1\n",
    "\n",
    "def maximum(a,b,c):\n",
    "    if (a >=b ) and (a >= c):\n",
    "        largest = a\n",
    "        \n",
    "    elif (b >= a) and (b >= c):\n",
    "        largest =b\n",
    "    \n",
    "    else:\n",
    "        largest = c\n",
    "    \n",
    "    return largest\n",
    "\n",
    "a=23\n",
    "b=17\n",
    "c=13\n",
    "print(maximum(a,b,c))\n",
    "    "
   ]
  },
  {
   "cell_type": "code",
   "execution_count": 5,
   "id": "5449743f",
   "metadata": {},
   "outputs": [
    {
     "name": "stdout",
     "output_type": "stream",
     "text": [
      " This is sum : 9\n",
      "This is multipilaction : 20\n",
      "This is substraction : -1\n",
      "This is multiplaction: 0.8\n"
     ]
    }
   ],
   "source": [
    "# 2. Define a function that accepts 2 values and return its sum, subtraction and multiplication..\n",
    "\n",
    "\n",
    "\n",
    "def function (a, b):\n",
    "\n",
    "    print(\" This is sum :\", (a+b))\n",
    "    print(\"This is multipilaction :\", (a*b))\n",
    "    print(\"This is substraction :\", (a-b))\n",
    "    print('This is multiplaction:', (a/b))\n",
    "function(4,5)"
   ]
  },
  {
   "cell_type": "code",
   "execution_count": 1,
   "id": "03c69952",
   "metadata": {},
   "outputs": [
    {
     "data": {
      "text/plain": [
       "48"
      ]
     },
     "execution_count": 1,
     "metadata": {},
     "output_type": "execute_result"
    }
   ],
   "source": [
    "# 3\n",
    "def multiply(thislist):\n",
    "    num=1\n",
    "    for x in thislist:\n",
    "        num= num * x\n",
    "    return num\n",
    "#thislist=int(input(\"Enter your number whihch you multiply :\" ))\n",
    "list1=[2,4,6]\n",
    "multiply(list1)\n"
   ]
  },
  {
   "cell_type": "code",
   "execution_count": 5,
   "id": "18a4a005",
   "metadata": {},
   "outputs": [
    {
     "name": "stdout",
     "output_type": "stream",
     "text": [
      " input  the number to compute the factorial :6\n",
      "720\n"
     ]
    }
   ],
   "source": [
    "\n",
    "#.4 .Write a Python function to calculate the factorial of a number (a non-negative integer). The function accepts the number as an argument\n",
    "\n",
    "\n",
    "def factorial (n):\n",
    "    if n == 0 :\n",
    "        return 1\n",
    "    else:\n",
    "        return n * factorial(n-1)\n",
    "\n",
    "num= int(input(\" input  the number to compute the factorial :\"))\n",
    "print(factorial(num))\n",
    "\n",
    "\n"
   ]
  },
  {
   "cell_type": "code",
   "execution_count": 6,
   "id": "f785e1b2",
   "metadata": {},
   "outputs": [
    {
     "name": "stdout",
     "output_type": "stream",
     "text": [
      "Enter your number : 6\n",
      "Factorial of  6 is  720\n"
     ]
    }
   ],
   "source": [
    "# 4.2Write a Python function to calculate the factorial of a number (a non-negative integer). The function accepts the number as an argument\n",
    "def factorail (a):\n",
    "    fact=1\n",
    "    for p in range (a,0):\n",
    "        fact= fact * p\n",
    "        return fact\n",
    "    \n",
    "n= int(input(\"Enter your number : \"))\n",
    "result=factorial(n)\n",
    "print(\"Factorial of \",n, \"is \", result)"
   ]
  },
  {
   "cell_type": "code",
   "execution_count": 9,
   "id": "8cfb9d64",
   "metadata": {},
   "outputs": [
    {
     "name": "stdout",
     "output_type": "stream",
     "text": [
      "[4, 9, 16, 25, 36, 49, 64, 81, 100, 121, 144, 169, 196, 225, 256, 289, 324, 361, 400, 441, 484, 529, 576, 625, 676, 729, 784, 841]\n"
     ]
    }
   ],
   "source": [
    "# 5.Write a Python function to create and print a list where the values are square of numbers between 1 and 30 (both included).\n",
    "\n",
    "def printvalues():\n",
    "    l= list()\n",
    "    for i in range (1, 30):\n",
    "        l.append(i**2)\n",
    "    print(l[1 :  ])\n",
    "printvalues()\n"
   ]
  },
  {
   "cell_type": "code",
   "execution_count": 3,
   "id": "6bdc2341",
   "metadata": {},
   "outputs": [
    {
     "name": "stdout",
     "output_type": "stream",
     "text": [
      "Orignal String : The quick Brown Box\n",
      "No : of upper case character : 3\n",
      "No : of lower case charecret : 13\n"
     ]
    }
   ],
   "source": [
    " # 6 .Write a Python function that accepts a string and calculate the number of upper case letters and lower case letters.\n",
    "\n",
    "def string_test(s):\n",
    "    d={\"UPPER-CASE\": 0, \"LOWER-CASE\": 0}\n",
    "    for c in s:\n",
    "        if c.isupper():\n",
    "            d[\"UPPER-CASE\"]+=1\n",
    "        elif c.islower():\n",
    "            d[\"LOWER-CASE\"]+=1\n",
    "        else:\n",
    "            pass\n",
    "    print(\"Orignal String :\", s)\n",
    "    print(\"No : of upper case character :\", d[\"UPPER-CASE\"])\n",
    "    print(\"No : of lower case charecret :\", d[\"LOWER-CASE\"])\n",
    "\n",
    "string_test(\"The quick Brown Box\")\n"
   ]
  },
  {
   "cell_type": "code",
   "execution_count": 7,
   "id": "1a32deb4",
   "metadata": {},
   "outputs": [
    {
     "name": "stdout",
     "output_type": "stream",
     "text": [
      "enter list size : 2\n",
      "Enter your number: 12\n",
      "Enter your number: 5\n",
      "60\n"
     ]
    }
   ],
   "source": [
    "# 3.Write a Python function to multiply all the numbers in a list. \n",
    "n=int(input(\"enter list size : \"))\n",
    "list =[]\n",
    "\n",
    "for i in range(0,n):\n",
    "    a = int(input(\"Enter your number: \"))\n",
    "    list.append(a)\n",
    "\n",
    "def multiply_list(a_list):\n",
    "    value=1\n",
    "    for item in a_list:\n",
    "        value=value* item\n",
    "        pass\n",
    "    return value\n",
    "\n",
    "print(multiply_list(list))\n",
    "\n"
   ]
  },
  {
   "cell_type": "code",
   "execution_count": 17,
   "id": "2650b135",
   "metadata": {},
   "outputs": [
    {
     "name": "stdout",
     "output_type": "stream",
     "text": [
      "Enter Roll Number.23\n",
      "Roll number 23 is present\n"
     ]
    }
   ],
   "source": [
    "# 7. .Define a function that accepts roll number and returns whether the student is present or absent.\n",
    "\n",
    "def detail(roll):\n",
    "    x=[23, 52,14,20]\n",
    "    if roll in x:\n",
    "        print(f\"Roll number {roll} is present\")\n",
    "    else:\n",
    "        print(f\"Roll number {roll} is absent\")\n",
    "roll=int(input(\"Enter Roll Number.\"))\n",
    "detail(roll)"
   ]
  },
  {
   "cell_type": "code",
   "execution_count": 3,
   "id": "6c623e10",
   "metadata": {},
   "outputs": [
    {
     "name": "stdout",
     "output_type": "stream",
     "text": [
      "Enter the sentence: khan Atifa\n",
      "Total vowels in given sentence: 4\n",
      "Total consonant in given sentence: 6\n"
     ]
    }
   ],
   "source": [
    "# 8.Define a function which counts vowels and consonant in a word.\n",
    "\n",
    "letter=input(\"Enter the sentence: \")\n",
    "def word(a):\n",
    "    vowels1 = \"a,i,e,o,u,I,A,O,U,E\"\n",
    "    vowel=0\n",
    "    cont=0\n",
    "    for i in letter:\n",
    "        if i in vowels1:\n",
    "            vowel+=1\n",
    "    \n",
    "        else:\n",
    "            cont+=1\n",
    "    print(\"Total vowels in given sentence:\",vowel)\n",
    "    print(\"Total consonant in given sentence:\",cont)\n",
    "word(letter)\n"
   ]
  },
  {
   "cell_type": "code",
   "execution_count": 6,
   "id": "5c680ae1",
   "metadata": {},
   "outputs": [
    {
     "name": "stdout",
     "output_type": "stream",
     "text": [
      "Enter radius of circle:6\n",
      "Area of the circle is :  113.09733552923255\n"
     ]
    }
   ],
   "source": [
    "# 9.Define a function that accepts radius and returns the area of a circle.\n",
    "radius=float(input(\"Enter radius of circle:\" ))\n",
    "import math\n",
    "\n",
    "def circle(radius):\n",
    "    area= math.pi * (radius**2)\n",
    "    print(\"Area of the circle is : \",area)\n",
    "    \n",
    "circle(radius)"
   ]
  },
  {
   "cell_type": "markdown",
   "id": "0cd97d5f",
   "metadata": {},
   "source": [
    "\n"
   ]
  },
  {
   "cell_type": "markdown",
   "id": "69713692",
   "metadata": {},
   "source": [
    "# slicing practice\n"
   ]
  },
  {
   "cell_type": "code",
   "execution_count": 8,
   "id": "604cbf99",
   "metadata": {},
   "outputs": [
    {
     "name": "stdout",
     "output_type": "stream",
     "text": [
      "['purple', 'seagreen', 'white']\n",
      "['orange', 'purple']\n",
      "['orange', 'green']\n"
     ]
    }
   ],
   "source": [
    "colors = ['red', 'green', 'blue', 'orange','purple','seagreen','white']\n",
    "\n",
    "print(colors[-3 : ])\n",
    "print(colors[-4 : 5])\n",
    "print(colors[3::-2])\n",
    "#AGAR STARTING KA NUMBER DIYE OR ENDING NAHI(ending range) DIYE OR NEGATIVE KI INDEXING KIYE TOH JO STARTING NUMBER HAI WAHAN SE LEFT SIDE ME PRINT HOGA JO BHI STEP LIYE FOR EX.STEP (-2) or starting no.3 hai toh \"orange\" or \"green\" print hoga . \n",
    "# or agar starting or ending dono number diye toh or indexung negative diye toh most of the time print nahi nhoga empty hogi\n",
    "# or ending ka number dene k baad bhi print tabhi hoga jab question [a,b,c]wale Q, k pahle wale ki tarah hua."
   ]
  },
  {
   "cell_type": "code",
   "execution_count": 2,
   "id": "3577c2a0",
   "metadata": {},
   "outputs": [
    {
     "name": "stdout",
     "output_type": "stream",
     "text": [
      "[]\n"
     ]
    }
   ],
   "source": [
    "colors = ['red', 'green', 'blue', 'orange','apple']\n",
    "print(colors[0:3:-2])"
   ]
  },
  {
   "cell_type": "code",
   "execution_count": 6,
   "id": "a39b72d9",
   "metadata": {},
   "outputs": [
    {
     "name": "stdout",
     "output_type": "stream",
     "text": [
      "['d', 'b']\n",
      "[]\n",
      "['e', 'c', 'a']\n",
      "[]\n"
     ]
    }
   ],
   "source": [
    "a=['a', 'b', 'c','d', 'e','f', 'g','h']\n",
    "print(a[3: -8:-2])\n",
    "print(a[3: 8: -2])\n",
    "print(a[4 ::-2])\n",
    "print(a[3: -3: -2])\n"
   ]
  },
  {
   "cell_type": "markdown",
   "id": "618e488d",
   "metadata": {},
   "source": [
    "# If else,for loop,and range  Questions....."
   ]
  },
  {
   "cell_type": "code",
   "execution_count": 6,
   "id": "eec726be",
   "metadata": {},
   "outputs": [
    {
     "name": "stdout",
     "output_type": "stream",
     "text": [
      "Enter your number:12\n",
      "Odd\n"
     ]
    }
   ],
   "source": [
    "# 1.To print odd & even number.\n",
    "a=int(input(\"Enter your number:\"))\n",
    "if i in range(a):\n",
    "    if i%2==0:\n",
    "        print(\"Even\")\n",
    "    else:\n",
    "        print(\"Odd\")\n"
   ]
  },
  {
   "cell_type": "code",
   "execution_count": 7,
   "id": "6af5e1b2",
   "metadata": {},
   "outputs": [
    {
     "name": "stdout",
     "output_type": "stream",
     "text": [
      "odd\n",
      "Even\n",
      "odd\n",
      "odd\n",
      "odd\n",
      "odd\n"
     ]
    }
   ],
   "source": [
    "# 1.2\n",
    "a=[3,12,5,7,9,13]\n",
    "for i in a:\n",
    "    if i%2==0:\n",
    "        print(\"Even\")\n",
    "    else:\n",
    "        print(\"odd\")"
   ]
  },
  {
   "cell_type": "code",
   "execution_count": 1,
   "id": "dcbc3d28",
   "metadata": {},
   "outputs": [
    {
     "name": "stdout",
     "output_type": "stream",
     "text": [
      "Enter the number :576587\n",
      "Number of digits : 6\n"
     ]
    }
   ],
   "source": [
    "# 2..Count the total number of digits in a number.\n",
    "n=int(input(\"Enter the number :\"))\n",
    "ct=0\n",
    " \n",
    "while n!= 0:\n",
    "    n=n//10\n",
    "    ct +=1\n",
    "    \n",
    "print(\"Number of digits :\", ct)\n"
   ]
  },
  {
   "cell_type": "code",
   "execution_count": 4,
   "id": "a88849b6",
   "metadata": {},
   "outputs": [
    {
     "name": "stdout",
     "output_type": "stream",
     "text": [
      "Enter number to find the table : 15\n",
      "15\n",
      "30\n",
      "45\n",
      "60\n",
      "75\n",
      "90\n",
      "105\n",
      "120\n",
      "135\n",
      "150\n"
     ]
    }
   ],
   "source": [
    "# 3. Write a program to print multiplication table of a given number.\n",
    "\n",
    "x=int(input(\"Enter number to find the table : \"))\n",
    "for y in range(1, 11):\n",
    "    print(x*y)\n"
   ]
  },
  {
   "cell_type": "code",
   "execution_count": 3,
   "id": "c72722b5",
   "metadata": {},
   "outputs": [
    {
     "name": "stdout",
     "output_type": "stream",
     "text": [
      "Enter the number: 8986975\n",
      "Total number of digits are :  7\n"
     ]
    }
   ],
   "source": [
    "# 4. Count the total number of digits in a number\n",
    " \n",
    "n=int(input(\"Enter the number: \"))\n",
    "count=0\n",
    "while n>0:\n",
    "    n=n//10\n",
    "    count=count+1\n",
    "print(\"Total number of digits are : \",count)\n",
    "    "
   ]
  },
  {
   "cell_type": "code",
   "execution_count": 20,
   "id": "d97cc005",
   "metadata": {},
   "outputs": [
    {
     "name": "stdout",
     "output_type": "stream",
     "text": [
      "Enter you number :8\n",
      "Factorial: 40320\n"
     ]
    }
   ],
   "source": [
    "# 5.Find the factorial of a given number.\n",
    "i=int(input(\"Enter you number :\"))\n",
    "fac=1\n",
    "while i>0:\n",
    "    fac=fac*i\n",
    "    i=i-1\n",
    "print(\"Factorial:\", fac)"
   ]
  },
  {
   "cell_type": "code",
   "execution_count": 2,
   "id": "830230ff",
   "metadata": {},
   "outputs": [
    {
     "name": "stdout",
     "output_type": "stream",
     "text": [
      "Enter your number : 10\n",
      "0 1 1 2 3 5 8 13 21 34 "
     ]
    }
   ],
   "source": [
    "# 6.Display Fibonacci series up to 10 terms.\n",
    "num=int(input(\"Enter your number : \"))\n",
    "n1 , n2 =0 ,1\n",
    "sum=0\n",
    "if num<=0:\n",
    "    print(\"Please enter the number greater than 0\")\n",
    "else:\n",
    "    for i in range(0, num):\n",
    "        print(sum, end=\" \")\n",
    "        n1= n2\n",
    "        n2= sum \n",
    "        sum= n1+n2\n",
    "    \n"
   ]
  },
  {
   "cell_type": "code",
   "execution_count": 1,
   "id": "cc30797f",
   "metadata": {},
   "outputs": [
    {
     "name": "stdout",
     "output_type": "stream",
     "text": [
      "Enter yuor number : 231\n",
      "sum of cube of each digit= 36\n"
     ]
    }
   ],
   "source": [
    "# 7.Calculate the cube of all numbers from 1 to a given number\n",
    "i=int(input(\"Enter yuor number : \"))\n",
    "sum=0\n",
    "while (i>0):\n",
    "    sum=sum + (i % 10) * (i % 10) * (i % 10)\n",
    "    i= i//10\n",
    "print(\"sum of cube of each digit=\", sum)\n"
   ]
  },
  {
   "cell_type": "code",
   "execution_count": 1,
   "id": "b7fbf0a6",
   "metadata": {},
   "outputs": [],
   "source": [
    "def firstfunc():\n",
    "    print(\"first\")\n",
    "    secondfunc()\n",
    "    \n",
    "def secondfunc():\n",
    "    print(\"second\")\n",
    "    thirdfunc()\n",
    "    \n",
    "def thirdfunc():\n",
    "    print(\"third\")\n",
    "    firstfunc()"
   ]
  },
  {
   "cell_type": "code",
   "execution_count": 10,
   "id": "0057e2ea",
   "metadata": {},
   "outputs": [
    {
     "name": "stdout",
     "output_type": "stream",
     "text": [
      "Enter your number : 325\n",
      "Sum of square of each digit = 38\n"
     ]
    }
   ],
   "source": [
    "# find sum square\n",
    "i=int(input(\"Enter your number : \"))\n",
    "sum=0\n",
    "while (i>0):\n",
    "     sum=sum + (i % 10) * (i % 10)\n",
    "     i=i//10\n",
    "print(\"Sum of square of each digit =\", sum)\n",
    "        \n"
   ]
  },
  {
   "cell_type": "code",
   "execution_count": 2,
   "id": "92a16a04",
   "metadata": {},
   "outputs": [
    {
     "name": "stdout",
     "output_type": "stream",
     "text": [
      "The orignal statment = The Brown Fox Sugar\n",
      "Number of upper case leller : 4\n",
      "Number of lower case letter : 12\n"
     ]
    }
   ],
   "source": [
    "# function question no 6 practice \n",
    "\n",
    "def string_test(s):\n",
    "    d={\"UPPER-CASE\" :0 ,\"LOWER-CASE\" : 0}\n",
    "    for c in s:\n",
    "        if c. isupper():\n",
    "            d[\"UPPER-CASE\"]+=1\n",
    "        elif c. islower():\n",
    "            d[\"LOWER-CASE\"]+=1\n",
    "\n",
    "        else:\n",
    "            pass\n",
    "    print(\"The orignal statment =\", s)\n",
    "    print(\"Number of upper case leller :\", d[\"UPPER-CASE\"])\n",
    "    print(\"Number of lower case letter :\", d[\"LOWER-CASE\"])\n",
    "\n",
    "string_test(\"The Brown Fox Sugar\")\n",
    "        "
   ]
  },
  {
   "cell_type": "markdown",
   "id": "eb5f49f7",
   "metadata": {},
   "source": [
    "# Tuple Task Questions\n"
   ]
  },
  {
   "cell_type": "code",
   "execution_count": 4,
   "id": "a642795e",
   "metadata": {},
   "outputs": [
    {
     "name": "stdout",
     "output_type": "stream",
     "text": [
      "(1, 2, 3, 4, 5, 6, 7, 8, 9, 10)\n",
      "(11, 12, 13, 14, 15, 16, 17, 18, 19, 20)\n"
     ]
    }
   ],
   "source": [
    "# 1.  To create a tuple having a number from 1-20. Print the half of its \n",
    "#value in 1 line and other half in next line .\n",
    "\n",
    "tlist=(1,2,3,4,5,6,7,8,9,10,11,12,13,14,15,16,17,18,19,20)\n",
    "\n",
    "tuple1= tlist[ :10]\n",
    "tuple2= tlist[10: ]\n",
    "\n",
    "print(tuple1)\n",
    "print(tuple2)\n",
    "\n"
   ]
  },
  {
   "cell_type": "code",
   "execution_count": 7,
   "id": "af62c303",
   "metadata": {},
   "outputs": [
    {
     "name": "stdout",
     "output_type": "stream",
     "text": [
      "Enter the number : 3\n",
      "Enter the number : 6\n",
      "Enter the number : 4\n",
      "Enter the number : 7\n",
      "Enter the number : 5\n",
      "(3, 6, 4, 7, 5)\n",
      "(6,)\n",
      "(4, 6)\n",
      "(3, 7, 5)\n"
     ]
    }
   ],
   "source": [
    "# 2.To create a tuple consisting of 20 number from a user. Create another tuple whose values are even number in the first tuple.\n",
    "a=[]\n",
    "for i in range(1,6):\n",
    "    user=int(input(\"Enter the number : \"))\n",
    "    a.append(user)\n",
    "print(tuple(a))\n",
    "\n",
    "b=[]\n",
    "c=[]\n",
    "for j in a:\n",
    "    if j%2 ==0:\n",
    "        b.append(j)\n",
    "        b.sort()\n",
    "        print(tuple(b))\n",
    "    else:\n",
    "        c.append(j)\n",
    "print(tuple(c))\n",
    "\n",
    "# b=[]\n",
    "# c=[]\n",
    "# for j in a:\n",
    "#     if j%2 ==0:\n",
    "#         b.append(j)\n",
    "#         b.sort() \n",
    "#         print(tuple(b))\n",
    "    \n",
    "#     else:\n",
    "#          c.append(j)\n",
    "# print(tuple(c))\n",
    "\n",
    "\n"
   ]
  },
  {
   "cell_type": "code",
   "execution_count": 8,
   "id": "c41cfee1",
   "metadata": {},
   "outputs": [
    {
     "name": "stdout",
     "output_type": "stream",
     "text": [
      "('a', 'b', 'c', 'd', 1, 3, 5, 6)\n"
     ]
    }
   ],
   "source": [
    "# 3. To concatenate two tuples .\n",
    "\n",
    "tuple1=(\"a\", \"b\", \"c\", \"d\")\n",
    "tuple2=(1,3,5,6)\n",
    "tuple3= tuple1 + tuple2\n",
    "print(tuple3)\n"
   ]
  },
  {
   "cell_type": "code",
   "execution_count": 1,
   "id": "05cd5581",
   "metadata": {},
   "outputs": [
    {
     "name": "stdout",
     "output_type": "stream",
     "text": [
      "Enter name :Apple\n",
      "yes, this element is present\n"
     ]
    }
   ],
   "source": [
    "# 4. To check whether a given element is present in tuple or not .\n",
    "thistuple=(\"Apple\", \"Banana\", \"Orange\", \"Grapes\")\n",
    "i=input(\"Enter name :\")\n",
    "\n",
    "if i in thistuple:\n",
    "    print(\"yes, this element is present\")\n",
    "else:\n",
    "    print(\"No, this element is not present\")"
   ]
  },
  {
   "cell_type": "code",
   "execution_count": 10,
   "id": "374886bc",
   "metadata": {},
   "outputs": [
    {
     "name": "stdout",
     "output_type": "stream",
     "text": [
      "False\n"
     ]
    }
   ],
   "source": [
    "# 5 . To use the following methods on a tuple in the program: \n",
    "#cmp(t1,t2)/t1==t2 ,len(t1) , zip(t1,t2) , max(t) , min(t) , tuple()\n",
    "\n",
    "tuple1= (15, 34 ,66)\n",
    "tuple2= (86,98, 68)\n",
    "print(tuple1== tuple2)\n"
   ]
  },
  {
   "cell_type": "code",
   "execution_count": 12,
   "id": "80695827",
   "metadata": {},
   "outputs": [
    {
     "name": "stdout",
     "output_type": "stream",
     "text": [
      "4\n"
     ]
    }
   ],
   "source": [
    "#use len\n",
    "\n",
    "thistuple=(\"apple\", \"cherry\", \"banana\", \"orange\")\n",
    "print(len(thistuple))"
   ]
  },
  {
   "cell_type": "code",
   "execution_count": 16,
   "id": "75304be9",
   "metadata": {},
   "outputs": [
    {
     "name": "stdout",
     "output_type": "stream",
     "text": [
      "(('banana', 'sugarcane'), ('cherry', 'grapes'), ('orange', 'mango'))\n"
     ]
    }
   ],
   "source": [
    "# use zip\n",
    "\n",
    "tuple1=(\"banana\", \"cherry\",\"orange\" )\n",
    "tuple2=(\"sugarcane\", \"grapes\", \"mango\")\n",
    " \n",
    "x=zip(tuple1,tuple2)\n",
    "print(tuple(x))"
   ]
  },
  {
   "cell_type": "code",
   "execution_count": 22,
   "id": "39bc45f5",
   "metadata": {},
   "outputs": [
    {
     "name": "stdout",
     "output_type": "stream",
     "text": [
      "85\n",
      "3\n"
     ]
    }
   ],
   "source": [
    "# use max\n",
    "thistuple=(23,45,8,9,3,85)\n",
    "print(max(thistuple))\n",
    "\n",
    "\n",
    "# use min\n",
    "#thistuple=(23,45,8,9,3,85)\n",
    "print(min(thistuple))"
   ]
  },
  {
   "cell_type": "code",
   "execution_count": 27,
   "id": "b06b4fa4",
   "metadata": {},
   "outputs": [
    {
     "name": "stdout",
     "output_type": "stream",
     "text": [
      "<class 'tuple'>\n"
     ]
    }
   ],
   "source": [
    "# tuple()\n",
    "thistuple=(\"apple\", \"banana\", \"orange\", \"cherry\")\n",
    "\n",
    "print(type(thistuple))"
   ]
  },
  {
   "cell_type": "markdown",
   "id": "1b7c87d1",
   "metadata": {},
   "source": [
    "# Dictionary Questions"
   ]
  },
  {
   "cell_type": "code",
   "execution_count": 9,
   "id": "a48f9762",
   "metadata": {},
   "outputs": [
    {
     "name": "stdout",
     "output_type": "stream",
     "text": [
      "{'Name': 'Hazra', 'surname': 'sheikh', 'Age': 13, 'Hobby': 'Reading book', 'Qualification': 8}\n",
      "{'Name': 'Hazra', 'surname': 'sheikh', 'Age': 13, 'Hobby': 'Reading book', 'Qualification': 8, 'Fav Place': 'Water park'}\n",
      "{'Name': 'Hazra', 'surname': 'sheikh', 'Age': 13, 'Hobby': 'Reading book', 'Fav Place': 'Water park'}\n"
     ]
    }
   ],
   "source": [
    "# 1. To create a dictionary with any five key value pair . print the dictionary . Add an element in a given dictionary and delete an element\n",
    "\n",
    "thisdict= {\n",
    "    \"Name\"            :    \"Hazra\",\n",
    "    \"surname\"         :     \"sheikh\",\n",
    "    \"Age\"             :     13,\n",
    "    \"Hobby\"           :     \"Reading book\",\n",
    "    \"Qualification\"   :       8\n",
    "}\n",
    "\n",
    "print(thisdict)\n",
    "\n",
    "thisdict [\"Fav Place\"]= \"Water park\"\n",
    "print(thisdict)\n",
    "\n",
    "thisdict.pop(\"Qualification\")\n",
    "print(thisdict)"
   ]
  },
  {
   "cell_type": "code",
   "execution_count": 16,
   "id": "9c420295",
   "metadata": {},
   "outputs": [
    {
     "name": "stdout",
     "output_type": "stream",
     "text": [
      "{'A': 1, 'B': 2, 'C': 3, 'D': 4, 'E': 5, 'F': 6}\n",
      "{1: 1, 2: 8, 3: 27, 4: 64, 5: 125, 6: 216}\n",
      "{'P': 'pp', 'Y': 'yy', 'T': 'tt', 'H': 'hh', 'O': 'oo', 'N': 'nn'}\n"
     ]
    }
   ],
   "source": [
    "# 2. To create 2 dictionaries using dictionary comprehension method.\n",
    "\n",
    "# 1 .\n",
    "keys= [\"A\", \"B\", \"C\", \"D\", \"E\", \"F\"]\n",
    "values=[1, 2, 3, 4, 5,6]\n",
    "\n",
    "mydict=  dict(zip(keys, values))\n",
    "print(mydict)\n",
    "\n",
    "\n",
    "# 2 .\n",
    "mydict= {x : x**3 for x in [1,2,3,4,5,6]}\n",
    "print(mydict)\n",
    "\n",
    "# 3.\n",
    " \n",
    "mydict= {x.upper (): x*2 for x in 'python'}\n",
    "print(mydict)"
   ]
  },
  {
   "cell_type": "code",
   "execution_count": 23,
   "id": "4534af6c",
   "metadata": {},
   "outputs": [
    {
     "name": "stdout",
     "output_type": "stream",
     "text": [
      "{'class', 'teacher', 'books', 'school', 'bags'}\n",
      "{'banana', 'apple', 'orange'}\n",
      "{'grapes', 'mango', 'orange'}\n",
      "{'mango', 'orange'}\n",
      "True\n",
      "False\n"
     ]
    }
   ],
   "source": [
    "# 3.To demonstrate 5 methods of python data structure set .\n",
    "\n",
    "# 1.using add method\n",
    "thisset={ \"school\", \"class\", \"books\", \"bags\"}\n",
    "thisset.add (\"teacher\")\n",
    "print(thisset)\n",
    "\n",
    "# 2. using difference method \n",
    "x={\"apple\", \"banana\", \"cherry\",\"orange\"}\n",
    "y={\"google\", \"microsoft\", \"cherry\", \"copmuter\"}\n",
    "z= x.difference(y)\n",
    "print(z)\n",
    "  \n",
    "# 3. using discard method\n",
    "myset= {\"pineapple\", \"mango\", \"orange\", \"grapes\"}\n",
    "myset.discard(\"pineapple\")\n",
    "print(myset)\n",
    "\n",
    "# 4. using intersection method\n",
    "set1= {\"apple\", \"banana\", \"orange\", \"mango\"}\n",
    "set2= {\"google\", \"internet\", \"mango\", \"orange\"}\n",
    "\n",
    "set3= set1.intersection(set2)\n",
    "print(set3)\n",
    "\n",
    "# 5 . using isdisjoint method \n",
    "set1= {\"A\", \"B\", \"C\", \"D\", \"F\"}\n",
    "set2= { 1, 2, 3, 4, 5}\n",
    "\n",
    "set3= set1.isdisjoint(set2)\n",
    "print(set3)\n",
    "\n",
    "set4= {\"a\", \"b\", \"c\", \"d\", \"e\"}\n",
    "set5= {1,2, \"a\", 3, 4, 5, 6}\n",
    "\n",
    "set6= set5.isdisjoint(set4)\n",
    "print(set6)"
   ]
  },
  {
   "cell_type": "code",
   "execution_count": null,
   "id": "ba4b3fe7",
   "metadata": {},
   "outputs": [],
   "source": [
    "# 4. To implement caser cipher using dictionary\n",
    "\n"
   ]
  },
  {
   "cell_type": "markdown",
   "id": "2e54b926",
   "metadata": {},
   "source": [
    "\n",
    "# function question practise"
   ]
  },
  {
   "cell_type": "code",
   "execution_count": 1,
   "id": "7a06a059",
   "metadata": {},
   "outputs": [
    {
     "name": "stdout",
     "output_type": "stream",
     "text": [
      "33\n"
     ]
    }
   ],
   "source": [
    "# 1 Write a Python function to find the Max of three numbers.\n",
    "\n",
    "def maximum(a,b,c):\n",
    "    list=[a,b,c]\n",
    "    return max(list)\n",
    "\n",
    "print(maximum(15,21,33))\n"
   ]
  },
  {
   "cell_type": "code",
   "execution_count": 3,
   "id": "f3e8a357",
   "metadata": {},
   "outputs": [
    {
     "name": "stdout",
     "output_type": "stream",
     "text": [
      "This is sum= 30\n",
      "This is multiplication= 200\n",
      "This is substraction= 10\n",
      "This is division= 2.0\n"
     ]
    }
   ],
   "source": [
    "# 2 .Define a function that accepts 2 values and return its sum, subtraction and multiplication..\n",
    "\n",
    "def function(a,b):\n",
    "    #a=int(input(\"Enter your number : \"))\n",
    "     # b=int(input(\"Enter your number : \"))\n",
    "    \n",
    "    print(\"This is sum=\", (a+b))\n",
    "    print(\"This is multiplication=\", (a*b))\n",
    "    print(\"This is substraction=\", (a-b))\n",
    "    print(\"This is division=\", (a/b))\n",
    "\n",
    "function(20,10)"
   ]
  },
  {
   "cell_type": "code",
   "execution_count": 28,
   "id": "04f7e6b7",
   "metadata": {},
   "outputs": [
    {
     "name": "stdout",
     "output_type": "stream",
     "text": [
      "Entre list size : 3\n",
      "Enter your number : 2\n",
      "Enter your number : 5\n",
      "Enter your number : 6\n",
      "60\n"
     ]
    }
   ],
   "source": [
    "# 3.Write a Python function to multiply all the numbers in a list.\n",
    "n=int(input(\"Entre list size : \"))\n",
    "list=[]\n",
    "for i in range(n):\n",
    "    a=int(input(\"Enter your number : \"))\n",
    "    list.append(a)\n",
    "    \n",
    "def multiply_list(a_list):\n",
    "    value=1\n",
    "    for i in a_list:\n",
    "        value= value * i\n",
    "    return value\n",
    "\n",
    "print(multiply_list(list))\n"
   ]
  },
  {
   "cell_type": "code",
   "execution_count": 5,
   "id": "d84a4ad1",
   "metadata": {},
   "outputs": [
    {
     "name": "stdout",
     "output_type": "stream",
     "text": [
      "Enter the number to compute the factorial : 5\n",
      "120\n"
     ]
    }
   ],
   "source": [
    "# 4 Write a Python function to calculate the factorial of a number (a non-negative integer). The function accepts the number as an argument\n",
    "\n",
    "def factorial(n):  \n",
    "    if n==0:\n",
    "        return 1\n",
    "    else:\n",
    "        return n* factorial(n-1) \n",
    "    \n",
    "n=int(input(\"Enter the number to compute the factorial : \"))\n",
    "print(factorial(n))\n",
    "    "
   ]
  },
  {
   "cell_type": "code",
   "execution_count": 6,
   "id": "5607fcf7",
   "metadata": {},
   "outputs": [
    {
     "name": "stdout",
     "output_type": "stream",
     "text": [
      "[4, 9, 16, 25, 36, 49, 64, 81, 100, 121, 144, 169, 196, 225, 256, 289, 324, 361, 400, 441, 484, 529, 576, 625, 676, 729, 784, 841, 900]\n"
     ]
    }
   ],
   "source": [
    "# 5 Write a Python function to create and print a list where the values are square of numbers between 1 and 30 (both included).\n",
    "\n",
    "def square():\n",
    "    l=list()\n",
    "    for i in range(1, 31):\n",
    "        l.append(i**2)\n",
    "    print(l[1: ])\n",
    "square()\n",
    "        "
   ]
  },
  {
   "cell_type": "code",
   "execution_count": 8,
   "id": "037db69f",
   "metadata": {},
   "outputs": [
    {
     "name": "stdout",
     "output_type": "stream",
     "text": [
      "Enter the original string= The Number Of student\n",
      "Number of upper case character= 3\n",
      "Enter lower case character= 15\n"
     ]
    }
   ],
   "source": [
    "# 6 Write a Python function that accepts a string and calculate the number of upper case letters and lower case letters\n",
    "def function (s):\n",
    "    d={\"UPPER-CASE\" : 0, \"LOWER-CASE\" : 0}\n",
    "    \n",
    "    for c in s:\n",
    "        if c.isupper():\n",
    "            d[\"UPPER-CASE\"]+=1\n",
    "        elif c.islower():\n",
    "            d[\"LOWER-CASE\"]+=1\n",
    "        else:\n",
    "            pass\n",
    "        \n",
    "    print(\"Enter the original string=\", s)\n",
    "    print(\"Number of upper case character=\", d[\"UPPER-CASE\"])\n",
    "    print(\"Enter lower case character=\", d[\"LOWER-CASE\"])\n",
    "function(\"The Number Of student\")"
   ]
  },
  {
   "cell_type": "code",
   "execution_count": 4,
   "id": "21ffa7bd",
   "metadata": {},
   "outputs": [
    {
     "name": "stdout",
     "output_type": "stream",
     "text": [
      " Roll number:23\n",
      "Roll number 23   is present\n"
     ]
    }
   ],
   "source": [
    "# 7 .Define a function that accepts roll number and returns whether the student is present or absent.\n",
    "def rollnumber(roll):\n",
    "    x=[23,45,28,15,21]\n",
    "    if roll in x:\n",
    "        print(f\"Roll number {roll}   is present\")\n",
    "    else:\n",
    "        print( f\"Roll number  {roll}  is absent=\", roll)\n",
    "roll=int(input(\" Roll number:\" ))\n",
    "rollnumber(roll)\n",
    "        \n",
    "        \n",
    "    "
   ]
  },
  {
   "cell_type": "code",
   "execution_count": 2,
   "id": "e5840a21",
   "metadata": {},
   "outputs": [
    {
     "name": "stdout",
     "output_type": "stream",
     "text": [
      "Enter your sentence : Khan Aatifa\n",
      "Total value of vowels in this sentence= 6\n",
      "Total value of constant in this sentence= 5\n"
     ]
    }
   ],
   "source": [
    "# 8 .Define a function which counts vowels and consonant in a word.\n",
    "letter=input(\"Enter your sentence : \")\n",
    "def word(letter):\n",
    "    \n",
    "    vowels1=\"a, e, i, o, u, A,E,I,O,U\"\n",
    "    vowel= 0\n",
    "    cont= 0\n",
    "     \n",
    "    for i in letter:\n",
    "        if i in vowels1:\n",
    "            vowel+=1\n",
    "        \n",
    "        else:\n",
    "            cont+=1\n",
    "    print(\"Total value of vowels in this sentence=\", vowel)\n",
    "    print(\"Total value of constant in this sentence=\", cont)\n",
    "    \n",
    "word(letter)\n",
    "        "
   ]
  },
  {
   "cell_type": "code",
   "execution_count": 30,
   "id": "83253ad5",
   "metadata": {},
   "outputs": [
    {
     "name": "stdout",
     "output_type": "stream",
     "text": [
      "Enter radius  of circle:5\n",
      "Area of the circle is : 78.53981633974483\n"
     ]
    }
   ],
   "source": [
    "# 9.Define a function that accepts radius and returns the area of a circle.\n",
    "\n",
    "radius=int(input(\"Enter radius  of circle:\" ))\n",
    "import math\n",
    "\n",
    "def circle(radius):\n",
    "    area= math.pi * (radius**2)\n",
    "    print(\"Area of the circle is :\",area)\n",
    "    \n",
    "circle(radius)\n",
    "       "
   ]
  },
  {
   "cell_type": "markdown",
   "id": "a31aa52f",
   "metadata": {},
   "source": [
    "# Lambda practise"
   ]
  },
  {
   "cell_type": "code",
   "execution_count": 25,
   "id": "a5dfa99f",
   "metadata": {},
   "outputs": [
    {
     "name": "stdout",
     "output_type": "stream",
     "text": [
      "27\n",
      "16\n"
     ]
    }
   ],
   "source": [
    "x=lambda a : a+ 20\n",
    "print(x(7))\n",
    "\n",
    "\n",
    "y=lambda b : b- 15\n",
    "print(y(31))"
   ]
  },
  {
   "cell_type": "code",
   "execution_count": 27,
   "id": "c17e6fc1",
   "metadata": {},
   "outputs": [
    {
     "name": "stdout",
     "output_type": "stream",
     "text": [
      "77\n",
      "60\n"
     ]
    }
   ],
   "source": [
    "\n",
    "\n",
    "x= lambda a ,n: a * n\n",
    "print(x(11,7))\n",
    "\n",
    "y= lambda a,b :a * b\n",
    "print(y(12,5))"
   ]
  },
  {
   "cell_type": "code",
   "execution_count": 32,
   "id": "dde025e3",
   "metadata": {},
   "outputs": [
    {
     "name": "stdout",
     "output_type": "stream",
     "text": [
      "10.0\n",
      "15\n"
     ]
    }
   ],
   "source": [
    "x= lambda a, b : a/b\n",
    "print(x(50,5))\n",
    "\n",
    "y=lambda l,m : l//m\n",
    "print(y(61,4))"
   ]
  },
  {
   "cell_type": "code",
   "execution_count": 36,
   "id": "5416fcbc",
   "metadata": {},
   "outputs": [
    {
     "name": "stdout",
     "output_type": "stream",
     "text": [
      "45\n",
      "-25\n",
      "90\n",
      "5.0\n"
     ]
    }
   ],
   "source": [
    "m = lambda a, b,c :a + b + c\n",
    "print(m(15,9,21))\n",
    "\n",
    "n= lambda x,y,z : x- y-z\n",
    "print(n(20, 15,30))\n",
    "\n",
    "o=lambda p,q,r : p * q * r\n",
    "print(o(5,6,3))\n",
    "\n",
    "q= lambda x,y,z : x / y / z\n",
    "print(q(50, 5, 2))\n"
   ]
  },
  {
   "cell_type": "code",
   "execution_count": 40,
   "id": "55a6e71b",
   "metadata": {},
   "outputs": [
    {
     "name": "stdout",
     "output_type": "stream",
     "text": [
      "26\n",
      "75\n"
     ]
    }
   ],
   "source": [
    "def myfunction(n):\n",
    "    \n",
    "    return lambda a : a * n\n",
    "mydoubler = myfunction(2)\n",
    "\n",
    "print(mydoubler(13))\n",
    "\n",
    "def function(n):\n",
    "    return lambda x: x * n\n",
    "mydoubler = function (5)\n",
    "\n",
    "print(mydoubler(15))"
   ]
  },
  {
   "cell_type": "code",
   "execution_count": 42,
   "id": "f2e199f0",
   "metadata": {},
   "outputs": [
    {
     "name": "stdout",
     "output_type": "stream",
     "text": [
      "48\n",
      "120\n"
     ]
    }
   ],
   "source": [
    "def my_func(n):\n",
    "    return lambda y : y * n\n",
    "mytriple = my_func(3)\n",
    "\n",
    "print(mytriple(16))\n",
    "\n",
    "def thisfunc(n):\n",
    "    return lambda b : b * n\n",
    "mytriple= thisfunc(8)\n",
    "\n",
    "print(mytriple(15))\n"
   ]
  },
  {
   "cell_type": "code",
   "execution_count": 43,
   "id": "1639d31a",
   "metadata": {},
   "outputs": [
    {
     "name": "stdout",
     "output_type": "stream",
     "text": [
      "28\n",
      "45\n"
     ]
    }
   ],
   "source": [
    "def function(n):\n",
    "    return lambda p : p * n\n",
    " \n",
    "mydoubler = function (2)\n",
    "mytripler = function (3)\n",
    "\n",
    "print(mydoubler(14))\n",
    "print(mytripler(15))"
   ]
  },
  {
   "cell_type": "markdown",
   "id": "15a88eab",
   "metadata": {},
   "source": [
    "# Array practice \n"
   ]
  },
  {
   "cell_type": "code",
   "execution_count": 52,
   "id": "b2cc62a3",
   "metadata": {},
   "outputs": [
    {
     "name": "stdout",
     "output_type": "stream",
     "text": [
      "['maruti', ' suzuki', 'honda', 'BMW']\n",
      "BMW\n",
      "maruti\n"
     ]
    }
   ],
   "source": [
    "cars =[\"maruti\", \" suzuki\", \"honda\", \"BMW\"]\n",
    "print(cars)\n",
    "\n",
    "# accsess the eliment of array\n",
    "x= cars [3]\n",
    "print(x)\n",
    "\n",
    "y= cars[0]\n",
    "print(y)"
   ]
  },
  {
   "cell_type": "code",
   "execution_count": 57,
   "id": "f6caa25d",
   "metadata": {},
   "outputs": [
    {
     "name": "stdout",
     "output_type": "stream",
     "text": [
      "['class', 'book', 'bags', 'teacher', 'principle']\n",
      "['class', 'book', 'ground', 'teacher', 'principle']\n"
     ]
    }
   ],
   "source": [
    "# modify the value\n",
    "school =[\"class\", \"book\",  \"bags\", \"teacher\", \"music\"]\n",
    "school[4] = \"principle\"\n",
    "print(school)\n",
    "\n",
    "school[2] = \"ground\"\n",
    "print(school)\n",
    "\n",
    " "
   ]
  },
  {
   "cell_type": "code",
   "execution_count": 55,
   "id": "f97311a0",
   "metadata": {},
   "outputs": [
    {
     "name": "stdout",
     "output_type": "stream",
     "text": [
      "5\n",
      "6\n"
     ]
    }
   ],
   "source": [
    "# len \n",
    "school =[\"class\", \"book\",  \"bags\", \"teacher\", \"music\"]\n",
    "print(len(school))\n",
    "\n",
    "alist= ['a', 'f ', 'e', 'g', 't','d']\n",
    "print(len(alist))"
   ]
  },
  {
   "cell_type": "code",
   "execution_count": 59,
   "id": "2e8b0bfa",
   "metadata": {},
   "outputs": [
    {
     "name": "stdout",
     "output_type": "stream",
     "text": [
      "['kitchen', 'bedroom', 'hall', 'cupboared', 'fridge']\n",
      "['class', 'book', 'bags', 'teacher', 'plants']\n"
     ]
    }
   ],
   "source": [
    "# add items\n",
    "\n",
    "house = [\"kitchen\", \"bedroom\", \"hall\", \"cupboared\"]\n",
    "house.append(\"fridge\")\n",
    "print(house)\n",
    "\n",
    "school =[\"class\", \"book\",  \"bags\", \"teacher\"]\n",
    "school.append(\"plants\")\n",
    "print(school)\n"
   ]
  },
  {
   "cell_type": "code",
   "execution_count": 60,
   "id": "4981d732",
   "metadata": {},
   "outputs": [
    {
     "name": "stdout",
     "output_type": "stream",
     "text": [
      "class\n",
      "book\n",
      "bags\n",
      "teacher\n",
      "ground\n"
     ]
    }
   ],
   "source": [
    "# looping \n",
    " \n",
    "school =[\"class\", \"book\",  \"bags\", \"teacher\", \"ground\"]\n",
    "for x in school:\n",
    "    print(x)"
   ]
  },
  {
   "cell_type": "code",
   "execution_count": 61,
   "id": "6180cb7d",
   "metadata": {},
   "outputs": [
    {
     "name": "stdout",
     "output_type": "stream",
     "text": [
      "kitchen\n",
      "bedroom\n",
      "hall\n",
      "cupboared\n"
     ]
    }
   ],
   "source": [
    "house = [\"kitchen\", \"bedroom\", \"hall\", \"cupboared\"]\n",
    "for i in house:\n",
    "    print(i)"
   ]
  },
  {
   "cell_type": "code",
   "execution_count": 63,
   "id": "eae25667",
   "metadata": {},
   "outputs": [
    {
     "name": "stdout",
     "output_type": "stream",
     "text": [
      "['kitchen', 'bedroom', 'hall', 'cupboared']\n",
      "['class', 'book', 'bags', 'teacher']\n"
     ]
    }
   ],
   "source": [
    " # removing\n",
    "house = [\"kitchen\", \"bedroom\", \"hall\", \"cupboared\", \"books\"]\n",
    "house.pop(4)\n",
    "print(house)\n",
    "\n",
    "school =[\"class\", \"book\",  \"bags\", \"teacher\", \"fridge\"]\n",
    "school.remove(\"fridge\")\n",
    "print(school)\n"
   ]
  },
  {
   "cell_type": "code",
   "execution_count": 68,
   "id": "d7bdf5e4",
   "metadata": {},
   "outputs": [
    {
     "name": "stdout",
     "output_type": "stream",
     "text": [
      "['class', 'book', 'plants', 'bags', 'teacher', 'ground', 2]\n"
     ]
    }
   ],
   "source": [
    "school =[\"class\", \"book\",  \"bags\", \"teacher\", \"ground\",]\n",
    "school.insert(2, \"plants\")\n",
    "print(school)"
   ]
  },
  {
   "cell_type": "markdown",
   "id": "8283484f",
   "metadata": {},
   "source": [
    "# class / object practice"
   ]
  },
  {
   "cell_type": "code",
   "execution_count": 75,
   "id": "8cf46e5e",
   "metadata": {},
   "outputs": [
    {
     "name": "stdout",
     "output_type": "stream",
     "text": [
      "<class '__main__.myclass'>\n",
      "9\n",
      "7\n"
     ]
    }
   ],
   "source": [
    "class myclass():\n",
    "    x=7\n",
    "    y=9\n",
    "print(myclass)\n",
    "\n",
    "p1= myclass()\n",
    "print(p1.y)\n",
    "print(p1.x)"
   ]
  },
  {
   "cell_type": "code",
   "execution_count": 4,
   "id": "2c2634b3",
   "metadata": {},
   "outputs": [
    {
     "name": "stdout",
     "output_type": "stream",
     "text": [
      "Iqra 10\n"
     ]
    }
   ],
   "source": [
    "# The__init__function()\n",
    "\n",
    "class person:\n",
    "    def __init__(self,name,age):\n",
    "        self.name = name\n",
    "        self.age  = age\n",
    "        \n",
    "p1= person(\"Iqra\", 10)\n",
    "\n",
    "print(p1.name, p1.age)\n",
    "#print(p1. age)\n",
    "     \n",
    "\n",
    "    "
   ]
  },
  {
   "cell_type": "code",
   "execution_count": 11,
   "id": "1eeb2d10",
   "metadata": {},
   "outputs": [
    {
     "name": "stdout",
     "output_type": "stream",
     "text": [
      "Iqra\n",
      "playing\n",
      "Hazra\n",
      "reading book\n"
     ]
    }
   ],
   "source": [
    "class aboutself :\n",
    "    def __init__(self, name, age, hobby):\n",
    "        self.name   = name\n",
    "        self.age    = age\n",
    "        self.hobby  = hobby\n",
    "        \n",
    "p1= aboutself(\"Iqra\", 10,  \"playing\")\n",
    "p2= aboutself(\"Hazra\", 12, \"reading book\")\n",
    "\n",
    "print(p1.name)\n",
    "print(p1.hobby)\n",
    "print(p2.name)\n",
    "print(p2.hobby)\n",
    "    "
   ]
  },
  {
   "cell_type": "code",
   "execution_count": 12,
   "id": "8c14ad44",
   "metadata": {},
   "outputs": [
    {
     "name": "stdout",
     "output_type": "stream",
     "text": [
      "Hello my name is   Hazra and i am 13 year old and my favorate place is nature place\n",
      "{'name': 'Hazra', 'age': 13, 'hobby': 'cooking', 'favplace': 'nature place'}\n",
      "Hello my name is   Iqra and i am 10 year old and my favorate place is water park\n"
     ]
    }
   ],
   "source": [
    "# object method\n",
    "class people :\n",
    "    def __init__(self,name, age,hobby,favplace):\n",
    "        self.name    = name\n",
    "        self.age     = age\n",
    "        self.hobby   = hobby\n",
    "        self.favplace= favplace\n",
    "    \n",
    "    def myfunc(self):\n",
    "        return f\"Hello my name is   {self.name} and i am {self.age} year old and my favorate place is {self.favplace}\"\n",
    "\n",
    "p1= people(\"Hazra\", 13 , \"cooking\",\"nature place\")\n",
    "#p2 = people(\"Iqra\", 10 ,\"plying\", \"water park\")\n",
    "\n",
    "print(p1.myfunc())\n",
    "#print(p2.myfunc())\n",
    "        \n",
    "print(p1.__dict__)\n",
    "\n",
    "def myfunc(self):\n",
    "    return f\"Hello my name is  {self.name}. I am {self.age} year old , my hobby is {self.hobby} and my favplace is {self.place}.\"\n",
    "p2 = people(\"Iqra\", 10 ,\"plying\", \"water park\")\n",
    "\n",
    "print(p2.myfunc())"
   ]
  },
  {
   "cell_type": "code",
   "execution_count": 5,
   "id": "f752dce5",
   "metadata": {},
   "outputs": [
    {
     "name": "stdout",
     "output_type": "stream",
     "text": [
      "My name is Ahana . My hobby is plying , reading book and my favorate place is water park.\n"
     ]
    }
   ],
   "source": [
    "# self parameter \n",
    "class person:\n",
    "    def __init__(mypara, name, hobby, favplace):\n",
    "        mypara.name   =   name\n",
    "        mypara.hobby  =  hobby\n",
    "        mypara.favplace = favplace\n",
    "        \n",
    "    def thisfunc(abc):\n",
    "        return f\"My name is {abc.name} . My hobby is {abc.hobby} and my favorate place is {abc.favplace}.\"\n",
    "p1= person(\"Ahana\", \"plying , reading book\", \"water park\")\n",
    "\n",
    "print(p1.thisfunc())\n",
    "        \n",
    "    "
   ]
  },
  {
   "cell_type": "code",
   "execution_count": 10,
   "id": "be74fde2",
   "metadata": {},
   "outputs": [
    {
     "name": "stdout",
     "output_type": "stream",
     "text": [
      "My name is kulsum . My hobby is plying , reading book and my favorate place is water park.\n"
     ]
    }
   ],
   "source": [
    "# modify object properties\n",
    "class people:\n",
    "    def __init__(self, name, hobby, favplace):\n",
    "        self.name   =   name\n",
    "        self.hobby  =  hobby\n",
    "        self.favplace = favplace\n",
    "        \n",
    "    def myfunc(abc): \n",
    "        return f\"My name is {abc.name} . My hobby is {abc.hobby} and my favorate place is {abc.favplace}.\"\n",
    "p1= people(\"Ahana\", \"plying , reading book\", \"water park\")\n",
    "p1.name = \"kulsum\"\n",
    "\n",
    "print(p1.myfunc())\n",
    "\n",
    "    "
   ]
  },
  {
   "cell_type": "code",
   "execution_count": 15,
   "id": "01de071b",
   "metadata": {},
   "outputs": [
    {
     "name": "stdout",
     "output_type": "stream",
     "text": [
      "My name is Aaliya . My hobby is reading book and my favorate place is water park.\n"
     ]
    }
   ],
   "source": [
    "# del object properties \n",
    "class people:\n",
    "    def __init__(self, name, hobby, favplace):\n",
    "        self.name   =   name\n",
    "        self.hobby  =  hobby\n",
    "        self.favplace = favplace\n",
    "        \n",
    "    def myfunc(abc):\n",
    "        return f\"My name is {abc.name} . My hobby is reading book and my favorate place is {abc.favplace}.\"\n",
    "p1= people(\"Aaliya\", \"plying , reading book\", \"water park\")\n",
    "del p1.hobby\n",
    "\n",
    "print(p1.myfunc())\n",
    "\n",
    "    "
   ]
  },
  {
   "cell_type": "code",
   "execution_count": 1,
   "id": "ebb496ea",
   "metadata": {},
   "outputs": [
    {
     "name": "stdout",
     "output_type": "stream",
     "text": [
      "The_Living_World=1\n",
      "Biological_Classification=2\n",
      "Plant_Kingdom=3\n",
      "Animal_Kingdom=4\n",
      "Morphology_Of_Flowering_Plants=5\n",
      "Anatomy_Of_Flowering_Plants=6\n",
      "Structural_Organisation_In_Animals=7\n",
      "Cell_The_Unit_Of_Life=8\n",
      "Biomolecules=9\n",
      "Cell_Cycle_And_Cell_Division=10\n",
      "Transport_In_Plants=11\n",
      "Mineral_Nutrition=12\n",
      "Photosynthesis_In_Higher_Plants=13\n",
      "Respiration_In_Plants=14\n",
      "Plant_Growth_And_Development=15\n",
      "Digestion_And_Absorption=16\n",
      "Breathing_And_Exchange_Of_Gases=17\n",
      "Body_Fluids_And_Circulation=18\n",
      "Excretory_Products_And_Their_Elimination=19\n",
      "Locomotion_And_Movement=20\n",
      "Neural_Control_And_Coordination=21\n",
      "Chemical_Coordination_And_Integration=22\n",
      "Reproduction_In_Organisms=23\n",
      "Sexual_Reproduction_In_Flowering_Plants=24\n",
      "Human_Reproduction=25\n",
      "Reproductive_Health=26\n",
      "Principles_Of_Inheritance_And_Variation=27\n",
      "Molecular_Basis_Of_Inheritance=28\n",
      "Evolution=29\n",
      "Human_Health_And_Disease=30\n",
      "Strategies_For_Enhancement_In_Food_Production=31\n",
      "Microbes_In_Human_Welfare=32\n",
      "Biotechnology_Principles_And_Processes=33\n",
      "Biotechnology_And_Its_Applications=34\n",
      "Organisms_And_Populations=35\n",
      "Ecosystem=36\n",
      "Biodiversity_And_Conservation=37\n",
      "Environmental_Issues=38\n"
     ]
    }
   ],
   "source": [
    "f = open(\"Biology.txt\",\"r\")\n",
    "f2= open(\"newfile.txt\", \"w\")\n",
    "count=0\n",
    "for x in f:\n",
    "    c= x.replace(\" \", \"_\").strip()\n",
    "    count+=1\n",
    "    #print(c,\"=\",count)\n",
    "    d= c + \"=\" + str(count)\n",
    "    f2.write(d)\n",
    "    print(d)\n",
    "\n"
   ]
  },
  {
   "cell_type": "markdown",
   "id": "5bd70687",
   "metadata": {},
   "source": [
    "# class practice\n"
   ]
  },
  {
   "cell_type": "markdown",
   "id": "ab57180a",
   "metadata": {},
   "source": []
  },
  {
   "cell_type": "code",
   "execution_count": 8,
   "id": "c60b570f",
   "metadata": {},
   "outputs": [
    {
     "name": "stdout",
     "output_type": "stream",
     "text": [
      "240 18\n"
     ]
    }
   ],
   "source": [
    "# 1.OOP Exercise 1: Create a Class with instance attributes\n",
    "#Write a Python program to create a Vehicle class with max_speed and mileage instance attributes.\n",
    "\n",
    "\n",
    "class vehicle:\n",
    "    def __init__(self, max_speed, mileaga):\n",
    "        self.max_speed = max_speed\n",
    "        self.mileaga = mileaga\n",
    "\n",
    "modelX = vehicle(240 , 18)\n",
    "print(modelX.max_speed, modelX.mileaga)\n",
    "\n"
   ]
  },
  {
   "cell_type": "code",
   "execution_count": 7,
   "id": "c150bdbc",
   "metadata": {},
   "outputs": [],
   "source": [
    "# 2.OOP Exercise 2: Create a Vehicle class without any variables and methods\n",
    "\n",
    "class vehicle:\n",
    "    pass"
   ]
  },
  {
   "cell_type": "code",
   "execution_count": 10,
   "id": "bfd875df",
   "metadata": {},
   "outputs": [
    {
     "name": "stdout",
     "output_type": "stream",
     "text": [
      "vihcle Name : School volvo speed: 200 mileaga : 18\n"
     ]
    }
   ],
   "source": [
    "# 3. OOP Exercise 3: Create a child class Bus that will inherit all of the variables and methods of the Vehicle class\n",
    "\n",
    "class vehicle:\n",
    "    def __init__(self,name , max_speed, mileaga):\n",
    "        self.name = name\n",
    "        self.max_speed = max_speed\n",
    "        self.mileaga = mileaga\n",
    "        \n",
    "class bus(vehicle):\n",
    "    pass\n",
    "\n",
    "school_bus= bus(\"School volvo\", 200 , 18)\n",
    "print(\"vihcle Name :\", school_bus.name , \"speed:\" , school_bus.max_speed, \"mileaga :\" ,school_bus.mileaga)\n",
    "        \n",
    "\n",
    "        \n",
    "    "
   ]
  },
  {
   "cell_type": "code",
   "execution_count": 16,
   "id": "0f7502f0",
   "metadata": {},
   "outputs": [
    {
     "name": "stdout",
     "output_type": "stream",
     "text": [
      "The seating capacity of a bus is 50 passengar.\n"
     ]
    }
   ],
   "source": [
    "# 4 .OOP Exercise 4: Class Inheritance\n",
    "#Given:\n",
    "\n",
    "#Create a Bus class that inherits from the Vehicle class. Give the capacity argument of Bus.seating_capacity() a default value of 50.\n",
    "\n",
    "class vehicle:\n",
    "    def __init__(self, name, max_speed , mileaga):\n",
    "        self.name = name\n",
    "        self.max_speed = max_speed\n",
    "        self.mileaga = mileaga\n",
    "        \n",
    "    def seating_capacity(self, capacity):\n",
    "        return f\"The seating capacity of a {self. name} is {capacity} passengar.\"\n",
    "    \n",
    "    \n",
    "class Bus(vehicle):\n",
    "    \n",
    "    def seating_capacity(self , capacity=50):\n",
    "        return super().seating_capacity(capacity=50)\n",
    "\n",
    "\n",
    "school_bus= Bus(\"bus\", 240 , 18)\n",
    "print(school_bus.seating_capacity())\n",
    "\n",
    "\n"
   ]
  },
  {
   "cell_type": "code",
   "execution_count": 3,
   "id": "2c97946a",
   "metadata": {},
   "outputs": [
    {
     "name": "stdout",
     "output_type": "stream",
     "text": [
      "color: white vehical-name : school volvo speed: 200 mileaga: 18\n",
      "color: white vehical_name: Audi Q5 speed: 240 mileaga: 18\n"
     ]
    }
   ],
   "source": [
    "# 5. OOP Exercise 5: Define a property that must have the same value for every class instance (object)\n",
    "\n",
    "#Define a class attribute”color” with a default value white. I.e., Every Vehicle should be white.\n",
    "\n",
    "class vehical :\n",
    "    \n",
    "    color = \"white\"\n",
    "    \n",
    "    def __init__(self,   vehical_name , max_speed , mileaga):\n",
    "        self.vehical_name  = vehical_name \n",
    "        self.max_speed = max_speed\n",
    "        self.mileaga = mileaga\n",
    "        \n",
    "class Bus(vehical):\n",
    "    pass\n",
    "\n",
    "class Car(vehical):\n",
    "    pass\n",
    "\n",
    "school_bus=Bus(\"school volvo\", 200 , 18)\n",
    "print( \"color:\",school_bus.color,\"vehical-name :\",school_bus.vehical_name,\"speed:\", school_bus.max_speed,\"mileaga:\",school_bus.mileaga )\n",
    "\n",
    "car= Car(\"Audi Q5\", 240 , 18)\n",
    "print(\"color:\",car.color, \"vehical_name:\",car.vehical_name ,\"speed:\",car.max_speed ,\"mileaga:\",car.mileaga)\n",
    "\n",
    "        \n",
    "\n"
   ]
  },
  {
   "cell_type": "code",
   "execution_count": 4,
   "id": "1fcb94ad",
   "metadata": {},
   "outputs": [
    {
     "ename": "IndentationError",
     "evalue": "unindent does not match any outer indentation level (<tokenize>, line 15)",
     "output_type": "error",
     "traceback": [
      "\u001b[1;36m  File \u001b[1;32m<tokenize>:15\u001b[1;36m\u001b[0m\n\u001b[1;33m    def fare (self):\u001b[0m\n\u001b[1;37m    ^\u001b[0m\n\u001b[1;31mIndentationError\u001b[0m\u001b[1;31m:\u001b[0m unindent does not match any outer indentation level\n"
     ]
    }
   ],
   "source": [
    "# 6. OOP Exercise 6: Class Inheritance\n",
    "\n",
    "# Create a Bus child class that inherits from the Vehicle class. The default fare charge of any vehicle is seating capacity * 100. If Vehicle is Bus instance, we need to add an extra 10% on full fare as a maintenance charge. So total fare for bus instance will become the final amount = total fare + 10% of the total fare.\n",
    "\n",
    "# Note: The bus seating capacity is 50. so the final fare amount should be 5500. You need to override the fare() method of a Vehicle class in Bus class.\n",
    "\n",
    "# Use the following code for your parent Vehicle class. We need to access the parent class from inside a method of a child class.\n",
    "\n",
    "class vehical:\n",
    "    def __init__(self, name , mileaga , capacity):\n",
    "        self.name = nema\n",
    "        self.mileaga = mileaga\n",
    "        self.capacity = capacity\n",
    " \n",
    "   def fare (self):\n",
    "        return self.capacity *100\n",
    "    \n",
    "class Bus(vehical):\n",
    "    \n",
    "    def fare(self):\n",
    "        amount = super().fare()\n",
    "        amount+= amount * 10/100\n",
    "        return amount\n",
    "\n",
    "school_bus= Bus(\"school volvo\", 18 , 50 )\n",
    "print(\"The tolat bus fare is :\", school_bus.fare())\n",
    "    \n",
    "    \n",
    "    \n",
    "    \n",
    "        \n"
   ]
  },
  {
   "cell_type": "markdown",
   "id": "3f4cf1ca",
   "metadata": {},
   "source": [
    "# oops practise"
   ]
  },
  {
   "cell_type": "code",
   "execution_count": 8,
   "id": "903852b5",
   "metadata": {},
   "outputs": [
    {
     "name": "stdout",
     "output_type": "stream",
     "text": [
      "Student: Harry 12 ABC School\n",
      "Student: Harry 14 XYZ school \n"
     ]
    }
   ],
   "source": [
    "# Define and call an instance method and class method.\n",
    "\n",
    "#class methode define\n",
    "\n",
    "class student:\n",
    "    # class variable\n",
    "    school_name = \"ABC School\"\n",
    "    \n",
    "    #constructor\n",
    "    def __init__(self, name, age):\n",
    "        self.name = name\n",
    "        self.age =  age\n",
    "        \n",
    "    # Instance method\n",
    "    def show(self):\n",
    "        #access instance variables  and class variables\n",
    "        print('Student:', self.name ,self.age, student. school_name)\n",
    "        \n",
    "        \n",
    "    # Instance methods\n",
    "    \n",
    "    def change_age(self, new_age):\n",
    "        # modify inatance variable \n",
    "        self.age = new_age\n",
    "        \n",
    "        \n",
    "    # class method\n",
    "    @classmethod\n",
    "    def modify_school_name(cls, new_name):\n",
    "        # modify class variable\n",
    "        cls.school_name = new_name\n",
    "        \n",
    "s1 = student(\"Harry\", 12)\n",
    "\n",
    "# call instance method \n",
    "s1.show()\n",
    "s1.change_age(14)\n",
    "\n",
    "# call class method\n",
    "student. modify_school_name(\"XYZ school \")\n",
    "\n",
    "# call instance method \n",
    "s1.show()\n"
   ]
  },
  {
   "cell_type": "code",
   "execution_count": null,
   "id": "d1f1e81f",
   "metadata": {},
   "outputs": [],
   "source": [
    "# Type of constructor\n"
   ]
  },
  {
   "cell_type": "code",
   "execution_count": 9,
   "id": "6e512e10",
   "metadata": {},
   "outputs": [
    {
     "name": "stdout",
     "output_type": "stream",
     "text": [
      "Inside display\n"
     ]
    }
   ],
   "source": [
    "1.# default constructor\n",
    "\n",
    "class Employee:\n",
    "    \n",
    "    \n",
    "    def display(self):\n",
    "        print(\"Inside display\")\n",
    "        \n",
    "emp= Employee()\n",
    "emp.display()\n"
   ]
  },
  {
   "cell_type": "code",
   "execution_count": 10,
   "id": "052fbdd3",
   "metadata": {},
   "outputs": [
    {
     "name": "stdout",
     "output_type": "stream",
     "text": [
      "Name : PYnative Address : ABC street\n"
     ]
    }
   ],
   "source": [
    "# 2. Non- parametrized construcor\n",
    "\n",
    "class compnay:\n",
    "     \n",
    "     # no argument constructor   \n",
    "    def __init__(self):\n",
    "        self.name  = \"PYnative\"\n",
    "        self.address = \"ABC street\"\n",
    "    \n",
    "    # a method for printing data member\n",
    "    \n",
    "    def show(self):\n",
    "        print(\"Name :\", self.name, \"Address :\", self.address)\n",
    "\n",
    "cmp= compnay()\n",
    "cmp.show()\n",
    "\n",
    "\n",
    "# This constructor doesn’t accept the arguments during object creation. Instead, it initializes every object with the same set of values.\n",
    "\n"
   ]
  },
  {
   "cell_type": "code",
   "execution_count": 11,
   "id": "94d3c609",
   "metadata": {},
   "outputs": [
    {
     "name": "stdout",
     "output_type": "stream",
     "text": [
      "Emma 20 7500\n",
      "Kelly 23 8500\n"
     ]
    }
   ],
   "source": [
    "# 3 . Parametrized constructor\n",
    "\n",
    "class Employee:\n",
    "    \n",
    "    # parametrized constructor\n",
    "    def __init__(self, name , age, salary):\n",
    "        self.name = name\n",
    "        self.age = age \n",
    "        self.salary= salary\n",
    "        \n",
    "    # display object\n",
    "    def show(self):\n",
    "        print(self.name , self.age, self.salary)\n",
    "        \n",
    "# creating object of the employee class \n",
    "emma = Employee(\"Emma\", 20 , 7500)\n",
    "emma.show()\n",
    "\n",
    "kelly = Employee(\"Kelly\", 23 , 8500)\n",
    "kelly.show()\n",
    "\n",
    "\n",
    "# consider a company that contains thousands of employees.For each employee we need to pass a different name, age, and salary .\n",
    "# In such cases, use the parameterized constructor."
   ]
  },
  {
   "cell_type": "code",
   "execution_count": 4,
   "id": "495e0fc6",
   "metadata": {},
   "outputs": [
    {
     "name": "stdout",
     "output_type": "stream",
     "text": [
      "Emma 12 8\n",
      "kelly 14 8\n",
      "John 13 7\n"
     ]
    }
   ],
   "source": [
    "# constructor with default value\n",
    "\n",
    "class student:\n",
    "    #count=0\n",
    "    \n",
    "    def __init__(self, name= \"Emma\", age=12 , Classroom=8):\n",
    "        self.name = name\n",
    "        self.age = age\n",
    "        self.Classroom = Classroom\n",
    "        \n",
    "    def show(self):\n",
    "        print(self.name , self.age , self.Classroom)\n",
    "        \n",
    "    \n",
    "        #student.count= student.count+1\n",
    "        \n",
    "s1 = student()\n",
    "s1.show()\n",
    "\n",
    "kelly= student(\"kelly\", 14, )\n",
    "kelly.show()\n",
    "    \n",
    "john = student(\"John\" , 13 , 7)\n",
    "john.show()\n",
    "#print(\"The number of object :\",student.count)"
   ]
  },
  {
   "cell_type": "code",
   "execution_count": 1,
   "id": "514d9916",
   "metadata": {},
   "outputs": [
    {
     "name": "stdout",
     "output_type": "stream",
     "text": [
      "Inside Vehical Constructor\n",
      "Inside car constructer\n",
      "Inside Electric_car constructor\n",
      "Engine=1500cc, Max speed=240, kilometer range=750\n"
     ]
    }
   ],
   "source": [
    "# constructor chaining \n",
    "\n",
    "class vehical:\n",
    "    \n",
    "    # The constructor of vehical\n",
    "    def __init__(self, engine):\n",
    "        print('Inside Vehical Constructor')\n",
    "        self.engine = engine\n",
    "        \n",
    "\n",
    "class Car (vehical):\n",
    "    \n",
    "    # The constructor of car\n",
    "    def __init__(self,engine, max_speed):\n",
    "        super(). __init__(engine)\n",
    "        print('Inside car constructer')\n",
    "        self.max_speed = max_speed\n",
    "        \n",
    "class Electric_car(Car):\n",
    "    \n",
    "    # The constructer of Electric_car\n",
    "    def __init__(self, engine , max_speed, km_range):\n",
    "        super().__init__(engine, max_speed)\n",
    "        print('Inside Electric_car constructor')\n",
    "        self.km_range = km_range\n",
    "\n",
    "        \n",
    "# object of Electric_car\n",
    "ev = Electric_car('1500cc' ,240 , 750 )\n",
    "print(f\"Engine={ev.engine}, Max speed={ev.max_speed}, kilometer range={ev.km_range}\")\n"
   ]
  },
  {
   "cell_type": "code",
   "execution_count": 6,
   "id": "edabf3bb",
   "metadata": {},
   "outputs": [
    {
     "name": "stdout",
     "output_type": "stream",
     "text": [
      "The number of object: 3\n"
     ]
    }
   ],
   "source": [
    "# Counting the number of object\n",
    "\n",
    "class Employee:\n",
    "    count= 0\n",
    "    \n",
    "    def __init__(self):\n",
    "        Employee.count = Employee.count+1\n",
    "        \n",
    "        \n",
    "e1 = Employee()\n",
    "e2= Employee()\n",
    "e3= Employee()\n",
    "\n",
    "print(\"The number of object:\", Employee.count)"
   ]
  },
  {
   "cell_type": "code",
   "execution_count": 9,
   "id": "88d0129d",
   "metadata": {},
   "outputs": [
    {
     "name": "stdout",
     "output_type": "stream",
     "text": [
      "1\n",
      "2\n",
      "3\n",
      "4\n",
      "5\n",
      "6\n",
      "7\n",
      "8\n",
      "w\n",
      "o\n",
      "r\n",
      "l\n",
      "d\n"
     ]
    }
   ],
   "source": [
    "def show_element(lst):\n",
    "    #list1=[1,2,3,4,5,6]\n",
    "    for i in lst:\n",
    "        print(i)\n",
    " \n",
    "l1=[1,2,3,4]\n",
    "l2=[5,6,7,8]\n",
    "\"world\"\n",
    "show_element(l1)\n",
    "show_element(l2)\n",
    "show_element(\"world\")\n",
    "\n"
   ]
  },
  {
   "cell_type": "code",
   "execution_count": 14,
   "id": "e6957198",
   "metadata": {},
   "outputs": [
    {
     "name": "stdout",
     "output_type": "stream",
     "text": [
      "2651378090256\n",
      "2651378090256\n",
      "2\n"
     ]
    }
   ],
   "source": [
    "a=2\n",
    "b=a\n",
    "print(id(a))\n",
    "print(id(b))\n",
    "del(b)\n",
    "print(a)"
   ]
  },
  {
   "cell_type": "code",
   "execution_count": 3,
   "id": "f9623990",
   "metadata": {},
   "outputs": [
    {
     "name": "stdout",
     "output_type": "stream",
     "text": [
      "Inside Constructor\n",
      "Hello my name is  Emma\n",
      "Object destroyed\n"
     ]
    }
   ],
   "source": [
    "# The destructor will not invoke when we delete object reference. It will only invoke when all references to the objects get deleted.\n",
    "\n",
    "\n",
    "\n",
    "#import time\n",
    "\n",
    "class Student:\n",
    "    def __init__(self , name):\n",
    "        print(\"Inside Constructor\")\n",
    "        self.name= name\n",
    "        \n",
    "    def show(self):\n",
    "        print(\"Hello my name is \", self.name)\n",
    "        \n",
    "    def __del__(self):\n",
    "        print(\"Object destroyed\")\n",
    "    \n",
    "s1= Student(\"Emma\")\n",
    "s2= s1\n",
    "\n",
    "s1.show()\n",
    "del s1\n",
    "del s2\n"
   ]
  },
  {
   "cell_type": "markdown",
   "id": "2ec09ca4",
   "metadata": {},
   "source": [
    "# Destructor\n"
   ]
  },
  {
   "cell_type": "code",
   "execution_count": 1,
   "id": "2fee4690",
   "metadata": {},
   "outputs": [
    {
     "name": "stdout",
     "output_type": "stream",
     "text": [
      "Inside the Constructor\n",
      "Object initialize\n",
      "Hello my name is  John\n",
      "Inside the Constructor\n",
      "Object initialize\n",
      "Hello my name is  Leo\n",
      "inside the destructor\n",
      "Object getting destroyed\n",
      "inside the destructor\n",
      "Object getting destroyed\n"
     ]
    }
   ],
   "source": [
    "# How to implement a destructor\n",
    "# how destructor gets executed when we delete the object.\n",
    "\n",
    "class student:\n",
    "    \n",
    "    def __init__(self, name, age):\n",
    "        print(\"Inside the Constructor\")\n",
    "        self.name = name\n",
    "        self.age =age\n",
    "        print(\"Object initialize\")\n",
    "        \n",
    "        \n",
    "\n",
    "    def show(self):\n",
    "        print(\"Hello my name is \", self.name)\n",
    "        \n",
    "        \n",
    "    def __del__(self):\n",
    "        print(\"inside the destructor\")\n",
    "        print(\"Object getting destroyed\")\n",
    "        \n",
    "        \n",
    "s1= student(\"John\", 19)\n",
    "s1.show()\n",
    "\n",
    "s2= student(\"Leo\", 17)\n",
    "s2.show()\n",
    "\n",
    "del s1\n",
    "del s2\n"
   ]
  },
  {
   "cell_type": "code",
   "execution_count": 1,
   "id": "c9d68aeb",
   "metadata": {},
   "outputs": [
    {
     "name": "stdout",
     "output_type": "stream",
     "text": [
      "Inside Constructor\n",
      "Hello, my name is john\n",
      "After sleep\n",
      "Hello, my name is john\n",
      "Object destroyed\n"
     ]
    }
   ],
   "source": [
    "import time\n",
    "\n",
    "class Student:\n",
    "\n",
    "    # constructor\n",
    "    def __init__(self, name):\n",
    "        print('Inside Constructor')\n",
    "        self.name = name\n",
    "\n",
    "    def show(self):\n",
    "        print('Hello, my name is', self.name)\n",
    "\n",
    "    # destructor\n",
    "    def __del__(self):\n",
    "        print('Object destroyed')\n",
    "\n",
    "# create object\n",
    "s1 = Student('john')\n",
    "# create new reference\n",
    "# both reference points to the same object\n",
    "s2 = s1\n",
    "s1.show()\n",
    "\n",
    "# delete object reference s1\n",
    "del s1\n",
    "\n",
    "# add sleep and observe the output\n",
    "time.sleep(5)\n",
    "print('After sleep')\n",
    "s2.show()\n",
    "del s2"
   ]
  },
  {
   "cell_type": "code",
   "execution_count": 1,
   "id": "09850bec",
   "metadata": {},
   "outputs": [
    {
     "name": "stdout",
     "output_type": "stream",
     "text": [
      "Vehicle 12 created\n",
      "Car 12 created\n"
     ]
    }
   ],
   "source": [
    "# Cases when Destructor doesn’t work Correctly\n",
    "# 1. Circular referencing when two objects refer to each other\n",
    "\n",
    "\n",
    "1.# Circular Referencing\n",
    "# The __del()__() doesn’t work correctly in the case of circular referencing. In circular referencing occurs when two objects refer to each other.\n",
    "\n",
    "\n",
    "\n",
    "\n",
    "import time\n",
    "\n",
    "\n",
    "class Vehicle():\n",
    "    def __init__(self, id, car):\n",
    "        self.id = id;\n",
    "        # saving reference of Car object\n",
    "        self.dealer = car;\n",
    "        print('Vehicle', self.id, 'created');\n",
    "\n",
    "    def __del__(self):\n",
    "        print('Vehicle', self.id, 'destroyed');\n",
    "\n",
    "\n",
    "class Car():\n",
    "    def __init__(self, id):\n",
    "        self.id = id;\n",
    "        # saving Vehicle class object in 'dealer' variable\n",
    "        # Sending reference of Car object ('self') for Vehicle object\n",
    "        self.dealer = Vehicle(id, self);\n",
    "        print('Car', self.id, 'created')\n",
    "\n",
    "    def __del__(self):\n",
    "        print('Car', self.id, 'destroyed')\n",
    "\n",
    "\n",
    "# create car object\n",
    "c = Car(12)\n",
    "# delete car object\n",
    "del c\n",
    "# ideally destructor must execute now\n",
    "\n",
    "# to observe the behavior\n",
    "time.sleep(8)"
   ]
  },
  {
   "cell_type": "code",
   "execution_count": 2,
   "id": "7516bd1e",
   "metadata": {},
   "outputs": [
    {
     "ename": "Exception",
     "evalue": "Not Allowed",
     "output_type": "error",
     "traceback": [
      "\u001b[1;31m---------------------------------------------------------------------------\u001b[0m",
      "\u001b[1;31mException\u001b[0m                                 Traceback (most recent call last)",
      "Input \u001b[1;32mIn [2]\u001b[0m, in \u001b[0;36m<cell line: 14>\u001b[1;34m()\u001b[0m\n\u001b[0;32m     11\u001b[0m         \u001b[38;5;28mprint\u001b[39m(\u001b[38;5;124m'\u001b[39m\u001b[38;5;124mRelease resources\u001b[39m\u001b[38;5;124m'\u001b[39m)\n\u001b[0;32m     13\u001b[0m \u001b[38;5;66;03m# creating an object\u001b[39;00m\n\u001b[1;32m---> 14\u001b[0m car \u001b[38;5;241m=\u001b[39m \u001b[43mVehicle\u001b[49m\u001b[43m(\u001b[49m\u001b[38;5;241;43m350\u001b[39;49m\u001b[43m)\u001b[49m;\n\u001b[0;32m     15\u001b[0m \u001b[38;5;66;03m# to delete the object explicitly\u001b[39;00m\n\u001b[0;32m     16\u001b[0m \u001b[38;5;28;01mdel\u001b[39;00m car\n",
      "Input \u001b[1;32mIn [2]\u001b[0m, in \u001b[0;36mVehicle.__init__\u001b[1;34m(self, speed)\u001b[0m\n\u001b[0;32m      5\u001b[0m \u001b[38;5;28;01mdef\u001b[39;00m \u001b[38;5;21m__init__\u001b[39m(\u001b[38;5;28mself\u001b[39m, speed):\n\u001b[0;32m      6\u001b[0m     \u001b[38;5;28;01mif\u001b[39;00m speed \u001b[38;5;241m>\u001b[39m \u001b[38;5;241m240\u001b[39m:\n\u001b[1;32m----> 7\u001b[0m         \u001b[38;5;28;01mraise\u001b[39;00m \u001b[38;5;167;01mException\u001b[39;00m(\u001b[38;5;124m'\u001b[39m\u001b[38;5;124mNot Allowed\u001b[39m\u001b[38;5;124m'\u001b[39m);\n\u001b[0;32m      8\u001b[0m     \u001b[38;5;28mself\u001b[39m\u001b[38;5;241m.\u001b[39mspeed \u001b[38;5;241m=\u001b[39m speed\n",
      "\u001b[1;31mException\u001b[0m: Not Allowed"
     ]
    }
   ],
   "source": [
    "# 2.Exception occured in __init__() method.\n",
    "# Exception in __init__ Method\n",
    "# In destructor inside init() method we cant use if statement or other stament.Hence this giving an Error .\n",
    " \n",
    "class Vehicle:\n",
    "    def __init__(self, speed):\n",
    "        if speed > 240:\n",
    "            raise Exception('Not Allowed');\n",
    "        self.speed = speed;\n",
    "\n",
    "    def __del__(self):\n",
    "        print('Release resources')\n",
    "\n",
    "# creating an object\n",
    "car = Vehicle(350);\n",
    "# to delete the object explicitly\n",
    "del car\n",
    "\n",
    "            \n",
    "            \n"
   ]
  },
  {
   "cell_type": "markdown",
   "id": "7c17fa30",
   "metadata": {},
   "source": [
    "# Instance Variables\n"
   ]
  },
  {
   "cell_type": "code",
   "execution_count": 2,
   "id": "fd035f66",
   "metadata": {},
   "outputs": [
    {
     "name": "stdout",
     "output_type": "stream",
     "text": [
      "Object 1\n",
      "Name: Jessa\n",
      "Age : 16\n",
      "object 2\n",
      "Name : John\n",
      "Age : 21\n"
     ]
    }
   ],
   "source": [
    "# In the following example, we are creating two instance variable name and age in the Student class.\n",
    "\n",
    "class student:\n",
    "    # Constructor\n",
    "    def __init__(self, name, age):\n",
    "        \n",
    "        # Instance variables\n",
    "        self.name= name \n",
    "        self.age= age\n",
    "        \n",
    "# Creat first object       \n",
    "s1= student(\"Jessa\", 16)\n",
    "\n",
    "\n",
    "# Access instance variables\n",
    "print(\"Object 1\")\n",
    "print(\"Name:\", s1.name)\n",
    "print(\"Age :\", s1.age)\n",
    "\n",
    "\n",
    "# Create second object\n",
    "s2=student(\"John\", 21)\n",
    "\n",
    "\n",
    "# Access intance variables\n",
    "print(\"object 2\")\n",
    "print(\"Name :\", s2.name)\n",
    "print(\"Age :\", s2.age)\n",
    "\n",
    "\n",
    "        "
   ]
  },
  {
   "cell_type": "code",
   "execution_count": 4,
   "id": "27185d5c",
   "metadata": {},
   "outputs": [
    {
     "name": "stdout",
     "output_type": "stream",
     "text": [
      "Before\n",
      "Name : john Age : 10\n",
      "After\n",
      "Name : Emma Age : 15\n"
     ]
    }
   ],
   "source": [
    "# Modify Values of Instance Variables.\n",
    "\n",
    "class Student:\n",
    "    \n",
    "    # Constructor \n",
    "    def __init__(self, name, age):\n",
    "        \n",
    "        # instance variables\n",
    "        self.name = name\n",
    "        self.age = age\n",
    "        \n",
    "        \n",
    "s1 = Student(\"john\", 10)\n",
    "\n",
    "print(\"Before\")\n",
    "print(\"Name :\", s1.name,\"Age :\", s1.age)\n",
    "\n",
    "\n",
    "\n",
    "# modify instance variables\n",
    "\n",
    "s1.name = \"Emma\"\n",
    "s1.age= 15\n",
    "\n",
    "\n",
    "print(\"After\")\n",
    "print(\"Name :\",s1.name, \"Age :\", s1.age)\n",
    "        \n",
    "        \n",
    "        "
   ]
  },
  {
   "cell_type": "code",
   "execution_count": 5,
   "id": "628f4152",
   "metadata": {},
   "outputs": [
    {
     "name": "stdout",
     "output_type": "stream",
     "text": [
      "Name: Kelly Age: 22\n"
     ]
    }
   ],
   "source": [
    "# Ways to Access Instance Variable\n",
    "\n",
    "# 1. Within the class in instance method by using the object reference (self).\n",
    "\n",
    "class Student:\n",
    "    \n",
    "    # Constroctor\n",
    "    def __init__(self, name, age):\n",
    "        \n",
    "        # instance variables\n",
    "        self.name = name \n",
    "        self.age= age\n",
    "        \n",
    "    # instance method access instance variables\n",
    "    def show(self):\n",
    "        print(\"Name:\", s1.name , \"Age:\", s1.age)\n",
    " \n",
    "\n",
    " # Create object       \n",
    "s1= Student(\"Kelly\", 22)\n",
    "\n",
    "\n",
    "# call instance method\n",
    "s1.show()\n",
    "\n",
    "        \n",
    "         \n"
   ]
  },
  {
   "cell_type": "code",
   "execution_count": 5,
   "id": "3c3e5d28",
   "metadata": {},
   "outputs": [
    {
     "name": "stdout",
     "output_type": "stream",
     "text": [
      "Name: Kelly\n",
      "Age: 15\n"
     ]
    }
   ],
   "source": [
    "# 2. Using getattr() method\n",
    "\n",
    "class Student:\n",
    "    \n",
    "    # Constructor\n",
    "    def __init__(self, name, age):\n",
    "        self.name = name\n",
    "        self.age= age\n",
    "        \n",
    "# Create object\n",
    "stud = Student(\"Kelly\", 15)\n",
    "\n",
    "\n",
    "# using getattr instead of stud.name\n",
    "print(\"Name:\", getattr(stud, \"name\"))\n",
    "print(\"Age:\", getattr(stud, \"age\"))\n",
    "\n",
    "        \n"
   ]
  },
  {
   "cell_type": "code",
   "execution_count": 9,
   "id": "21c38a24",
   "metadata": {},
   "outputs": [
    {
     "name": "stdout",
     "output_type": "stream",
     "text": [
      "Before\n",
      "Name: Deo Age : 23\n",
      "After\n",
      "Name: Deo Age: 23 Marks: 77\n"
     ]
    }
   ],
   "source": [
    "# Dynamically Add Instance Variable to a Object\n",
    "# object_referance.variable_name = value \n",
    "# Using this method you can add object\n",
    "\n",
    "class Student:\n",
    "    \n",
    "    def __init__(self, name, age):\n",
    "        self.name = name\n",
    "        self.age = age\n",
    "        \n",
    "    \n",
    "stud= Student(\"Deo\", 23)\n",
    "\n",
    "print(\"Before\")\n",
    "print(\"Name:\", stud.name, \"Age :\", stud.age)\n",
    "\n",
    "stud.marks =77\n",
    "\n",
    "print(\"After\")\n",
    "print(\"Name:\", stud.name, \"Age:\", stud.age,\"Marks:\", stud.marks)"
   ]
  },
  {
   "cell_type": "code",
   "execution_count": 3,
   "id": "f1eee851",
   "metadata": {},
   "outputs": [
    {
     "name": "stdout",
     "output_type": "stream",
     "text": [
      "Rahman 15 21\n"
     ]
    },
    {
     "ename": "AttributeError",
     "evalue": "'Employee' object has no attribute 'age'",
     "output_type": "error",
     "traceback": [
      "\u001b[1;31m---------------------------------------------------------------------------\u001b[0m",
      "\u001b[1;31mAttributeError\u001b[0m                            Traceback (most recent call last)",
      "Input \u001b[1;32mIn [3]\u001b[0m, in \u001b[0;36m<cell line: 18>\u001b[1;34m()\u001b[0m\n\u001b[0;32m     15\u001b[0m \u001b[38;5;28mprint\u001b[39m(emp1\u001b[38;5;241m.\u001b[39mname, emp1\u001b[38;5;241m.\u001b[39mqualification, emp1\u001b[38;5;241m.\u001b[39mage)\n\u001b[0;32m     17\u001b[0m \u001b[38;5;28;01mdel\u001b[39;00m emp1\u001b[38;5;241m.\u001b[39mage\n\u001b[1;32m---> 18\u001b[0m \u001b[38;5;28mprint\u001b[39m(\u001b[43memp1\u001b[49m\u001b[38;5;241;43m.\u001b[39;49m\u001b[43mage\u001b[49m)\n",
      "\u001b[1;31mAttributeError\u001b[0m: 'Employee' object has no attribute 'age'"
     ]
    }
   ],
   "source": [
    "# Dynamically Delete Instance Variable\n",
    "\n",
    "# 1.del statement: The del keyword is used to delete objects. In Python, everything is an object, \n",
    "# so the del keyword can also be used to delete variables, lists, or parts of a list, etc.\n",
    "\n",
    "class Employee:\n",
    "    \n",
    "    def __init__(self, name , qualification,age):\n",
    "        self.name = name\n",
    "        self.age = age\n",
    "        self.qualification = qualification\n",
    "        \n",
    "        \n",
    "emp1= Employee(\"Rahman\", 15, 21)\n",
    "print(emp1.name, emp1.qualification, emp1.age)\n",
    "\n",
    "del emp1.age\n",
    "print(emp1.age)\n",
    "\n",
    "\n",
    "#print(\"Name:\", emp1.name, \"Qualification:\", emp1.qualification)"
   ]
  },
  {
   "cell_type": "code",
   "execution_count": 2,
   "id": "a3b4392b",
   "metadata": {},
   "outputs": [
    {
     "name": "stdout",
     "output_type": "stream",
     "text": [
      "Rahul 15 21\n"
     ]
    },
    {
     "ename": "NameError",
     "evalue": "name 'age' is not defined",
     "output_type": "error",
     "traceback": [
      "\u001b[1;31m---------------------------------------------------------------------------\u001b[0m",
      "\u001b[1;31mNameError\u001b[0m                                 Traceback (most recent call last)",
      "Input \u001b[1;32mIn [2]\u001b[0m, in \u001b[0;36m<cell line: 20>\u001b[1;34m()\u001b[0m\n\u001b[0;32m     16\u001b[0m stud\u001b[38;5;241m.\u001b[39mshow()\n\u001b[0;32m     19\u001b[0m \u001b[38;5;66;03m# Delete instance variables using delattr()\u001b[39;00m\n\u001b[1;32m---> 20\u001b[0m \u001b[38;5;28mdelattr\u001b[39m(stud, \u001b[43mage\u001b[49m)\n\u001b[0;32m     21\u001b[0m stud\u001b[38;5;241m.\u001b[39mshow()\n",
      "\u001b[1;31mNameError\u001b[0m: name 'age' is not defined"
     ]
    }
   ],
   "source": [
    "# 2. delattr() function: Used to delete an instance variable dynamically.\n",
    "# delattr(object, name)\n",
    "# object: the object whose attribute we want to delete.\n",
    "# name: the name of the instance variable we want to delete from the object.\n",
    "\n",
    "\n",
    "class Student:\n",
    "    \n",
    "    def __init__(self, name , qualification,age):\n",
    "        self.name = name\n",
    "        self.age = age\n",
    "        self.qualification = qualification\n",
    "        \n",
    "        \n",
    "    def show(self):\n",
    "        print(stud.name, stud.qualification, stud.age)\n",
    "        \n",
    "        \n",
    "stud= Student(\"Rahul\", 15, 21)\n",
    "stud.show()\n",
    "\n",
    "\n",
    "# Delete instance variables using delattr()\n",
    "delattr(stud, age)\n",
    "stud.show()\n"
   ]
  },
  {
   "cell_type": "code",
   "execution_count": 8,
   "id": "c3580b14",
   "metadata": {},
   "outputs": [
    {
     "name": "stdout",
     "output_type": "stream",
     "text": [
      "Engine: 1500cc\n",
      "Max_speed : 240\n",
      "kilometer Range: 1400\n"
     ]
    }
   ],
   "source": [
    "# Access Instance Variable From Another Class\n",
    "\n",
    "# Using the super() method we can invoke the parent class constructor from a child class.\n",
    "\n",
    "class vehical:\n",
    "    \n",
    "    def __init__(self, engine):\n",
    "        self.engine= engine\n",
    "        \n",
    "class Car(vehical):\n",
    "    def __init__(self,engine, max_speed):\n",
    "        # Call parent Class Constructor\n",
    "        super().__init__(engine)\n",
    "        self.max_speed = max_speed\n",
    "        \n",
    "        \n",
    "class Electric_car(Car):\n",
    "    def __init__(self, engine, max_speed, km_range):\n",
    "        \n",
    "        # Call parent class constructor\n",
    "        super().__init__(engine,max_speed)\n",
    "        self.km_range = km_range\n",
    "        \n",
    " \n",
    "        \n",
    "    def display(self):\n",
    "        print(\"Engine:\", self.engine)\n",
    "        print(\"Max_speed :\", self.max_speed)\n",
    "        print(\"kilometer Range:\", self.km_range)\n",
    "        \n",
    "example= Electric_car(\"1500cc\", 240, 1400)\n",
    "example.display()\n",
    "    \n",
    "\n"
   ]
  },
  {
   "cell_type": "code",
   "execution_count": 9,
   "id": "55dff08e",
   "metadata": {},
   "outputs": [
    {
     "name": "stdout",
     "output_type": "stream",
     "text": [
      "Instance variable object has\n",
      "{'name': 'Deo', 'age': 21}\n",
      "name = Deo\n",
      "age = 21\n"
     ]
    }
   ],
   "source": [
    "# List all Instance Variables of a Object\n",
    "\n",
    "# We can get the list of all the instance variables the object has. Use the __dict__ function of an \n",
    "# object to get all instance variables along with their value.\n",
    "\n",
    "class Student:\n",
    "    \n",
    "    def __init__(self, name, age,):\n",
    "        self.name = name\n",
    "        self.age =age\n",
    "        \n",
    "        \n",
    "s1= Student(\"Deo\", 21)\n",
    "\n",
    "print(\"Instance variable object has\")\n",
    "print(s1.__dict__)\n",
    "\n",
    "\n",
    "# Get each instance variables\n",
    "for key_value in s1.__dict__.items(): \n",
    "    print(key_value[0],\"=\", key_value[1])\n",
    "    #print(key_value[1])"
   ]
  },
  {
   "cell_type": "markdown",
   "id": "cbace2b1",
   "metadata": {},
   "source": [
    "# Instance Methods"
   ]
  },
  {
   "cell_type": "code",
   "execution_count": 3,
   "id": "1530cc67",
   "metadata": {},
   "outputs": [
    {
     "name": "stdout",
     "output_type": "stream",
     "text": [
      "First student\n",
      "Name: Deo Age: 13\n",
      "Second student\n",
      "Name: Kelly Age: 15\n"
     ]
    }
   ],
   "source": [
    "class Student:\n",
    "    def __init__(self, name ,age):\n",
    "        self.name = name\n",
    "        self.age =age\n",
    "        \n",
    "    # instance method access instanse variable \n",
    "    def display(self):\n",
    "        print(\"Name:\",self.name, \"Age:\", self.age)\n",
    "        \n",
    "s1= Student(\"Deo\", 13)\n",
    "\n",
    "# call instance mrethod\n",
    "print(\"First student\")\n",
    "s1.display()\n",
    "\n",
    "\n",
    "print(\"Second student\")\n",
    "s2= Student(\"Kelly\",15)\n",
    "\n",
    "#call instance method\n",
    "s2.display()\n"
   ]
  },
  {
   "cell_type": "code",
   "execution_count": 6,
   "id": "e17466c7",
   "metadata": {},
   "outputs": [
    {
     "name": "stdout",
     "output_type": "stream",
     "text": [
      "Class 8\n",
      "Name: Emma Roll No: 36 Age: 23\n",
      "Class 9\n",
      "Name: Emma Roll No: 35 Age: 17\n"
     ]
    }
   ],
   "source": [
    "# Modify Instance Variables inside Instance Method\n",
    "\n",
    "class Student:\n",
    "    def __init__(self, roll_no, name, age):\n",
    "        self.name = name\n",
    "        self.roll_no = roll_no\n",
    "        self.age= age\n",
    "        \n",
    "    # instance method to modify instance variable    \n",
    "    def show(self):\n",
    "        print(\"Name:\",self.name, \"Roll No:\", self.roll_no, \"Age:\", self.age)\n",
    "        \n",
    "    #instannce method to modify instance variable  \n",
    "    def update(self,roll_no, age):\n",
    "        self.roll_no = roll_no\n",
    "        self.age = age\n",
    "        \n",
    "        \n",
    "        \n",
    "# crate object\n",
    "print(\"Class 8\")\n",
    "s1= Student(36, \"Emma\", 23)\n",
    "# call instance method\n",
    "s1.show()\n",
    "\n",
    "# call modify variable\n",
    "print(\"Class 9\")\n",
    "s1.update(35, 17)\n",
    "s1.show()\n",
    "\n",
    "        \n",
    "        \n",
    "\n",
    "        "
   ]
  },
  {
   "cell_type": "code",
   "execution_count": 13,
   "id": "9b7effae",
   "metadata": {},
   "outputs": [
    {
     "name": "stdout",
     "output_type": "stream",
     "text": [
      "Roll Number: 33 Name: Deo Age: 21 Marks: 75\n"
     ]
    }
   ],
   "source": [
    "# Create Instance Variables in Instance Method\n",
    "\n",
    "class Student:\n",
    "    \n",
    "    def __init__(self, roll_no, name, age):\n",
    "        self.roll_no = roll_no\n",
    "        self.name =name\n",
    "        self.age= age\n",
    "        \n",
    "    #def show(self):\n",
    "        #print(\"Roll No:\",self.roll_no,'Name:',self.name, \"Age:\" , self.age, \"Marks:\", self.marks)\n",
    "        \n",
    "\n",
    "        \n",
    "     # instance method to add instance variable   \n",
    "    def add_marks(self, marks):\n",
    "        # add new attribute to current object\n",
    "        self.marks = marks\n",
    "        \n",
    "s1= Student(33, \"Deo\", 21)\n",
    "\n",
    "#call instance method\n",
    "s1.add_marks(75)\n",
    "#s1.show()\n",
    "\n",
    "print(\"Roll Number:\",s1.roll_no,'Name:',s1.name, \"Age:\" , s1.age, \"Marks:\", s1.marks)\n",
    "\n",
    "\n",
    "\n",
    "\n",
    "        "
   ]
  },
  {
   "cell_type": "code",
   "execution_count": 4,
   "id": "f6306e54",
   "metadata": {},
   "outputs": [
    {
     "name": "stdout",
     "output_type": "stream",
     "text": [
      "Name: Harry Age: 26 Company: J.K Traders\n",
      "Hello my name is Harry welcome to my company\n"
     ]
    }
   ],
   "source": [
    "# Dynamically Add Instance Method to a Object\n",
    "\n",
    "import types\n",
    "\n",
    "class Employee:\n",
    "    \n",
    "    def __init__(self, name , age, company):\n",
    "        self.name = name\n",
    "        self.age = age\n",
    "        self.company= company\n",
    "        \n",
    "    def show(self):\n",
    "        print(\"Name:\", self.name, \"Age:\", self.age, \"Company:\", self.company)\n",
    "        \n",
    "#  Create new method\n",
    "def welcome(self):\n",
    "    print(\"Hello my name is\", self.name, \"welcome to my company\")\n",
    "    \n",
    "    \n",
    "emp= Employee(\"Harry\",26, \"J.K Traders\")\n",
    "\n",
    "\n",
    "# Add instance method to object\n",
    "emp.welcome = types.MethodType( welcome, emp)\n",
    "\n",
    "\n",
    "emp.show()\n",
    "# Call newly method\n",
    "emp.welcome()\n",
    "\n",
    "        \n",
    "\n"
   ]
  },
  {
   "cell_type": "code",
   "execution_count": 18,
   "id": "e1cf4c71",
   "metadata": {},
   "outputs": [
    {
     "name": "stdout",
     "output_type": "stream",
     "text": [
      "Name: Emma Age: 14\n",
      "Percentage: 64.5\n"
     ]
    }
   ],
   "source": [
    "# Dynamically Delete Instance Methods\n",
    "# 1. By using the del operator.\n",
    "\n",
    "class Student:\n",
    "    # constructor\n",
    "    def __init__(self, name, age):\n",
    "        self.name = name\n",
    "        self.age = age\n",
    "\n",
    "    # instance method\n",
    "    def show(self):\n",
    "        print('Name:', self.name, 'Age:', self.age)\n",
    "\n",
    "    # instance method\n",
    "    def percentage(self, sub1, sub2):\n",
    "        print('Percentage:', (sub1 + sub2) / 2)\n",
    "\n",
    "emma = Student('Emma', 14)\n",
    "emma.show()\n",
    "a=emma.percentage(67, 62)\n",
    "\n",
    "# Delete the method from class using del operator\n",
    "del a\n",
    "\n",
    "# Again calling percentage() method\n",
    "# It will raise error\n",
    "#emma.a\n",
    "\n",
    "\n",
    "    "
   ]
  },
  {
   "cell_type": "code",
   "execution_count": 15,
   "id": "9ab29952",
   "metadata": {},
   "outputs": [
    {
     "name": "stdout",
     "output_type": "stream",
     "text": [
      "Name: Emma Age: 14\n",
      "Percentage: 64.5\n"
     ]
    },
    {
     "ename": "AttributeError",
     "evalue": "percentage",
     "output_type": "error",
     "traceback": [
      "\u001b[1;31m---------------------------------------------------------------------------\u001b[0m",
      "\u001b[1;31mAttributeError\u001b[0m                            Traceback (most recent call last)",
      "Input \u001b[1;32mIn [15]\u001b[0m, in \u001b[0;36m<cell line: 21>\u001b[1;34m()\u001b[0m\n\u001b[0;32m     18\u001b[0m emma\u001b[38;5;241m.\u001b[39mshow()\n\u001b[0;32m     19\u001b[0m emma\u001b[38;5;241m.\u001b[39mpercentage(\u001b[38;5;241m67\u001b[39m, \u001b[38;5;241m62\u001b[39m)\n\u001b[1;32m---> 21\u001b[0m \u001b[38;5;28;43mdelattr\u001b[39;49m\u001b[43m(\u001b[49m\u001b[43memma\u001b[49m\u001b[43m,\u001b[49m\u001b[43m \u001b[49m\u001b[38;5;124;43m'\u001b[39;49m\u001b[38;5;124;43mpercentage\u001b[39;49m\u001b[38;5;124;43m'\u001b[39;49m\u001b[43m)\u001b[49m\n\u001b[0;32m     22\u001b[0m emma\u001b[38;5;241m.\u001b[39mshow()\n",
      "\u001b[1;31mAttributeError\u001b[0m: percentage"
     ]
    }
   ],
   "source": [
    "2. # By using delattr() method.\n",
    "\n",
    "class Student:\n",
    "    # constructor\n",
    "    def __init__(self, name, age):\n",
    "        self.name = name\n",
    "        self.age = age\n",
    "\n",
    "    # instance method\n",
    "    def show(self):\n",
    "        print('Name:', self.name, 'Age:', self.age)\n",
    "\n",
    "    # instance method\n",
    "    def percentage(self, sub1, sub2):\n",
    "        print('Percentage:', (sub1 + sub2) / 2)\n",
    "\n",
    "emma = Student('Emma', 14)\n",
    "emma.show()\n",
    "emma.percentage(67, 62)\n",
    "\n",
    "delattr(emma, 'percentage')\n",
    "emma.show()\n",
    "\n",
    "#emma.percentage(67,62)\n"
   ]
  },
  {
   "cell_type": "markdown",
   "id": "0f6225bc",
   "metadata": {},
   "source": [
    "# Encapsulation"
   ]
  },
  {
   "cell_type": "code",
   "execution_count": 14,
   "id": "17dc2f54",
   "metadata": {},
   "outputs": [
    {
     "name": "stdout",
     "output_type": "stream",
     "text": [
      "Name: Emma Salary: 50000 Project: NLP\n",
      "Name: Emma Salary: 50000 Project: NLP\n"
     ]
    }
   ],
   "source": [
    "# Public Member\n",
    "\n",
    "class Employee:\n",
    "    \n",
    "    def __init__(self, name, salary, project):\n",
    "        self.name = name \n",
    "        self.salary= salary\n",
    "        self.project= project\n",
    "        \n",
    "        \n",
    "    def show(self):\n",
    "        # Accessable public data memeber\n",
    "        print(\"Name:\", self.name, \"Salary:\", self.salary,\"Project:\",self.project)\n",
    "        \n",
    "\n",
    "# Create objectbof a class\n",
    "emp=Employee(\"Emma\", 50000, \"NLP\")\n",
    "\n",
    "\n",
    "print(\"Name:\",emp.name, \"Salary:\",emp.salary,\"Project:\", emp.project)\n",
    "emp.show()\n",
    "        \n",
    "        \n",
    "    \n",
    "        \n",
    "\n",
    "    "
   ]
  },
  {
   "cell_type": "code",
   "execution_count": 15,
   "id": "749909a3",
   "metadata": {},
   "outputs": [
    {
     "name": "stdout",
     "output_type": "stream",
     "text": [
      "Name Haryy Salary: 40000\n"
     ]
    }
   ],
   "source": [
    "# private memeber\n",
    "# 1.Create public method to access private members\n",
    "# Access Private member outside of a class using an instance method\n",
    "\n",
    "class Employee:\n",
    "    \n",
    "    def __init__(self, name , salary):\n",
    "        # Public memeber\n",
    "        self.name = name\n",
    "        # private memeber\n",
    "        self.__salary =salary\n",
    "        \n",
    "    def show(self):\n",
    "        print(\"Name\", self.name, \"Salary:\", self.__salary)\n",
    "        \n",
    "        \n",
    "emp= Employee(\"Haryy\", 40000)\n",
    "emp.show()\n",
    "    "
   ]
  },
  {
   "cell_type": "code",
   "execution_count": 4,
   "id": "eb35caac",
   "metadata": {},
   "outputs": [
    {
     "name": "stdout",
     "output_type": "stream",
     "text": [
      "Name: Jessa\n",
      "Salary: 10000\n"
     ]
    }
   ],
   "source": [
    "# 2. Name Mangling to access private members\n",
    "# The name mangling is created on an identifier by adding two leading underscores and one trailing underscore,\n",
    "# like this _classname__dataMember, where classname is the current class, and data member is the private variable name.\n",
    "\n",
    "# class Employee:\n",
    "    \n",
    "#     def __init(self, name ,  salary):\n",
    "#         # Public memeber \n",
    "#         self.name = name\n",
    "#         #self.age = age\n",
    "#         # Private memeber\n",
    "#         self.__salary= salary\n",
    "        \n",
    "        \n",
    "# emp = Employee(\"Zainab\",45000)\n",
    "\n",
    "\n",
    "\n",
    "# print(\"Name:\", emp.name)\n",
    "\n",
    "# # direct access to private memeber using name mangling\n",
    "# print(\"Salary:\", emp._Employee__salary)\n",
    "\n",
    "class Employee:\n",
    "    # constructor\n",
    "    def __init__(self, name, salary):\n",
    "        # public data member\n",
    "        self.name = name\n",
    "        # private member\n",
    "        self.__salary = salary\n",
    "\n",
    "# creating object of a class\n",
    "emp = Employee('Jessa', 10000)\n",
    "\n",
    "print('Name:', emp.name)\n",
    "# direct access to private member using name mangling\n",
    "print('Salary:', emp._Employee__salary)\n",
    "    "
   ]
  },
  {
   "cell_type": "code",
   "execution_count": 3,
   "id": "d8227ad5",
   "metadata": {},
   "outputs": [
    {
     "name": "stdout",
     "output_type": "stream",
     "text": [
      "Employee name: Jessa\n",
      "Employee working on project: MNP\n",
      "Project MNP\n"
     ]
    }
   ],
   "source": [
    "# Protected Member\n",
    "# Protected data members are used when you implement inheritance and want to allow data members access to only child classes.\n",
    "\n",
    "class Company:\n",
    "    \n",
    "    def __init__(self):\n",
    "        # Protected memeber\n",
    "        self._project = \"MNP\"\n",
    "        \n",
    "class Employee(Company):\n",
    "    def __init__(self ,name):\n",
    "        self.name=name\n",
    "        Company.__init__(self)\n",
    "        \n",
    "        \n",
    "    def show(self):\n",
    "        print(\"Employee name:\", self.name)\n",
    "        # Accessing protected memeber in child class \n",
    "        print(\"Employee working on project:\", self._project)\n",
    "        \n",
    "        \n",
    "c=Employee(\"Jessa\")\n",
    "c.show()\n",
    "\n",
    "print(\"Project\", c._project)\n",
    "        \n",
    "        \n",
    "    \n",
    "    "
   ]
  },
  {
   "cell_type": "code",
   "execution_count": 6,
   "id": "f608aa04",
   "metadata": {},
   "outputs": [
    {
     "name": "stdout",
     "output_type": "stream",
     "text": [
      "Name: Jessa Age: 12\n",
      "Name: Jessa Age: 14\n"
     ]
    }
   ],
   "source": [
    "# Getters and Setters in python\n",
    "# Use the getter method to access data members and the setter methods to modify the data members.\n",
    "# 1.When we want to avoid direct access to private variables\n",
    "\n",
    "\n",
    "class Student:\n",
    "    \n",
    "    def __init__(self,name, age):\n",
    "        self.name = name\n",
    "        # private memeber\n",
    "        self.__age =age\n",
    "        \n",
    "    # Getter  method \n",
    "    def get_age(self):\n",
    "        return self.__age\n",
    "    \n",
    "    # Setter method \n",
    "    def set_age(self,age):\n",
    "        self.__age = age\n",
    "        \n",
    "stud= Student(\"Jessa\", 12)\n",
    "\n",
    "# retrieving age using getter\n",
    "print(\"Name:\", stud.name , \"Age:\", stud.get_age())\n",
    "\n",
    "# changing age using setter\n",
    "stud.set_age(14)\n",
    "\n",
    "# retrieving age using getter\n",
    "print(\"Name:\", stud.name , \"Age:\", stud.get_age())"
   ]
  },
  {
   "cell_type": "code",
   "execution_count": 10,
   "id": "1a985a6d",
   "metadata": {},
   "outputs": [
    {
     "name": "stdout",
     "output_type": "stream",
     "text": [
      "Student Details: Jessa 10\n",
      "Invalid roll no. Please set correct roll number\n",
      "Student Details: Jessa 25\n"
     ]
    }
   ],
   "source": [
    "# 2. To add validation logic for setting a value\n",
    "# Information Hiding and conditional logic for setting an object attributes\n",
    "\n",
    "class Student:\n",
    "    def __init__(self, name, roll_no, age):\n",
    "        # private member\n",
    "        self.name = name\n",
    "        # private members to restrict access\n",
    "        # avoid direct data modification\n",
    "        self.__roll_no = roll_no\n",
    "        self.__age = age\n",
    "\n",
    "    def show(self):\n",
    "        print('Student Details:', self.name, self.__roll_no)\n",
    "\n",
    "    # getter methods\n",
    "    def get_roll_no(self):\n",
    "        return self.__roll_no\n",
    "\n",
    "    # setter method to modify data member\n",
    "    # condition to allow data modification with rules\n",
    "    def set_roll_no(self, number):\n",
    "        if number > 50:\n",
    "            print('Invalid roll no. Please set correct roll number')\n",
    "        else:\n",
    "            self.__roll_no = number\n",
    "\n",
    "jessa = Student('Jessa', 10, 15)\n",
    "\n",
    "# before Modify\n",
    "jessa.show()\n",
    "# changing roll number using setter\n",
    "jessa.set_roll_no(110)\n",
    "\n",
    "\n",
    "jessa.set_roll_no(25)\n",
    "jessa.show()"
   ]
  },
  {
   "cell_type": "code",
   "execution_count": 3,
   "id": "2140f84c",
   "metadata": {},
   "outputs": [
    {
     "name": "stdout",
     "output_type": "stream",
     "text": [
      "<class 'list'>\n",
      "<class 'tuple'>\n",
      "<class 'set'>\n",
      "<class 'dict'>\n"
     ]
    }
   ],
   "source": [
    "list1=[\"apple\", \"banana\", \"cherry\"]\n",
    "print(type(list1))\n",
    "\n",
    "\n",
    "tuple1=(\"apple\", \"orange\", \"kiwi\")\n",
    "print(type(tuple1))\n",
    "\n",
    "set1={\"orange\",\"chikoo\", \"apple\"}\n",
    "print(type(set1))\n",
    "\n",
    "dict1={\n",
    "    \"Brand\"    :    \"ford\",\n",
    "    \"year\"     :    1990,\n",
    "    1960       :    \"war\"\n",
    "}\n",
    "print(type(dict1))\n"
   ]
  },
  {
   "cell_type": "code",
   "execution_count": 6,
   "id": "addbd338",
   "metadata": {},
   "outputs": [
    {
     "name": "stdout",
     "output_type": "stream",
     "text": [
      "<class 'list'>\n",
      "<class 'tuple'>\n",
      "<class 'set'>\n",
      "<class 'dict'>\n"
     ]
    }
   ],
   "source": [
    "l1 = []\n",
    "print(type(l1))\n",
    "\n",
    "t1=()\n",
    "print(type(t1))\n",
    "\n",
    "s1=set()\n",
    "print(type(s1))\n",
    "\n",
    "d1={}\n",
    "print(type(d1))\n",
    "\n",
    "\n"
   ]
  },
  {
   "cell_type": "code",
   "execution_count": 9,
   "id": "82691d10",
   "metadata": {},
   "outputs": [
    {
     "name": "stdout",
     "output_type": "stream",
     "text": [
      "Brand Ford\n",
      "year 1984\n",
      "1945 war\n"
     ]
    }
   ],
   "source": [
    "dict1= {\n",
    "    \n",
    "  \"Brand\"    :   \"Ford\",\n",
    "  \"year\"     :    1984,\n",
    "  1945       :    \"war\"    \n",
    "\n",
    "}\n",
    "\n",
    "\n",
    "for i,j in dict1.items():\n",
    "    print(i,j)"
   ]
  },
  {
   "cell_type": "code",
   "execution_count": 13,
   "id": "909e2094",
   "metadata": {},
   "outputs": [
    {
     "name": "stdout",
     "output_type": "stream",
     "text": [
      "None\n"
     ]
    }
   ],
   "source": [
    "dict1= {\n",
    "    \n",
    "  \"Brand\"    :   \"Ford\",\n",
    "  \"year\"     :    1984,\n",
    "  1945       :    \"war\"    \n",
    "\n",
    "}\n",
    "\n",
    "print(dict1.get(\"color\"))\n"
   ]
  },
  {
   "cell_type": "code",
   "execution_count": 13,
   "id": "9eaf0a1f",
   "metadata": {},
   "outputs": [
    {
     "name": "stdout",
     "output_type": "stream",
     "text": [
      "{4: 5, 5: 2}\n"
     ]
    }
   ],
   "source": [
    "a={\n",
    "    1 : 2,\n",
    "    4 : 5\n",
    "}\n",
    "a[5]= a.pop(1)\n",
    "print(a)"
   ]
  },
  {
   "cell_type": "code",
   "execution_count": 18,
   "id": "f425b1ef",
   "metadata": {},
   "outputs": [
    {
     "name": "stdout",
     "output_type": "stream",
     "text": [
      "Name: Hazra 13\n",
      "School\n",
      "Iqra\n",
      "School\n"
     ]
    }
   ],
   "source": [
    "class parent:\n",
    "    a= \"School\"\n",
    "\n",
    "    \n",
    "    def __init__(self, name,age):\n",
    "        self.name = name\n",
    "        self.age=age\n",
    "        \n",
    "    def show(self):\n",
    "        print(self.name)\n",
    "        \n",
    "        \n",
    "    def check(self):\n",
    "        print(self.age)\n",
    "        \n",
    "b1=parent(\"Hazra\",13)\n",
    "print(\"Name:\", b1.name, b1.age)\n",
    "print(b1.a)\n",
    "\n",
    "b2=parent(\"Iqra\",17)\n",
    "b2.show()\n",
    "print(b2.a)\n",
    "\n"
   ]
  },
  {
   "cell_type": "markdown",
   "id": "13d7c05f",
   "metadata": {},
   "source": [
    "# polymorphism"
   ]
  },
  {
   "cell_type": "code",
   "execution_count": 26,
   "id": "3b0e2102",
   "metadata": {},
   "outputs": [
    {
     "name": "stdout",
     "output_type": "stream",
     "text": [
      "3\n",
      "3\n",
      "10\n",
      "3\n"
     ]
    }
   ],
   "source": [
    "# Polymorphism in Built-in function len()\n",
    "\n",
    "Student= [\"john\", \"deo\", \"kelly\"]\n",
    "Employee= (\"Emp1\", \"Emp2\", \"Emp3\")\n",
    "School=  \"ABC School\"\n",
    "dict1= {\n",
    "    \"Name\"     :   \"Hazra\",\n",
    "    \"Age\"      :     12,\n",
    "    \"Hobby\"    :      \"cooking\"\n",
    "    \n",
    "}\n",
    "\n",
    "print(len(Student))\n",
    "print(len(Employee))\n",
    "print(len(School))\n",
    "print(len(dict1))"
   ]
  },
  {
   "cell_type": "code",
   "execution_count": 32,
   "id": "6cfda3c5",
   "metadata": {},
   "outputs": [
    {
     "name": "stdout",
     "output_type": "stream",
     "text": [
      "Name: Car 11 Color: Red Price: 200000\n",
      "The car max speed is 190\n",
      "car change 7 gear\n",
      "Name: Truck 17 Color: White Price: 750000\n",
      "The vehical max speed is 160\n",
      "Vehival change 6 gear\n"
     ]
    }
   ],
   "source": [
    "#  Method Overriding\n",
    "#  process of re-implementing the inherited method in the child class is known as Method Overriding.\n",
    "\n",
    "class Vehical:\n",
    "    \n",
    "    def __init__(self, name , color , price):\n",
    "        self.name= name\n",
    "        self.color= color\n",
    "        self.price = price\n",
    "        \n",
    "    def show(self):\n",
    "        print(\"Name:\", self.name, \"Color:\", self.color, \"Price:\", self.price)\n",
    "        \n",
    "    def max_speed(self):\n",
    "        print(\"The vehical max speed is 160\")\n",
    "        \n",
    "    def change_gear(self):\n",
    "        print(\"Vehival change 6 gear\")\n",
    "        \n",
    " \n",
    "# inherit from vehical class \n",
    "class Car(Vehical):\n",
    "    def max_speed(self):\n",
    "        print(\"The car max speed is 190\")\n",
    "        \n",
    "    def change_gear(self):\n",
    "        print(\"car change 7 gear\")\n",
    "        \n",
    "        \n",
    "car= Car(\"Car 11\", \"Red\", 200000)\n",
    "car.show()\n",
    "# calss method from car class\n",
    "car.max_speed()\n",
    "car.change_gear()\n",
    "\n",
    "vehical = Vehical(\"Truck 17\", \"White\", 750000)\n",
    "vehical.show()\n",
    "# Call method from vehical class\n",
    "vehical.max_speed()\n",
    "vehical.change_gear()\n"
   ]
  },
  {
   "cell_type": "code",
   "execution_count": 29,
   "id": "551adea5",
   "metadata": {},
   "outputs": [
    {
     "name": "stdout",
     "output_type": "stream",
     "text": [
      "Redifine Method\n",
      "6\n"
     ]
    }
   ],
   "source": [
    "# Overrride Built-in Functions.\n",
    "\n",
    "class Shoping:\n",
    "    def __init__(self , basket , buyer):\n",
    "        self.basket = list(basket)\n",
    "        self.buyer = buyer\n",
    "        \n",
    "    def __len__(self):\n",
    "        print(\"Redifine Method\")\n",
    "        count= len(self.basket)\n",
    "        # Count total items in adiffrent way\n",
    "        # pair of shoes and shirt +pant\n",
    "        return count * 2\n",
    "    \n",
    "shoping= Shoping([\"shoes\", \"dress\",\"Earrings\"], \"jesssa\")\n",
    "print(len(shoping))\n"
   ]
  },
  {
   "cell_type": "code",
   "execution_count": 31,
   "id": "730be94a",
   "metadata": {},
   "outputs": [
    {
     "name": "stdout",
     "output_type": "stream",
     "text": [
      "Petrol\n",
      "Max speed is 350\n",
      "Diesal\n",
      "Max speed is 240\n",
      "Diesal\n",
      "max speed is 290\n"
     ]
    }
   ],
   "source": [
    "# Polymorphism in class methods\n",
    "\n",
    "class Ferarri:\n",
    "    \n",
    "    def fuel_type(self):\n",
    "        print(\"Petrol\")\n",
    "        \n",
    "    def max_speed(self):\n",
    "        print(\"Max speed is 350\")\n",
    "        \n",
    "class BMW:\n",
    "    \n",
    "    def fuel_type(self):\n",
    "        print(\"Diesal\")\n",
    "        \n",
    "    def max_speed(self):\n",
    "        print(\"Max speed is 240\")\n",
    "        \n",
    "class Honda:\n",
    "    \n",
    "    def fuel_type(self):\n",
    "        print(\"Diesal\")\n",
    "        \n",
    "    def max_speed(self):\n",
    "        print(\"max speed is 290\")\n",
    "        \n",
    "             \n",
    "    \n",
    "ferarri = Ferarri()\n",
    "bmw = BMW()\n",
    "honda = Honda()\n",
    "\n",
    "# iterate object of same type\n",
    "for car in (ferarri, bmw, honda):\n",
    "    # call methods without cheking class of object\n",
    "    car.fuel_type()\n",
    "    car.max_speed()\n",
    "\n",
    " # if we have thousand of cars than we cant write each object name and its method so we can itarate(loop) them.       \n",
    "\n"
   ]
  },
  {
   "cell_type": "code",
   "execution_count": 39,
   "id": "5feaa76e",
   "metadata": {},
   "outputs": [
    {
     "name": "stdout",
     "output_type": "stream",
     "text": [
      "petrol\n",
      "max speed is 350\n",
      "Diesal\n",
      "max speed is 240\n",
      "petrol\n",
      "max speed is 260\n"
     ]
    }
   ],
   "source": [
    "# Polymorphism with Function and Objects.\n",
    "\n",
    "class Ferrari:\n",
    "    \n",
    "    def fuel_type(self):\n",
    "        print(\"petrol\")\n",
    "        \n",
    "    def max_speed(self):\n",
    "        print(\"max speed is 350\")\n",
    "        \n",
    "class BMW:\n",
    "    \n",
    "    def fuel_type(self):\n",
    "        print(\"Diesal\")\n",
    "        \n",
    "    def max_speed(self):\n",
    "        print(\"max speed is 240\")\n",
    "        \n",
    "class Toyota:\n",
    "    \n",
    "    def fuel_type(self):\n",
    "        print(\"petrol\")\n",
    "        \n",
    "    def max_speed(self):\n",
    "        print(\"max speed is 260\")\n",
    "\n",
    "# normal function        \n",
    "def car_detail(obj):\n",
    "    obj.fuel_type()\n",
    "    obj.max_speed()\n",
    "    \n",
    "ferrari = Ferrari()\n",
    "bmw = BMW ()\n",
    "tyota= Toyota()\n",
    "\n",
    "    \n",
    "    \n",
    "car_detail(ferrari)\n",
    "car_detail(bmw)\n",
    "car_detail(toyota)\n",
    "    "
   ]
  },
  {
   "cell_type": "code",
   "execution_count": 47,
   "id": "89f201de",
   "metadata": {},
   "outputs": [
    {
     "name": "stdout",
     "output_type": "stream",
     "text": [
      "Reverse print\n",
      "e v i t i s o P   S Y A W L A \n",
      "Reversed line\n",
      "Kelly John Emma "
     ]
    }
   ],
   "source": [
    "# Polymorphism In Built-in Methods.\n",
    "\n",
    "Students = [\"Emma\", \"John\", \"deo\"]\n",
    "School  = \"ABS School\"\n",
    "\n",
    "print(\"Reverse print\")\n",
    "for i in reversed(\"ALWAYS Positive\"):\n",
    "    print(i ,end= ' ')\n",
    "\n",
    "print(\"\\nReversed line\")\n",
    "for i in reversed([\"Emma\", \"John\", \"Kelly\"]):\n",
    "    print(i,end= \" \" )\n"
   ]
  },
  {
   "cell_type": "code",
   "execution_count": 48,
   "id": "df642c10",
   "metadata": {},
   "outputs": [
    {
     "name": "stdout",
     "output_type": "stream",
     "text": [
      "17\n"
     ]
    }
   ],
   "source": [
    "# Method Overloading.\n",
    "# The process of calling the same method with different parameters is known as method overloading.\n",
    "def addition(a,b):\n",
    "    c= a+b\n",
    "    print(c)\n",
    "    \n",
    "def addition(a,b,c):\n",
    "    d= a+b+c\n",
    "    print(d)\n",
    "    \n",
    "# the below line shows an error\n",
    "# addition(4, 5)\n",
    "\n",
    "# This line will call the second product method\n",
    "\n",
    "addition(5, 6,6)"
   ]
  },
  {
   "cell_type": "code",
   "execution_count": 4,
   "id": "802023b2",
   "metadata": {},
   "outputs": [
    {
     "name": "stdout",
     "output_type": "stream",
     "text": [
      "0 , 1 , 2 , 3 , 4 , 5 , \n",
      "2 , 3 , 4 , 5 , 6 , 7 , \n",
      "2 , 5 , 8 , 11 , 14 , \n"
     ]
    }
   ],
   "source": [
    "# To overcome the method overlodin problem, we can use different ways to achieve the method overloading.\n",
    "# For example, the built-in function range() takes three parameters and produce different result depending upon the number of parameters passed to it.\n",
    "\n",
    "for i in range(6): print(i,end= \" , \")\n",
    "print()\n",
    "for i in range(2,8): print(i,end= \" , \")\n",
    "print()\n",
    "for i in range(2, 16, 3): print(i, end= \" , \")\n",
    "print()    \n"
   ]
  },
  {
   "cell_type": "code",
   "execution_count": 8,
   "id": "ec368517",
   "metadata": {},
   "outputs": [
    {
     "name": "stdout",
     "output_type": "stream",
     "text": [
      "Area of squre is : 64\n",
      "Area of rectangle is : 54\n"
     ]
    }
   ],
   "source": [
    "# Let’s assume we have an area() method to calculate the area of a square and rectangle.\n",
    "# The method will calculate the area depending upon the number of parameters passed to it.\n",
    "\n",
    "class shape:\n",
    "    # function with two default parameter \n",
    "    def area(self, a, b=0):\n",
    "        if b > 0:\n",
    "            print(\"Area of rectangle is :\" , a*b)\n",
    "        else:\n",
    "            print(\"Area of squre is :\", a**2)\n",
    "square = shape()\n",
    "square.area(8)\n",
    "\n",
    "rectangle= shape()\n",
    "rectangle.area(6,9)\n",
    "                  \n",
    "                   "
   ]
  },
  {
   "cell_type": "code",
   "execution_count": 13,
   "id": "186ed249",
   "metadata": {},
   "outputs": [
    {
     "name": "stdout",
     "output_type": "stream",
     "text": [
      "13\n",
      "JessaRoy\n",
      "[1, 3, 6, 8, 9, 'a', 'b', 'c', 'd', 'e']\n"
     ]
    }
   ],
   "source": [
    "# Operator Overloading in Python\n",
    "\n",
    "# Add two numbers \n",
    "a= (5+8)\n",
    "print(a)\n",
    "\n",
    "# Cancatenate two string\n",
    "b = (\"Jessa\" + \"Roy\")\n",
    "print(b)\n",
    "\n",
    "# merger two list\n",
    "print([1,3,6,8,9] + [\"a\", \"b\", \"c\", \"d\", \"e\"])\n"
   ]
  },
  {
   "cell_type": "code",
   "execution_count": 14,
   "id": "5c9dd308",
   "metadata": {},
   "outputs": [
    {
     "name": "stdout",
     "output_type": "stream",
     "text": [
      "Total  number of pages is : 700\n"
     ]
    }
   ],
   "source": [
    "# Overloading + operator for custom objects.\n",
    "\n",
    "class Book:\n",
    "    def __init__(self, obj1):\n",
    "        self.obj1 = obj1\n",
    "        \n",
    "    # Overloding + oprater whith magic methode\n",
    "    def __add__(self, obj2):\n",
    "        return self.obj1 + obj2.obj1\n",
    "    \n",
    "book1 = Book(400)\n",
    "book2= Book(300)\n",
    "\n",
    "print(\"Total  number of pages is :\", book1 + book2)\n",
    "    "
   ]
  },
  {
   "cell_type": "code",
   "execution_count": 12,
   "id": "01338fb8",
   "metadata": {},
   "outputs": [
    {
     "name": "stdout",
     "output_type": "stream",
     "text": [
      "worked for 50 days.\n",
      "Salary is  1440000\n"
     ]
    }
   ],
   "source": [
    "# Overloading the * Operator .\n",
    "\n",
    "class Employee:\n",
    "    \n",
    "    def __init__(self, name, salary):\n",
    "        self.name = name \n",
    "        self.salary= salary\n",
    "        \n",
    "    def __mul__(self,timesheet):\n",
    "        print(\"worked for\",timesheet.days,\"days.\")\n",
    "        # calculate salary\n",
    "        return self.salary * timesheet.days *third.project * four.time\n",
    "        \n",
    "        \n",
    "        \n",
    "class Timesheet:\n",
    "    def __init__(self, name, days):\n",
    "        self.name =name \n",
    "        self.days =days\n",
    "        \n",
    "        \n",
    "#     def __mul__(self,timesheet):\n",
    "#         print(\"worked for\",timesheet.days,\"days.\")\n",
    "#         # calculate salary\n",
    "#         return self.salary * timesheet.days *third.project * four.time\n",
    "        \n",
    "        \n",
    "        \n",
    "\n",
    "class Third:\n",
    "    def __init__(self, project):\n",
    "        self.project= project\n",
    "        \n",
    "        \n",
    "class Four:\n",
    "    def __init__(self , time):\n",
    "        self.time = time\n",
    "    \n",
    "    \n",
    "\n",
    "timesheet=Timesheet(\"jesa\", 50)       \n",
    "emp= Employee(\"jessa\", 800)\n",
    "#timesheet=Timesheet(\"jesa\", 50)\n",
    "third= Third(2)\n",
    "four= Four(3)\n",
    "print(\"Salary is \",emp * timesheet* third.project* four.time)\n",
    "\n",
    "    "
   ]
  },
  {
   "cell_type": "code",
   "execution_count": 18,
   "id": "beaec31d",
   "metadata": {},
   "outputs": [
    {
     "name": "stdout",
     "output_type": "stream",
     "text": [
      "(2, 'Ashraf', 33, 'Bhai')\n",
      "2\n",
      "Ashraf\n",
      "33\n",
      "Bhai\n"
     ]
    }
   ],
   "source": [
    "# Unpacking\n",
    "\n",
    "a= 2\n",
    "b= \"Ashraf\"\n",
    "c=33\n",
    "d=\"Bhai\" \n",
    "p=a,b,c,d\n",
    "print(p)\n",
    "\n",
    "x, y, z,w=p\n",
    "\n",
    "print(x)\n",
    "print(y)\n",
    "print(z)\n",
    "print(w)"
   ]
  },
  {
   "cell_type": "code",
   "execution_count": 20,
   "id": "de4b5c1a",
   "metadata": {},
   "outputs": [
    {
     "name": "stdout",
     "output_type": "stream",
     "text": [
      "apple\n",
      "banana\n",
      "cherry\n"
     ]
    }
   ],
   "source": [
    "# Unpacking\n",
    "list1= [\"apple\", \"banana\", \"cherry\"]\n",
    "x,y,z=list1\n",
    "\n",
    "print(x)\n",
    "print(y)\n",
    "print(z)"
   ]
  },
  {
   "cell_type": "code",
   "execution_count": 27,
   "id": "e055aea9",
   "metadata": {},
   "outputs": [
    {
     "name": "stdout",
     "output_type": "stream",
     "text": [
      "Name Hazra\n",
      "Age 13\n",
      "Hobby Cooking\n",
      "('Name', 'Hazra')\n",
      "('Age', 13)\n",
      "('Hobby', 'Cooking')\n"
     ]
    }
   ],
   "source": [
    "# Unpaking\n",
    "dict1 ={\n",
    "    \"Name\"   :    \"Hazra\",\n",
    "    \"Age\"    :     13,\n",
    "    \"Hobby\"  :      \"Cooking\"\n",
    "}\n",
    "\n",
    "x,y,z=dict1.items()\n",
    "\n",
    "for i,j in dict1.items():\n",
    "    print(i,j)\n",
    "\n",
    "print(x)\n",
    "print(y)\n",
    "print(z)\n"
   ]
  },
  {
   "cell_type": "code",
   "execution_count": 14,
   "id": "a5d39ccf",
   "metadata": {},
   "outputs": [
    {
     "ename": "AttributeError",
     "evalue": "'super' object has no attribute '__init___'",
     "output_type": "error",
     "traceback": [
      "\u001b[1;31m---------------------------------------------------------------------------\u001b[0m",
      "\u001b[1;31mAttributeError\u001b[0m                            Traceback (most recent call last)",
      "Input \u001b[1;32mIn [14]\u001b[0m, in \u001b[0;36m<cell line: 13>\u001b[1;34m()\u001b[0m\n\u001b[0;32m     10\u001b[0m         \u001b[38;5;28mprint\u001b[39m(\u001b[38;5;124m\"\u001b[39m\u001b[38;5;124mJessa works at\u001b[39m\u001b[38;5;124m\"\u001b[39m, c_name)\n\u001b[0;32m     12\u001b[0m \u001b[38;5;66;03m# Creating object of child class\u001b[39;00m\n\u001b[1;32m---> 13\u001b[0m emp \u001b[38;5;241m=\u001b[39m \u001b[43mEmployee\u001b[49m\u001b[43m(\u001b[49m\u001b[38;5;124;43m\"\u001b[39;49m\u001b[38;5;124;43mZikra\u001b[39;49m\u001b[38;5;124;43m\"\u001b[39;49m\u001b[43m,\u001b[49m\u001b[43m \u001b[49m\u001b[38;5;241;43m22\u001b[39;49m\u001b[43m)\u001b[49m\n",
      "Input \u001b[1;32mIn [14]\u001b[0m, in \u001b[0;36mEmployee.__init__\u001b[1;34m(self, name, age)\u001b[0m\n\u001b[0;32m      6\u001b[0m \u001b[38;5;28;01mdef\u001b[39;00m \u001b[38;5;21m__init__\u001b[39m(\u001b[38;5;28mself\u001b[39m,name,age):\n\u001b[0;32m      7\u001b[0m     \u001b[38;5;66;03m# Calling the superclass method using super()function\u001b[39;00m\n\u001b[1;32m----> 8\u001b[0m     c_name \u001b[38;5;241m=\u001b[39m \u001b[38;5;28;43msuper\u001b[39;49m\u001b[43m(\u001b[49m\u001b[43m)\u001b[49m\u001b[38;5;241;43m.\u001b[39;49m\u001b[43m__init___\u001b[49m(name)\n\u001b[0;32m      9\u001b[0m     \u001b[38;5;28mself\u001b[39m\u001b[38;5;241m.\u001b[39mage\u001b[38;5;241m=\u001b[39mage\n\u001b[0;32m     10\u001b[0m     \u001b[38;5;28mprint\u001b[39m(\u001b[38;5;124m\"\u001b[39m\u001b[38;5;124mJessa works at\u001b[39m\u001b[38;5;124m\"\u001b[39m, c_name)\n",
      "\u001b[1;31mAttributeError\u001b[0m: 'super' object has no attribute '__init___'"
     ]
    }
   ],
   "source": [
    "class Company:\n",
    "    def __init__(self,name):\n",
    "        self.name = name\n",
    "\n",
    "class Employee(Company):\n",
    "    def __init__(self,name,age):\n",
    "        # Calling the superclass method using super()function\n",
    "        c_name = super().__init___(name)\n",
    "        self.age=age\n",
    "        print(\"Jessa works at\", c_name)\n",
    "\n",
    "# Creating object of child class\n",
    "emp = Employee(\"Zikra\", 22)\n"
   ]
  },
  {
   "cell_type": "code",
   "execution_count": 8,
   "id": "a0167645",
   "metadata": {},
   "outputs": [
    {
     "ename": "TypeError",
     "evalue": "object.__init__() takes exactly one argument (the instance to initialize)",
     "output_type": "error",
     "traceback": [
      "\u001b[1;31m---------------------------------------------------------------------------\u001b[0m",
      "\u001b[1;31mTypeError\u001b[0m                                 Traceback (most recent call last)",
      "Input \u001b[1;32mIn [8]\u001b[0m, in \u001b[0;36m<cell line: 28>\u001b[1;34m()\u001b[0m\n\u001b[0;32m     25\u001b[0m         \u001b[38;5;28mprint\u001b[39m(\u001b[38;5;124m\"\u001b[39m\u001b[38;5;124mi am studying at\u001b[39m\u001b[38;5;124m\"\u001b[39m,software)\n\u001b[0;32m     27\u001b[0m         \u001b[38;5;28mprint\u001b[39m( \u001b[38;5;124m\"\u001b[39m\u001b[38;5;124mschool name:\u001b[39m\u001b[38;5;124m\"\u001b[39m,\u001b[38;5;28mself\u001b[39m\u001b[38;5;241m.\u001b[39mschool, \u001b[38;5;124m\"\u001b[39m\u001b[38;5;124mAge:\u001b[39m\u001b[38;5;124m\"\u001b[39m, \u001b[38;5;28mself\u001b[39m\u001b[38;5;241m.\u001b[39mage,\u001b[38;5;124m\"\u001b[39m\u001b[38;5;124msubject:\u001b[39m\u001b[38;5;124m\"\u001b[39m, \u001b[38;5;28mself\u001b[39m\u001b[38;5;241m.\u001b[39msubject,zikra)\n\u001b[1;32m---> 28\u001b[0m s1\u001b[38;5;241m=\u001b[39m\u001b[43mhome\u001b[49m\u001b[43m(\u001b[49m\u001b[38;5;241;43m15\u001b[39;49m\u001b[43m,\u001b[49m\u001b[38;5;241;43m22\u001b[39;49m\u001b[43m,\u001b[49m\u001b[38;5;124;43m\"\u001b[39;49m\u001b[38;5;124;43mMaths\u001b[39;49m\u001b[38;5;124;43m\"\u001b[39;49m\u001b[43m)\u001b[49m\n\u001b[0;32m     29\u001b[0m s1\u001b[38;5;241m.\u001b[39mshow()\n",
      "Input \u001b[1;32mIn [8]\u001b[0m, in \u001b[0;36mhome.__init__\u001b[1;34m(self, roll_no, age, subject)\u001b[0m\n\u001b[0;32m     17\u001b[0m \u001b[38;5;28;01mdef\u001b[39;00m \u001b[38;5;21m__init__\u001b[39m(\u001b[38;5;28mself\u001b[39m,roll_no,age, subject):\n\u001b[1;32m---> 18\u001b[0m     \u001b[38;5;28;43msuper\u001b[39;49m\u001b[43m(\u001b[49m\u001b[43m)\u001b[49m\u001b[38;5;241;43m.\u001b[39;49m\u001b[38;5;21;43m__init__\u001b[39;49m\u001b[43m(\u001b[49m\u001b[43mroll_no\u001b[49m\u001b[43m,\u001b[49m\u001b[43m \u001b[49m\u001b[43mage\u001b[49m\u001b[43m)\u001b[49m\n\u001b[0;32m     19\u001b[0m     \u001b[38;5;28mself\u001b[39m\u001b[38;5;241m.\u001b[39msubject \u001b[38;5;241m=\u001b[39m subject\n",
      "Input \u001b[1;32mIn [8]\u001b[0m, in \u001b[0;36mschool.__init__\u001b[1;34m(self, roll_no, age)\u001b[0m\n\u001b[0;32m      7\u001b[0m \u001b[38;5;28;01mdef\u001b[39;00m \u001b[38;5;21m__init__\u001b[39m(\u001b[38;5;28mself\u001b[39m,roll_no,age):\n\u001b[1;32m----> 8\u001b[0m     \u001b[38;5;28;43msuper\u001b[39;49m\u001b[43m(\u001b[49m\u001b[43m)\u001b[49m\u001b[38;5;241;43m.\u001b[39;49m\u001b[38;5;21;43m__init__\u001b[39;49m\u001b[43m(\u001b[49m\u001b[43m \u001b[49m\u001b[43mroll_no\u001b[49m\u001b[43m)\u001b[49m       \n\u001b[0;32m      9\u001b[0m     \u001b[38;5;28mself\u001b[39m\u001b[38;5;241m.\u001b[39mage \u001b[38;5;241m=\u001b[39m age\n",
      "\u001b[1;31mTypeError\u001b[0m: object.__init__() takes exactly one argument (the instance to initialize)"
     ]
    }
   ],
   "source": [
    "class student:    \n",
    "    def software(self):\n",
    "        return 'MCC'\n",
    "        \n",
    "class school(student):\n",
    "    \n",
    "    def __init__(self,roll_no,age):\n",
    "        super().__init__( roll_no)       \n",
    "        self.age = age\n",
    "        #zikra = super().show()\n",
    "        \n",
    "    def show(self):\n",
    "        self.school=\"abp school\"\n",
    "        print(\"school name:\",self.school, \"age:\", self.age)\n",
    "        \n",
    "class home(school):\n",
    "    def __init__(self,roll_no,age, subject):\n",
    "        super().__init__(roll_no, age)\n",
    "        self.subject = subject\n",
    "        \n",
    "    def show(self):\n",
    "        #zikra = super().show()\n",
    "        self.school=\"abp school\n",
    "        \n",
    "        print( \"school name:\",self.school, \"Age:\", self.age,\"subject:\", self.subject,zikra)\n",
    "s1=home(15,22,\"Maths\")\n",
    "s1.show()"
   ]
  },
  {
   "cell_type": "code",
   "execution_count": 6,
   "id": "9681ac81",
   "metadata": {},
   "outputs": [
    {
     "data": {
      "text/plain": [
       "('school name:', 'abp school', 'rollno.:', 55, 'subject:', 'Maths')"
      ]
     },
     "execution_count": 6,
     "metadata": {},
     "output_type": "execute_result"
    }
   ],
   "source": [
    "class student:    \n",
    "    def __init__(self,name,rollno):\n",
    "        self.name=name\n",
    "        self.rollno=rollno\n",
    "        \n",
    "    def show1(self):\n",
    "        return \"Name of the student:\",self.name,\"Roll no of the student:\",self.rollno\n",
    "    \n",
    "class school(student):\n",
    "    def __init__(self, name, rollno,age):\n",
    "        super().__init__(name, rollno)       \n",
    "        self.age = age\n",
    "        #a_zikra = super().show()\n",
    "        \n",
    "    def show2(self):\n",
    "        self.school=\"abp school\"\n",
    "        \"school name:\",self.school, \"rollno.:\",self.rollno, \"age:\", self.age \n",
    "        \n",
    "class home(school):\n",
    "    def __init__(self, name, rollno,age, subject):\n",
    "        super().__init__(name, rollno, age)\n",
    "        self.subject = subject\n",
    "        \n",
    "    def show3(self):\n",
    "        #a_zikra = super().show2()\n",
    "        self.school=\"abp school\"\n",
    "        \n",
    "        #print(\"i am working at\",a_zikra)\n",
    "        \n",
    "        \n",
    "        return \"school name:\",self.school, \"rollno.:\",self.rollno, \"subject:\", self.subject\n",
    "    \n",
    "s1=home('iram',55,33,\"Maths\")\n",
    "s1.show3()"
   ]
  },
  {
   "cell_type": "markdown",
   "id": "2ffb604f",
   "metadata": {},
   "source": [
    "# Inheritance"
   ]
  },
  {
   "cell_type": "code",
   "execution_count": 3,
   "id": "88b2e6a6",
   "metadata": {},
   "outputs": [
    {
     "name": "stdout",
     "output_type": "stream",
     "text": [
      "Inside vehical class \n",
      "Inside car class\n"
     ]
    }
   ],
   "source": [
    "# types of inheritane\n",
    "# 1.Singal inheritance\n",
    "# One child class and one parent class \n",
    " \n",
    "# Base class \n",
    "class Vehical:\n",
    "    def vehical_info(self):\n",
    "        print(\"Inside vehical class \")\n",
    "        \n",
    "# Child class         \n",
    "class Car(Vehical):\n",
    "    def car_info(self):\n",
    "        print(\"Inside car class\")\n",
    "        \n",
    "car = Car()\n",
    "car.vehical_info()\n",
    "car.car_info()"
   ]
  },
  {
   "cell_type": "code",
   "execution_count": 7,
   "id": "de67ec53",
   "metadata": {},
   "outputs": [
    {
     "name": "stdout",
     "output_type": "stream",
     "text": [
      "Inside person class\n",
      "Name: Jessa Age: 23\n",
      "Inside company class\n",
      "Company_Name: Googal Location: Atlanta\n",
      "Inside employee class\n",
      "Salary: 40000 Skill: Machine Learning\n",
      "Inside person class\n",
      "Name: Deo Age: 18\n",
      "Inside company class\n",
      "Company_Name: Youtube Location: America\n",
      "Inside employee class\n",
      "Salary: 50000 Skill: Coding\n"
     ]
    }
   ],
   "source": [
    "# 2. Multiple Inheritance\n",
    "# one child class inherit from mutiple parent class\n",
    "\n",
    "# parent class 1\n",
    "class Person:\n",
    "    def person_info(self, name, age):\n",
    "        print(\"Inside person class\")\n",
    "        print(\"Name:\",name , \"Age:\", age)\n",
    "        \n",
    "\n",
    "# parent vclass 2\n",
    "class Company:\n",
    "    def company_info(self, company_name, location):\n",
    "        print(\"Inside company class\")\n",
    "        print(\"Company_Name:\", company_name, \"Location:\", location)\n",
    "\n",
    "        \n",
    "# Child class \n",
    "class Employee(Company, Person):\n",
    "    def employee_info(slef, salary , skill):\n",
    "        print(\"Inside employee class\")\n",
    "        print(\"Salary:\", salary, \"Skill:\", skill)\n",
    "\n",
    "# Create object\n",
    "emp = Employee()\n",
    "\n",
    "emp.person_info(\"Jessa\", 23)\n",
    "emp.company_info(\"Googal\", \"Atlanta\")\n",
    "emp.employee_info(40000, \"Machine Learning\")\n",
    "\n",
    "emp2= Employee()\n",
    "\n",
    "emp2.person_info(\"Deo\", 18)\n",
    "emp2.company_info(\"Youtube\", \"America\")\n",
    "emp2.employee_info(50000, \"Coding\")\n",
    "\n",
    "\n",
    "    "
   ]
  },
  {
   "cell_type": "code",
   "execution_count": 9,
   "id": "9c5308a3",
   "metadata": {},
   "outputs": [
    {
     "name": "stdout",
     "output_type": "stream",
     "text": [
      "inside vehical class\n",
      "Inside car class\n",
      "Inside sports car class\n"
     ]
    }
   ],
   "source": [
    "# Multilevel Inheritance\n",
    "# chaining of class .for exam. A is parent class of B, B is parent classs of C.\n",
    " \n",
    "# Base class \n",
    "class Vehical:\n",
    "    def vehical_info(self):\n",
    "        print(\"inside vehical class\")\n",
    "\n",
    "# Child class\n",
    "class Car(Vehical):\n",
    "    def car_info(self):\n",
    "        print(\"Inside car class\")\n",
    "        \n",
    "        \n",
    "# Child class \n",
    "class SportsCar(Car):\n",
    "    def sports_car_info(self):\n",
    "        print(\"Inside sports car class\")\n",
    "        \n",
    "\n",
    "s_car= SportsCar()\n",
    "\n",
    "s_car. vehical_info()\n",
    "s_car.car_info()\n",
    "s_car. sports_car_info()\n",
    "        \n",
    "    "
   ]
  },
  {
   "cell_type": "code",
   "execution_count": 14,
   "id": "b578f326",
   "metadata": {},
   "outputs": [
    {
     "name": "stdout",
     "output_type": "stream",
     "text": [
      "Inside vehical class\n",
      "Car name is: BMW\n",
      "Inside vehical class\n",
      "Truck name is: Ford\n"
     ]
    }
   ],
   "source": [
    "# Hierarchical Inheritance.\n",
    "# one parent class and multiple child class.\n",
    "\n",
    "class Vehical:\n",
    "    def info(self):\n",
    "        print(\"Inside vehical class\")\n",
    "        \n",
    "\n",
    "class Car(Vehical):\n",
    "    def car_info(self, name):\n",
    "        print(\"Car name is:\", name)\n",
    "        \n",
    "class Truck(Vehical):\n",
    "    def truck_info(self, name):\n",
    "        print(\"Truck name is:\",name)\n",
    "        \n",
    "        \n",
    "obj1= Car()\n",
    "obj1.info()\n",
    "obj1.car_info(\"BMW\")\n",
    "\n",
    "obj2= Truck()\n",
    "obj2.info()\n",
    "obj2.truck_info(\"Ford\")\n",
    "\n"
   ]
  },
  {
   "cell_type": "code",
   "execution_count": 17,
   "id": "8092bd71",
   "metadata": {},
   "outputs": [
    {
     "name": "stdout",
     "output_type": "stream",
     "text": [
      "Inside of vehical class\n",
      "Inside truck class\n",
      "Inside sports car class\n"
     ]
    }
   ],
   "source": [
    "# Hybrid Inheritance.\n",
    "# combinition of difrrent inheritance is called hybrid inharitance.\n",
    "\n",
    "class Vehical:\n",
    "    def vehical_info(self):\n",
    "        print(\"Inside of vehical class\")\n",
    "        \n",
    "class Car(Vehical):\n",
    "    def car_info(self):\n",
    "        print(\"Inside car class\")\n",
    "        \n",
    "        \n",
    "class Truck(Vehical):\n",
    "    def truck_info(self):\n",
    "        print(\"Inside truck class\")\n",
    "        \n",
    "        \n",
    "class SportsCar(Truck, Vehical):\n",
    "    def sport_car_info(self):\n",
    "        print(\"Inside sports car class\")\n",
    "        \n",
    "v1= SportsCar()\n",
    "\n",
    "v1.vehical_info()\n",
    "v1.truck_info():\n",
    "v1.sport_car_info()\n"
   ]
  },
  {
   "cell_type": "code",
   "execution_count": 19,
   "id": "70141d31",
   "metadata": {},
   "outputs": [
    {
     "name": "stdout",
     "output_type": "stream",
     "text": [
      "Jessa work at  Google\n"
     ]
    }
   ],
   "source": [
    "# Python super() function.\n",
    "\n",
    "class Company:\n",
    "    def company_name(self):\n",
    "        return \"Google\"\n",
    "    \n",
    "class Employee(Company):\n",
    "    def info(self):\n",
    "        # Calling the parent class method in to child class using super method().\n",
    "        c_name=super(). company_name()\n",
    "        print(\"Jessa work at \",c_name)\n",
    "        \n",
    "emp=Employee()\n",
    "emp.info()   "
   ]
  },
  {
   "cell_type": "code",
   "execution_count": 10,
   "id": "6f962624",
   "metadata": {},
   "outputs": [
    {
     "name": "stdout",
     "output_type": "stream",
     "text": [
      "Name: Harry Age: 26 Salary: 45000 Table No: 11\n",
      "Name: Kelly Age: 18 Salary: 50000 Table No: 15\n"
     ]
    }
   ],
   "source": [
    "#. 2\n",
    "\n",
    "class Person:\n",
    "    def __init__(self,name,age):\n",
    "        self.name = name\n",
    "        self.age = age\n",
    "        \n",
    "class Company(Person):\n",
    "    def __init__(self, name, age, salary):\n",
    "        # Using super method\n",
    "        super().__init__(name,age)\n",
    "        self.salary = salary\n",
    "    \n",
    "class Employee(Company):\n",
    "    def __init__(self,name,age,salary,table_no):\n",
    "        # Using super method\n",
    "        super().__init__(name,age,salary)\n",
    "        self.table_no = table_no\n",
    "        \n",
    "    def info(self):\n",
    "        print(\"Name:\", self.name, \"Age:\", self.age, \"Salary:\", self.salary, \"Table No:\", self.table_no)\n",
    "        \n",
    "emp = Employee(\"Harry\", 26, 45000, 11)\n",
    "emp.info() \n",
    "\n",
    "emp2= Employee(\"Kelly\", 18, 50000, 15)\n",
    "emp2.info()\n",
    "    \n",
    "    "
   ]
  },
  {
   "cell_type": "code",
   "execution_count": 4,
   "id": "d3b80df9",
   "metadata": {},
   "outputs": [
    {
     "name": "stdout",
     "output_type": "stream",
     "text": [
      "True\n",
      "False\n",
      "False\n",
      "True\n",
      "True\n"
     ]
    }
   ],
   "source": [
    "# issubclass()\n",
    "\n",
    "class Person:\n",
    "    def fun1(self):\n",
    "        print(\"Inside of parent class\")\n",
    "        \n",
    "class Company(Person):\n",
    "    def fun2(self):\n",
    "        print(\"Inside of child class\")\n",
    "        \n",
    "class Employee:\n",
    "    def fun3(self):\n",
    "        print(\"Inside of employee class\")\n",
    "        \n",
    "print(issubclass(Company , Person))\n",
    "\n",
    "print(issubclass(Employee , tuple))\n",
    "\n",
    "print(issubclass(Employee ,Person))\n",
    "\n",
    "print(issubclass(Company, (list , Person)))\n",
    "\n",
    "print(issubclass(Company, (tuple, Company)))\n",
    "        \n",
    "        "
   ]
  },
  {
   "cell_type": "code",
   "execution_count": 3,
   "id": "386247d9",
   "metadata": {},
   "outputs": [
    {
     "name": "stdout",
     "output_type": "stream",
     "text": [
      "Inside show\n",
      "Name: Jessa\n",
      "School name: ABC school\n",
      "ABC school\n"
     ]
    }
   ],
   "source": [
    "class A:\n",
    "    \n",
    "    School_name= \"ABC school\"\n",
    "    \n",
    "    def __init__(self,name):\n",
    "        self.name = name\n",
    "        \n",
    "    def show(self):\n",
    "        print(\"Inside show\")\n",
    "        \n",
    "s1= A(\"Jessa\")\n",
    "s1.show()\n",
    "print(\"Name:\",s1.name)\n",
    "print(\"School name:\", A.School_name)\n",
    "print(s1.School_name)\n",
    "#print(A.School_name)\n"
   ]
  },
  {
   "cell_type": "code",
   "execution_count": 8,
   "id": "faf12c99",
   "metadata": {},
   "outputs": [
    {
     "name": "stdout",
     "output_type": "stream",
     "text": [
      " In class C\n",
      "[<class '__main__.C'>, <class '__main__.B'>, <class '__main__.A'>, <class 'object'>]\n"
     ]
    }
   ],
   "source": [
    "# Method Resulation Method (MRO)\n",
    "\n",
    "class A:\n",
    "    def process(self):\n",
    "        print(\" In class A\")\n",
    "\n",
    "class B(A):\n",
    "    def process(self):\n",
    "        print(\" In class B\")\n",
    "\n",
    "class C(B, A):\n",
    "    def process(self):\n",
    "        print(\" In class C\")\n",
    "\n",
    "# Creating object of C class\n",
    "C1 = C()\n",
    "C1.process()\n",
    "print(C.mro())\n",
    "# In class C"
   ]
  },
  {
   "cell_type": "code",
   "execution_count": 9,
   "id": "edbaf6c5",
   "metadata": {},
   "outputs": [
    {
     "name": "stdout",
     "output_type": "stream",
     "text": [
      "6789\n"
     ]
    }
   ],
   "source": [
    "class Student:\n",
    "    def __init__(self):\n",
    "        print(1234)\n",
    "        \n",
    "    def __new__(self):\n",
    "        print(6789)\n",
    "        \n",
    "s1= Student()"
   ]
  },
  {
   "cell_type": "code",
   "execution_count": null,
   "id": "30ccca4e",
   "metadata": {},
   "outputs": [],
   "source": []
  },
  {
   "cell_type": "code",
   "execution_count": null,
   "id": "e344a638",
   "metadata": {},
   "outputs": [],
   "source": []
  }
 ],
 "metadata": {
  "kernelspec": {
   "display_name": "Python 3 (ipykernel)",
   "language": "python",
   "name": "python3"
  },
  "language_info": {
   "codemirror_mode": {
    "name": "ipython",
    "version": 3
   },
   "file_extension": ".py",
   "mimetype": "text/x-python",
   "name": "python",
   "nbconvert_exporter": "python",
   "pygments_lexer": "ipython3",
   "version": "3.10.4"
  }
 },
 "nbformat": 4,
 "nbformat_minor": 5
}
