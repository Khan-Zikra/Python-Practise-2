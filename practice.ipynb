{
 "cells": [
  {
   "cell_type": "markdown",
   "id": "4746e965",
   "metadata": {},
   "source": [
    " Class method"
   ]
  },
  {
   "cell_type": "code",
   "execution_count": 30,
   "id": "8883ecc7",
   "metadata": {},
   "outputs": [
    {
     "name": "stdout",
     "output_type": "stream",
     "text": [
      "Detail: Jarry 345 Constructor 21\n",
      "21\n",
      "21\n"
     ]
    }
   ],
   "source": [
    "class Employee:\n",
    "    no_of_leaves = 21   # class method\n",
    "    \n",
    "    def __init__(self, name, salary, role):\n",
    "        self.name = name\n",
    "        self.salary = salary\n",
    "        self.role = role\n",
    "        \n",
    "    def show(self):\n",
    "        print(\"Detail:\", self.name, self.salary, self.role, Employee.no_of_leaves)\n",
    "        print(Employee.no_of_leaves)\n",
    "\n",
    "#     @classmethod        # This is 1st methode use less\n",
    "#     def change_leaves(cls, no_of_leaves):\n",
    "#         cls.no_of_leaves= no_of_leaves\n",
    "        \n",
    "    \n",
    "        \n",
    "emp1= Employee(\"Jarry\", 345,\"Constructor\")\n",
    "emp2= Employee(\"Kelly\", 100, \"Cleaner\")\n",
    "emp1.show()\n",
    "\n",
    "#Employee.change_leaves(34)\n",
    "print(emp1.no_of_leaves)\n",
    "\n",
    "#if want to modify than we change like this this 2nd method\n",
    "#Employee.no_of_leaves= 17\n",
    "#print(emp1.no_of_leaves)\n",
    "\n",
    "#emp2=Employee(12) \n",
    "#  emp2.no_of_leaves(16)\n",
    "#emp1.show()       "
   ]
  },
  {
   "cell_type": "code",
   "execution_count": 20,
   "id": "f83b3587",
   "metadata": {},
   "outputs": [
    {
     "name": "stdout",
     "output_type": "stream",
     "text": [
      "34\n"
     ]
    }
   ],
   "source": [
    "class Employee:\n",
    "    no_of_leaves = 8\n",
    "\n",
    "    def __init__(self, aname, asalary, arole):\n",
    "        self.name = aname\n",
    "        self.salary = asalary\n",
    "        self.role = arole\n",
    "\n",
    "    def printdetails(self):\n",
    "        return f\"The Name is {self.name}. Salary is {self.salary} and role is {self.role}\"\n",
    "\n",
    "    #@classmethod\n",
    "    #def change_leaves(cls, newleaves):\n",
    "        cls.no_of_leaves = newleaves\n",
    "\n",
    "#     @classmethod\n",
    "#     def from_dash(cls, string):\n",
    "#         # params = string.split(\"-\")\n",
    "        # print(params)\n",
    "        # return cls(params[0], params[1], params[2])\n",
    "        #return cls(*string.split(\"-\"))\n",
    "\n",
    "\n",
    "harry = Employee(\"Harry\", 255, \"Instructor\")\n",
    "rohan = Employee(\"Rohan\", 455, \"Student\")\n",
    "#karan = Employee.from_dash(\"Karan-480-Student\")\n",
    "\n",
    "# print(karan.no_of_leaves)\n",
    "Employee.no_of_leaves=34\n",
    "\n",
    "print(harry.no_of_leaves)\n"
   ]
  },
  {
   "cell_type": "markdown",
   "id": "193fe927",
   "metadata": {},
   "source": [
    "# List Comprihension"
   ]
  },
  {
   "cell_type": "code",
   "execution_count": 4,
   "id": "bd5a83cb",
   "metadata": {},
   "outputs": [
    {
     "name": "stdout",
     "output_type": "stream",
     "text": [
      "[0, 3, 6, 9, 12, 15, 18, 21, 24, 27, 30, 33, 36, 39, 42, 45, 48]\n",
      "[0, 3, 6, 9, 12, 15, 18, 21, 24, 27, 30, 33, 36, 39, 42, 45, 48, 51, 54, 57, 60, 63, 66, 69, 72, 75, 78, 81, 84, 87, 90, 93, 96, 99]\n"
     ]
    }
   ],
   "source": [
    "list1= []\n",
    "\n",
    "for i in range(50):\n",
    "    if(i %3==0):\n",
    "        list1.append(i)\n",
    "        \n",
    "print(list1)\n",
    "\n",
    "# list comprihension write code inline /short way is called comprihension\n",
    "# We can create new sequences using a given python sequence. This is called comprehension. \n",
    "list1= [i for i in range(100) if i %3==0]\n",
    "print(list1)\n",
    "\n",
    "\n",
    "    "
   ]
  },
  {
   "cell_type": "code",
   "execution_count": 24,
   "id": "6cd87c93",
   "metadata": {},
   "outputs": [
    {
     "name": "stdout",
     "output_type": "stream",
     "text": [
      "[3, 6, 9, 12, 15]\n",
      "[3, 6, 9, 12, 15]\n"
     ]
    }
   ],
   "source": [
    "a= []\n",
    "\n",
    "for i in range(1,6):\n",
    "    a.append(i*3)\n",
    "print(a)\n",
    "\n",
    "\n",
    "# In way of list Comprihension\n",
    "a= [i*3 for i in range(1,6)]\n",
    "print(a)\n"
   ]
  },
  {
   "cell_type": "code",
   "execution_count": 2,
   "id": "724e572d",
   "metadata": {},
   "outputs": [
    {
     "name": "stdout",
     "output_type": "stream",
     "text": [
      "[7, 14, 21, 28, 35, 42, 49]\n",
      "[7, 14, 21, 28, 35, 42, 49]\n"
     ]
    }
   ],
   "source": [
    "a= [ ]\n",
    "\n",
    "for i in range (1,50):\n",
    "    if i %7==0:\n",
    "        a.append(i)\n",
    "        \n",
    "print(a)\n",
    "        \n",
    "# In way of list Comprihension\n",
    "a= [i for i in range (1,50) if i %7==0]\n",
    "print(a)\n"
   ]
  },
  {
   "cell_type": "code",
   "execution_count": 8,
   "id": "30637ccd",
   "metadata": {},
   "outputs": [
    {
     "name": "stdout",
     "output_type": "stream",
     "text": [
      "{0: 'item0', 5: 'item5', 10: 'item10', 15: 'item15', 20: 'item20', 25: 'item25', 30: 'item30', 35: 'item35', 40: 'item40', 45: 'item45'}\n"
     ]
    }
   ],
   "source": [
    "# dictnory\n",
    "\n",
    "dict1={i:f\"item{i}\" for i in range (50) if i%5==0}\n",
    "print(dict1)\n"
   ]
  },
  {
   "cell_type": "code",
   "execution_count": 19,
   "id": "95adeb4b",
   "metadata": {},
   "outputs": [
    {
     "name": "stdout",
     "output_type": "stream",
     "text": [
      "{'item0': 0, 'item1': 1, 'item2': 2, 'item3': 3, 'item4': 4, 'item5': 5, 'item6': 6, 'item7': 7, 'item8': 8, 'item9': 9} /n {0: 'item0', 1: 'item1', 2: 'item2', 3: 'item3', 4: 'item4', 5: 'item5', 6: 'item6'}\n"
     ]
    }
   ],
   "source": [
    "dict2={i:f\"item{i}\" for i in range (10)}\n",
    "dict2={value:key for key,value in dict2.items()}\n",
    "\n",
    "\n",
    "dict1={i:f\"item{i}\" for i in range (7)}\n",
    "\n",
    "print(dict2,\"/n\", dict1)"
   ]
  },
  {
   "cell_type": "markdown",
   "id": "7e9b5039",
   "metadata": {},
   "source": [
    "# Lambda"
   ]
  },
  {
   "cell_type": "code",
   "execution_count": 3,
   "id": "0e7b13c8",
   "metadata": {},
   "outputs": [
    {
     "name": "stdout",
     "output_type": "stream",
     "text": [
      "5\n"
     ]
    }
   ],
   "source": [
    "# def minus(x,y):\n",
    "#     return x-y\n",
    "\n",
    "print(minus(9,4))\n",
    "\n",
    "# Lamda is a one liner function \n",
    "minus= lambda x,y: x-y"
   ]
  },
  {
   "cell_type": "code",
   "execution_count": 4,
   "id": "205a7ab0",
   "metadata": {},
   "outputs": [
    {
     "name": "stdout",
     "output_type": "stream",
     "text": [
      "25\n"
     ]
    }
   ],
   "source": [
    "x=lambda a: a + 15\n",
    "print(x(10))"
   ]
  },
  {
   "cell_type": "code",
   "execution_count": 5,
   "id": "9c6a8007",
   "metadata": {},
   "outputs": [
    {
     "name": "stdout",
     "output_type": "stream",
     "text": [
      "45\n"
     ]
    }
   ],
   "source": [
    "y= lambda a,b:a*b\n",
    "print(y(5,9))"
   ]
  },
  {
   "cell_type": "code",
   "execution_count": 6,
   "id": "bb1bee41",
   "metadata": {},
   "outputs": [
    {
     "name": "stdout",
     "output_type": "stream",
     "text": [
      "71\n"
     ]
    }
   ],
   "source": [
    "z=lambda a,b,c:a+ b+ c\n",
    "print(z(10,30,31))"
   ]
  },
  {
   "cell_type": "code",
   "execution_count": 2,
   "id": "691ddc4c",
   "metadata": {},
   "outputs": [
    {
     "name": "stdout",
     "output_type": "stream",
     "text": [
      "26\n"
     ]
    }
   ],
   "source": [
    "def myfunc(n):\n",
    "    return lambda a: a*n\n",
    "\n",
    "my_doubler= myfunc(2)\n",
    "print(my_doubler(13))"
   ]
  },
  {
   "cell_type": "code",
   "execution_count": 3,
   "id": "75a8a747",
   "metadata": {},
   "outputs": [
    {
     "name": "stdout",
     "output_type": "stream",
     "text": [
      "44\n",
      "77\n"
     ]
    }
   ],
   "source": [
    "def myfunc(n):\n",
    "    return lambda a:a*n\n",
    "\n",
    "my_doubler= myfunc(4)\n",
    "my_tripler= myfunc(7)\n",
    "\n",
    "print(my_doubler(11))\n",
    "print(my_tripler(11))"
   ]
  },
  {
   "cell_type": "markdown",
   "id": "f528dde1",
   "metadata": {},
   "source": [
    " Itrarable"
   ]
  },
  {
   "cell_type": "code",
   "execution_count": 7,
   "id": "10af24e4",
   "metadata": {},
   "outputs": [
    {
     "name": "stdout",
     "output_type": "stream",
     "text": [
      "2\n",
      "5\n"
     ]
    }
   ],
   "source": [
    "my_list= [2,5,8,5,9,3]\n",
    "\n",
    "# get an itrater using an iter ()\n",
    "my_iter= iter(my_list)\n",
    "\n",
    "\n",
    "print(next(my_iter))\n",
    "\n",
    "print(next(my_iter))\n",
    "\n",
    "\n",
    "# next(obj) is same as obj.__next__()\n",
    "##print(my_iter.__next__())\n",
    "\n",
    "#print(my_iter.__next__())\n",
    "    \n",
    "\n"
   ]
  },
  {
   "cell_type": "code",
   "execution_count": 11,
   "id": "39dd8268",
   "metadata": {},
   "outputs": [
    {
     "name": "stdout",
     "output_type": "stream",
     "text": [
      "T\n",
      "h\n",
      "i\n",
      "s\n",
      " \n",
      "i\n",
      "t\n",
      "e\n",
      "r\n",
      "a\n",
      "b\n",
      "l\n"
     ]
    },
    {
     "ename": "StopIteration",
     "evalue": "",
     "output_type": "error",
     "traceback": [
      "\u001b[1;31m---------------------------------------------------------------------------\u001b[0m",
      "\u001b[1;31mStopIteration\u001b[0m                             Traceback (most recent call last)",
      "Input \u001b[1;32mIn [11]\u001b[0m, in \u001b[0;36m<cell line: 17>\u001b[1;34m()\u001b[0m\n\u001b[0;32m     15\u001b[0m \u001b[38;5;28mprint\u001b[39m(element\u001b[38;5;241m.\u001b[39m\u001b[38;5;21m__next__\u001b[39m())\n\u001b[0;32m     16\u001b[0m \u001b[38;5;28mprint\u001b[39m(element\u001b[38;5;241m.\u001b[39m\u001b[38;5;21m__next__\u001b[39m())\n\u001b[1;32m---> 17\u001b[0m \u001b[38;5;28mprint\u001b[39m(\u001b[43melement\u001b[49m\u001b[38;5;241;43m.\u001b[39;49m\u001b[38;5;21;43m__next__\u001b[39;49m\u001b[43m(\u001b[49m\u001b[43m)\u001b[49m)\n",
      "\u001b[1;31mStopIteration\u001b[0m: "
     ]
    }
   ],
   "source": [
    "element = iter(\"This iterabl\")\n",
    "# for i in element:\n",
    "#     print(i)\n",
    "\n",
    "print(next(element))\n",
    "print(element.__next__())\n",
    "print(element.__next__())\n",
    "print(element.__next__())\n",
    "print(element.__next__())\n",
    "print(element.__next__())\n",
    "print(element.__next__())\n",
    "print(element.__next__())\n",
    "print(element.__next__())\n",
    "print(element.__next__())\n",
    "print(element.__next__())\n",
    "print(element.__next__())\n",
    "print(element.__next__())\n"
   ]
  },
  {
   "cell_type": "code",
   "execution_count": 14,
   "id": "28bfffba",
   "metadata": {},
   "outputs": [
    {
     "name": "stdout",
     "output_type": "stream",
     "text": [
      "T\n",
      "h\n",
      "i\n",
      "s\n"
     ]
    }
   ],
   "source": [
    "# create an iterator object from that iterable\n",
    "iter_obj = iter(\"This\")\n",
    "\n",
    "# infinite loop\n",
    "\n",
    "        # get the next item\n",
    "        #element = next(\"This is\")\n",
    "        # do something with element\n",
    "#except StopIteration:\n",
    "        # if StopIteration is raised, break from loop\n",
    "        #break\n",
    "print(next(iter_obj))\n",
    "print(next(iter_obj))\n",
    "print(next(iter_obj))\n",
    "print(next(iter_obj))\n"
   ]
  },
  {
   "cell_type": "code",
   "execution_count": null,
   "id": "7fcf2c42",
   "metadata": {},
   "outputs": [],
   "source": [
    "\n",
    "        "
   ]
  },
  {
   "cell_type": "markdown",
   "id": "459cf8b9",
   "metadata": {},
   "source": [
    "# Decorater\n",
    "\n",
    "\n"
   ]
  },
  {
   "cell_type": "code",
   "execution_count": 4,
   "id": "2c9665a3",
   "metadata": {},
   "outputs": [
    {
     "name": "stdout",
     "output_type": "stream",
     "text": [
      "My name is zikra\n",
      "Here my actual function\n"
     ]
    }
   ],
   "source": [
    "def sample(mark):\n",
    "    def addingmarks():\n",
    "        print(\"My name is zikra\")\n",
    "        \n",
    "        mark()\n",
    "        \n",
    "    return addingmarks\n",
    "\n",
    "    \n",
    "\n",
    "@sample \n",
    "def Student():\n",
    "    print(\"Here my actual function\")\n",
    "\n",
    "Student() "
   ]
  },
  {
   "cell_type": "code",
   "execution_count": 1,
   "id": "4478ad3b",
   "metadata": {},
   "outputs": [
    {
     "name": "stdout",
     "output_type": "stream",
     "text": [
      "This is the added text to the actual function.\n",
      "This is the actual function.\n"
     ]
    }
   ],
   "source": [
    "# example of decorator\n",
    "def sampleDecorator(func):\n",
    "    def addingFunction():\n",
    "        # some new statments or flow control\n",
    "        print(\"This is the added text to the actual function.\")\n",
    "        # calling the function\n",
    "#         return addingFunction\n",
    "\n",
    "        func()\n",
    "\n",
    "    return addingFunction\n",
    "\n",
    "\n",
    "@sampleDecorator\n",
    "def actualFunction():\n",
    "    print(\"This is the actual function.\")\n",
    "\n",
    "\n",
    "actualFunction()"
   ]
  },
  {
   "cell_type": "code",
   "execution_count": 2,
   "id": "ec6954bb",
   "metadata": {},
   "outputs": [
    {
     "name": "stdout",
     "output_type": "stream",
     "text": [
      "My School name is M.U.U.H.S\n",
      "My name is  Khan  Zikra\n"
     ]
    }
   ],
   "source": [
    "def secondfunc(func):\n",
    "    def inner(a,b,c):\n",
    "        print(\"My School name is\", c)\n",
    "        func(a,b)\n",
    "    return inner\n",
    "\n",
    "\n",
    "\n",
    "@secondfunc\n",
    "def actualfunc(a,b):\n",
    "    print(\"My name is\", a,b)\n",
    "    \n",
    "    \n",
    "actualfunc(\" Khan\", \" Zikra\", \"M.U.U.H.S\")\n",
    "    \n"
   ]
  },
  {
   "cell_type": "code",
   "execution_count": 2,
   "id": "2623e80d",
   "metadata": {},
   "outputs": [
    {
     "name": "stdout",
     "output_type": "stream",
     "text": [
      "ABP school Near Sakinaka\n",
      "my name iram sayyed\n"
     ]
    }
   ],
   "source": [
    "def marks(z):\n",
    "    def inner(a,b,c):\n",
    "        print(\"ABP school\",c)\n",
    "        z(a,b)\n",
    "    return inner\n",
    "\n",
    "  \n",
    "\n",
    "\n",
    "@marks\n",
    "def student(a,b):\n",
    "    print(\"my name\",a,b)\n",
    "\n",
    "student(\"iram\",\"sayyed\",\"Near Sakinaka\")\n",
    "    \n",
    "        "
   ]
  },
  {
   "cell_type": "markdown",
   "id": "b9fde223",
   "metadata": {},
   "source": [
    "# Genrater \n"
   ]
  },
  {
   "cell_type": "code",
   "execution_count": 1,
   "id": "a9d2f022",
   "metadata": {},
   "outputs": [
    {
     "name": "stdout",
     "output_type": "stream",
     "text": [
      "1\n",
      "4\n",
      "9\n",
      "16\n",
      "25\n",
      "36\n",
      "49\n",
      "64\n",
      "81\n",
      "100\n"
     ]
    }
   ],
   "source": [
    "def square():\n",
    "    i=1\n",
    "    while True:\n",
    "        yield i*i\n",
    "        i += 1\n",
    "        \n",
    "for num in square():\n",
    "    if num > 100:\n",
    "        break\n",
    "    print(num)"
   ]
  },
  {
   "cell_type": "code",
   "execution_count": null,
   "id": "8ca56a23",
   "metadata": {},
   "outputs": [],
   "source": [
    "# Date and Time"
   ]
  },
  {
   "cell_type": "code",
   "execution_count": 6,
   "id": "b27bff82",
   "metadata": {},
   "outputs": [
    {
     "name": "stdout",
     "output_type": "stream",
     "text": [
      "Current date and time : 2022-07-30 17:31:19.329487\n",
      "<class 'datetime.datetime'>\n"
     ]
    }
   ],
   "source": [
    "from datetime import datetime\n",
    "\n",
    "x= datetime.now()\n",
    "print(\"Current date and time :\", x)\n",
    "print(type(x))\n"
   ]
  },
  {
   "cell_type": "code",
   "execution_count": 5,
   "id": "aafaaf50",
   "metadata": {},
   "outputs": [
    {
     "name": "stdout",
     "output_type": "stream",
     "text": [
      "2022-07-30 17:30:32.241598\n"
     ]
    }
   ],
   "source": [
    "from datetime import datetime\n",
    "\n",
    "y= datetime.today()\n",
    "print(y)"
   ]
  },
  {
   "cell_type": "code",
   "execution_count": 8,
   "id": "cf863efd",
   "metadata": {},
   "outputs": [
    {
     "name": "stdout",
     "output_type": "stream",
     "text": [
      "2022-07-30\n"
     ]
    }
   ],
   "source": [
    "from datetime import datetime\n",
    "\n",
    "x= datetime.now()\n",
    "\n",
    "current_date= x.date()\n",
    "print(current_date)"
   ]
  },
  {
   "cell_type": "code",
   "execution_count": null,
   "id": "ae6b89b0",
   "metadata": {},
   "outputs": [],
   "source": []
  }
 ],
 "metadata": {
  "kernelspec": {
   "display_name": "Python 3 (ipykernel)",
   "language": "python",
   "name": "python3"
  },
  "language_info": {
   "codemirror_mode": {
    "name": "ipython",
    "version": 3
   },
   "file_extension": ".py",
   "mimetype": "text/x-python",
   "name": "python",
   "nbconvert_exporter": "python",
   "pygments_lexer": "ipython3",
   "version": "3.10.4"
  }
 },
 "nbformat": 4,
 "nbformat_minor": 5
}
