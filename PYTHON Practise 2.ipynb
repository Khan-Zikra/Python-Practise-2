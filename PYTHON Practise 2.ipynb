{
 "cells": [
  {
   "cell_type": "markdown",
   "id": "faa87cd9",
   "metadata": {},
   "source": [
    "# Statement"
   ]
  },
  {
   "cell_type": "code",
   "execution_count": 2,
   "id": "fbd8e0f1",
   "metadata": {},
   "outputs": [
    {
     "name": "stdout",
     "output_type": "stream",
     "text": [
      "255\n"
     ]
    }
   ],
   "source": [
    "# explicit Countinution(\\)\n",
    "\n",
    "addition= 10 + 20 + \\\n",
    "         40 + 30 + \\\n",
    "         45 + 35 + 75\n",
    "\n",
    "print(addition)\n",
    "\n",
    " "
   ]
  },
  {
   "cell_type": "code",
   "execution_count": 2,
   "id": "d19f7f78",
   "metadata": {},
   "outputs": [
    {
     "name": "stdout",
     "output_type": "stream",
     "text": [
      "Area of recttangle is: 27\n"
     ]
    }
   ],
   "source": [
    "# Two statement in a single line\n",
    "\n",
    "l = 3 ; b= 9\n",
    "\n",
    "# Stament 3\n",
    "\n",
    "print(\"Area of recttangle is:\", l * b)\n"
   ]
  },
  {
   "cell_type": "code",
   "execution_count": 3,
   "id": "cd2b8cc4",
   "metadata": {},
   "outputs": [
    {
     "name": "stdout",
     "output_type": "stream",
     "text": [
      "100 is greater than 50\n"
     ]
    }
   ],
   "source": [
    "# indentation \n",
    "\n",
    "a= 50\n",
    "b= 100\n",
    "\n",
    "if a > b:\n",
    "    print(a, \"is greater than\", b)\n",
    "    \n",
    "elif b > a:\n",
    "    print(b , \"is greater than\", a)\n",
    "    \n",
    "else:\n",
    "    print(\"Both are equal\")"
   ]
  },
  {
   "cell_type": "code",
   "execution_count": 4,
   "id": "193017cf",
   "metadata": {},
   "outputs": [
    {
     "name": "stdout",
     "output_type": "stream",
     "text": [
      "Even number is greater than 100\n"
     ]
    }
   ],
   "source": [
    "num1= 500\n",
    "if num1 > 100:\n",
    "    if num1 % 2 == 0:\n",
    "        print(\"Even number is greater than 100\")\n",
    "    "
   ]
  },
  {
   "cell_type": "markdown",
   "id": "ae23fb61",
   "metadata": {},
   "source": [
    " # Simple Statements"
   ]
  },
  {
   "cell_type": "code",
   "execution_count": 16,
   "id": "ade9a34d",
   "metadata": {},
   "outputs": [
    {
     "name": "stdout",
     "output_type": "stream",
     "text": [
      "20\n"
     ]
    }
   ],
   "source": [
    "1.# Expression statements.\n",
    "# An expression is a combination of values, variables, and operators. A single value all by itself is considered an expression.\n",
    "\n",
    "x= 5\n",
    "# right hand side of = is a expression statement.\n",
    "\n",
    "# X= x + 5 is a complete statement.\n",
    "X= x + 15\n",
    "print(X)\n"
   ]
  },
  {
   "cell_type": "code",
   "execution_count": 3,
   "id": "3a3e1236",
   "metadata": {},
   "outputs": [],
   "source": [
    "# 2 .The pass  statement.\n",
    "# pass is a null operation. Nothing happens when it executes.\n",
    "\n",
    "# creat function \n",
    "def func1(arg):\n",
    "    pass # the function that does nothing (yet).\n",
    "\n"
   ]
  },
  {
   "cell_type": "code",
   "execution_count": 6,
   "id": "fec6de92",
   "metadata": {},
   "outputs": [
    {
     "name": "stdout",
     "output_type": "stream",
     "text": [
      "10 20\n"
     ]
    }
   ],
   "source": [
    "# 3. The del Statement\n",
    "# The Python del statement is used to delete objects/variables.\n",
    "\n",
    "x= 10\n",
    "y= 20\n",
    "\n",
    "print(x,y)\n",
    "\n",
    "# delete x,y\n",
    "del x,y\n",
    "\n",
    "# try to access it\n",
    "print(x,y)"
   ]
  },
  {
   "cell_type": "code",
   "execution_count": 8,
   "id": "d7296d2f",
   "metadata": {},
   "outputs": [
    {
     "name": "stdout",
     "output_type": "stream",
     "text": [
      "30\n",
      "51\n"
     ]
    }
   ],
   "source": [
    "# 4. The return Statement.\n",
    "# Using a return statement, we can return a value from a function when called.\n",
    "# using return function we can re_use value or statement.\n",
    "\n",
    "def addtion(num1 , num2):\n",
    "    return num1 + num2  # return the sum of two number.\n",
    "\n",
    "\n",
    "# result is return value.\n",
    "result = addtion(10 , 20)\n",
    "print(result)\n",
    "\n",
    "x= result + 21\n",
    "print(x)"
   ]
  },
  {
   "cell_type": "code",
   "execution_count": 11,
   "id": "e869d5d2",
   "metadata": {},
   "outputs": [
    {
     "name": "stdout",
     "output_type": "stream",
     "text": [
      "2022-07-26 12:22:51.326708\n"
     ]
    }
   ],
   "source": [
    "# 5. The import statement.\n",
    "# The import statement is used to import modules. We can also import individual classes from a module.\n",
    "\n",
    "import datetime\n",
    "\n",
    "# get current date and time.\n",
    "x = datetime.datetime.now()\n",
    "print(x)"
   ]
  },
  {
   "cell_type": "markdown",
   "id": "7bbc505c",
   "metadata": {},
   "source": [
    "# Comments"
   ]
  },
  {
   "cell_type": "code",
   "execution_count": 14,
   "id": "e0fc30e4",
   "metadata": {},
   "outputs": [
    {
     "name": "stdout",
     "output_type": "stream",
     "text": [
      "Assalam Alikum  Arkam\n"
     ]
    }
   ],
   "source": [
    "# Returns welcome message for a customer by customer name and location\n",
    "# param name - Name of the customer\n",
    "# param region - location\n",
    "# return - Welcome message\n",
    "\n",
    "def greet(name, region):\n",
    "    message= get_message(region)\n",
    "    return message + \"  \"+ name\n",
    "\n",
    "# Returns welcome message by location\n",
    "# param region - location\n",
    "\n",
    "def get_message(region):\n",
    "    if (region == \"USA\"):\n",
    "        return \"Hello\"\n",
    "    elif(region == \"India\"):\n",
    "        return \"Assalam Alikum\"\n",
    "    \n",
    "print(greet(\"Arkam\",\"India\" ))\n",
    "    \n",
    "    "
   ]
  },
  {
   "cell_type": "markdown",
   "id": "31443d7b",
   "metadata": {},
   "source": [
    "# Keywords"
   ]
  },
  {
   "cell_type": "code",
   "execution_count": 18,
   "id": "7450b512",
   "metadata": {},
   "outputs": [
    {
     "name": "stdout",
     "output_type": "stream",
     "text": [
      "['False', 'None', 'True', 'and', 'as', 'assert', 'async', 'await', 'break', 'class', 'continue', 'def', 'del', 'elif', 'else', 'except', 'finally', 'for', 'from', 'global', 'if', 'import', 'in', 'is', 'lambda', 'nonlocal', 'not', 'or', 'pass', 'raise', 'return', 'try', 'while', 'with', 'yield']\n"
     ]
    }
   ],
   "source": [
    "# Get the List of Keywrods.\n",
    "# Keyword module\n",
    "\n",
    "import keyword\n",
    "print(keyword.kwlist)"
   ]
  },
  {
   "cell_type": "code",
   "execution_count": 20,
   "id": "a661f38e",
   "metadata": {},
   "outputs": [
    {
     "name": "stdout",
     "output_type": "stream",
     "text": [
      "\n",
      "Here is a list of the Python keywords.  Enter any keyword to get more help.\n",
      "\n",
      "False               class               from                or\n",
      "None                continue            global              pass\n",
      "True                def                 if                  raise\n",
      "and                 del                 import              return\n",
      "as                  elif                in                  try\n",
      "assert              else                is                  while\n",
      "async               except              lambda              with\n",
      "await               finally             nonlocal            yield\n",
      "break               for                 not                 \n",
      "\n"
     ]
    }
   ],
   "source": [
    "# help Function\n",
    "\n",
    "help(\"keywords\")"
   ]
  },
  {
   "cell_type": "code",
   "execution_count": 29,
   "id": "7db9acca",
   "metadata": {},
   "outputs": [
    {
     "name": "stdout",
     "output_type": "stream",
     "text": [
      "The \"if\" statement\n",
      "******************\n",
      "\n",
      "The \"if\" statement is used for conditional execution:\n",
      "\n",
      "   if_stmt ::= \"if\" assignment_expression \":\" suite\n",
      "               (\"elif\" assignment_expression \":\" suite)*\n",
      "               [\"else\" \":\" suite]\n",
      "\n",
      "It selects exactly one of the suites by evaluating the expressions one\n",
      "by one until one is found to be true (see section Boolean operations\n",
      "for the definition of true and false); then that suite is executed\n",
      "(and no other part of the \"if\" statement is executed or evaluated).\n",
      "If all expressions are false, the suite of the \"else\" clause, if\n",
      "present, is executed.\n",
      "\n",
      "Related help topics: while, for\n",
      "\n",
      "None\n"
     ]
    }
   ],
   "source": [
    "# Understand Any keyword\n",
    "# Pass the keyword name to the help() function to get to know how to use it. \n",
    "\n",
    "print(help(\"else\"))\n",
    "\n"
   ]
  },
  {
   "cell_type": "code",
   "execution_count": 31,
   "id": "619db982",
   "metadata": {},
   "outputs": [
    {
     "name": "stdout",
     "output_type": "stream",
     "text": [
      "True\n",
      "False\n"
     ]
    }
   ],
   "source": [
    "# Keword Module \n",
    "# Python keyword module allows a Python program to determine if a string is a keyword.\n",
    "\n",
    "import keyword\n",
    "\n",
    "print(keyword.iskeyword(\"else\"))\n",
    "print(keyword.iskeyword(\"module\"))"
   ]
  },
  {
   "cell_type": "code",
   "execution_count": 22,
   "id": "18d35de0",
   "metadata": {},
   "outputs": [
    {
     "name": "stdout",
     "output_type": "stream",
     "text": [
      "['_', 'case', 'match']\n"
     ]
    }
   ],
   "source": [
    "import keyword\n",
    "\n",
    "print(keyword.softkwlist)"
   ]
  },
  {
   "cell_type": "code",
   "execution_count": 6,
   "id": "7a2cd0dc",
   "metadata": {},
   "outputs": [
    {
     "name": "stdout",
     "output_type": "stream",
     "text": [
      "False\n"
     ]
    }
   ],
   "source": [
    "import keyword\n",
    "print(keyword.issoftkeyword(\"b\"))"
   ]
  },
  {
   "cell_type": "code",
   "execution_count": 8,
   "id": "afe8335f",
   "metadata": {},
   "outputs": [
    {
     "name": "stdout",
     "output_type": "stream",
     "text": [
      "False\n"
     ]
    }
   ],
   "source": [
    "# Types of keyword\n",
    "# 1. Value Keywords: True, False, None.\n",
    "\n",
    "x= 25\n",
    "y= 5\n",
    "\n",
    "z= y > x\n",
    "print(z)"
   ]
  },
  {
   "cell_type": "code",
   "execution_count": 10,
   "id": "b1de5020",
   "metadata": {},
   "outputs": [
    {
     "name": "stdout",
     "output_type": "stream",
     "text": [
      "15\n",
      "25\n"
     ]
    }
   ],
   "source": [
    "# 2. Operator Keywords: and, or, not, in, is\n",
    "\n",
    "x = 10\n",
    "y = 20\n",
    "\n",
    "# and to combine to conditions\n",
    "# both need to be true to execute if block\n",
    "if x > 5 and y < 25:\n",
    "    print(x + 5)\n",
    "\n",
    "# or condition\n",
    "# at least 1 need to be true to execute if block\n",
    "if x > 5 or y < 100:\n",
    "    print(y + 5)\n",
    "\n",
    "# not condition\n",
    "# condition must be false\n",
    "if not x:\n",
    "    print(x + 5)"
   ]
  },
  {
   "cell_type": "code",
   "execution_count": 23,
   "id": "029188dd",
   "metadata": {},
   "outputs": [
    {
     "name": "stdout",
     "output_type": "stream",
     "text": [
      "True\n",
      "False\n",
      "1251998630768\n",
      "1251998630768\n"
     ]
    }
   ],
   "source": [
    "# is keyword demo\n",
    "x = 21\n",
    "y = 21\n",
    "z =10\n",
    "print(x is y) # it compare memory address of x and y \n",
    "print(x is z) # it compare memory address of x and z\n",
    "\n",
    "print(id(x))\n",
    "print(id(y))"
   ]
  },
  {
   "cell_type": "code",
   "execution_count": 13,
   "id": "b85bafb9",
   "metadata": {},
   "outputs": [
    {
     "name": "stdout",
     "output_type": "stream",
     "text": [
      "number is not present\n"
     ]
    }
   ],
   "source": [
    "my_list = [11, 15, 21, 29, 50, 70]\n",
    "number = 31\n",
    "if number in my_list:\n",
    "    print(\"number is present\")\n",
    "else:\n",
    "    print(\"number is not present\")"
   ]
  },
  {
   "cell_type": "code",
   "execution_count": 15,
   "id": "b86410c0",
   "metadata": {},
   "outputs": [
    {
     "name": "stdout",
     "output_type": "stream",
     "text": [
      "x is greater than 100\n"
     ]
    }
   ],
   "source": [
    "# 3 . Conditional Keywords: if, elif, else\n",
    "\n",
    "x = 101\n",
    "if x > 100:\n",
    "    print('x is greater than 100')\n",
    "elif x > 50:\n",
    "    print('x is greater than 50 but less than 100')\n",
    "else: \n",
    "    print('x is less than 50')"
   ]
  },
  {
   "cell_type": "code",
   "execution_count": 21,
   "id": "c6a9872b",
   "metadata": {},
   "outputs": [
    {
     "name": "stdout",
     "output_type": "stream",
     "text": [
      "for loop to display first 5 numbers\n",
      "0 1 2 3 4 \n",
      "while loop to display first 5 numbers\n",
      "0 1 2 3 4 "
     ]
    }
   ],
   "source": [
    "# 4. Iterative and Transfer Keywords: for, while, break, continue, else\n",
    "\n",
    "print('for loop to display first 5 numbers')\n",
    "for i in range(5):\n",
    "    print(i, end=' ')\n",
    "\n",
    "print('\\nwhile loop to display first 5 numbers')\n",
    "n = 0\n",
    "while n < 5:\n",
    "    print(n, end=' ')\n",
    "    n = n + 1"
   ]
  },
  {
   "cell_type": "code",
   "execution_count": 2,
   "id": "4009dc98",
   "metadata": {},
   "outputs": [
    {
     "name": "stdout",
     "output_type": "stream",
     "text": [
      "Sum is 50\n"
     ]
    }
   ],
   "source": [
    "# 5.Structure Keywords: def, class, with, as, pass, lambda.\n",
    "# The def keyword is used to define user-defined funtion or methods of a class.\n",
    "\n",
    "# def keyword : create function\n",
    "def addition(num1 , num2):\n",
    "    print(\"Sum is\", num1 + num2)\n",
    "    \n",
    "# call the function   \n",
    "addition(20,30)\n"
   ]
  },
  {
   "cell_type": "code",
   "execution_count": 3,
   "id": "1234e61c",
   "metadata": {},
   "outputs": [],
   "source": [
    "# The pass keyword is used to define as a placeholder when a statement is required syntactically.\n",
    "\n",
    "# pass keyword: create syntactically empty function\n",
    "# code to add in future\n",
    "def Student(name, age):\n",
    "    pass"
   ]
  },
  {
   "cell_type": "code",
   "execution_count": 4,
   "id": "ceba715a",
   "metadata": {},
   "outputs": [
    {
     "name": "stdout",
     "output_type": "stream",
     "text": [
      "Name: Jessa Age: 16\n",
      "Name: Kelly Age: 18\n"
     ]
    }
   ],
   "source": [
    "# Class\n",
    "\n",
    "class Student:\n",
    "    def __init__(self, name , age):\n",
    "        self.name = name\n",
    "        self.age = age\n",
    "        \n",
    "    def show(self):\n",
    "        print(\"Name:\", self.name, \"Age:\", self.age)\n",
    "        \n",
    "        \n",
    "s1= Student(\"Jessa\", 16)\n",
    "s2= Student(\"Kelly\", 18)\n",
    "\n",
    "s1.show()\n",
    "s2.show()"
   ]
  },
  {
   "cell_type": "code",
   "execution_count": 6,
   "id": "b5885b71",
   "metadata": {},
   "outputs": [],
   "source": [
    "# with\n",
    "# with keyword is used when working with unmanaged resources (like file streams).\n",
    "\n",
    "# Opening file\n",
    "with open('sample.txt', 'r', encoding='utf-8') as fp:\n",
    "    # read sample.txt\n",
    "    print(fp.read())"
   ]
  },
  {
   "cell_type": "code",
   "execution_count": 7,
   "id": "e878f656",
   "metadata": {},
   "outputs": [
    {
     "name": "stdout",
     "output_type": "stream",
     "text": [
      "2022-07-27 11:12:28.209970\n"
     ]
    }
   ],
   "source": [
    "# 6.Import Keywords: import, from, as\n",
    "# In Python, the import statement is used to import the whole module.\n",
    "\n",
    "import datetime\n",
    "\n",
    "# get current date and time\n",
    "x= datetime.datetime.now()\n",
    "\n",
    "print(x)"
   ]
  },
  {
   "cell_type": "code",
   "execution_count": 8,
   "id": "55993361",
   "metadata": {},
   "outputs": [
    {
     "name": "stdout",
     "output_type": "stream",
     "text": [
      "2022-07-27 11:15:18.569601\n"
     ]
    }
   ],
   "source": [
    "# from\n",
    "# Also, we can import specific classes and functions from a module.\n",
    "\n",
    "from datetime import datetime\n",
    "\n",
    "x= datetime.now()\n",
    "\n",
    "print(x)"
   ]
  },
  {
   "cell_type": "code",
   "execution_count": 12,
   "id": "a00b4ef7",
   "metadata": {},
   "outputs": [
    {
     "name": "stdout",
     "output_type": "stream",
     "text": [
      "Sum: 70\n"
     ]
    }
   ],
   "source": [
    "#7. Returning Keywords: return, yield\n",
    "\n",
    "def add(num1 , num2):\n",
    "    return num1 + num2\n",
    "\n",
    "print(\"Sum:\",add(40 ,30))\n",
    "\n",
    "# yield is a keyword that is used like return, except the function will return a generator"
   ]
  },
  {
   "cell_type": "code",
   "execution_count": 13,
   "id": "11465944",
   "metadata": {},
   "outputs": [
    {
     "name": "stdout",
     "output_type": "stream",
     "text": [
      "price in 1st function : 900\n",
      "price in 2nd function : 900\n"
     ]
    }
   ],
   "source": [
    "# Variable Handling Keywords: del, global, nonlocal\n",
    "\n",
    "price = 900  # Global variable\n",
    "\n",
    "def test1():  # defining 1st function\n",
    "    print(\"price in 1st function :\", price)  # 900\n",
    "\n",
    "def test2():  # defining 2nd function\n",
    "    print(\"price in 2nd function :\", price)  # 900\n",
    "\n",
    "# call functions\n",
    "test1()\n",
    "test2()\n",
    "\n",
    "# delete variable\n",
    "del price"
   ]
  },
  {
   "cell_type": "markdown",
   "id": "64bfee3d",
   "metadata": {},
   "source": [
    "# Variable"
   ]
  },
  {
   "cell_type": "code",
   "execution_count": 15,
   "id": "7dbbd827",
   "metadata": {},
   "outputs": [
    {
     "name": "stdout",
     "output_type": "stream",
     "text": [
      "John 23 25800.6\n",
      "John\n",
      "23\n",
      "25800.6\n"
     ]
    }
   ],
   "source": [
    "Name = \"John\"         # String Assingnment\n",
    "Age  = 23             # integer Assingment\n",
    "Salary = 25800.60     # float Assigment\n",
    "\n",
    "\n",
    "print(Name, Age, Salary)\n",
    "print(Name)\n",
    "print(Age)\n",
    "print(Salary)"
   ]
  },
  {
   "cell_type": "code",
   "execution_count": 22,
   "id": "660a3d83",
   "metadata": {},
   "outputs": [
    {
     "name": "stdout",
     "output_type": "stream",
     "text": [
      "10\n",
      "<class 'int'>\n",
      "55\n",
      "Now I am in string.\n",
      "<class 'str'>\n",
      "64900.99\n",
      "<class 'float'>\n"
     ]
    }
   ],
   "source": [
    "# Chanching the value of variable\n",
    "\n",
    "var = 10\n",
    "print(var)\n",
    "print(type(var)) \n",
    "\n",
    "# assign differnt inteager value\n",
    "var = 55\n",
    "print(var)\n",
    "\n",
    "\n",
    "# change to string \n",
    "var = \"Now I am in string.\"\n",
    "print(var)\n",
    "print(type(var))\n",
    "\n",
    "\n",
    "# change to float\n",
    "var = 64900.99\n",
    "print(var)\n",
    "print(type(var))"
   ]
  },
  {
   "cell_type": "code",
   "execution_count": 29,
   "id": "8ce18dd9",
   "metadata": {},
   "outputs": [
    {
     "name": "stdout",
     "output_type": "stream",
     "text": [
      "PYnative\n",
      "P\n",
      "nat\n",
      "8\n",
      "PYnative Test \n"
     ]
    }
   ],
   "source": [
    "# string variable\n",
    "\n",
    "str1= \"PYnative\"\n",
    "\n",
    "# print compelete string\n",
    "print(str1)\n",
    "\n",
    "# print first charecter of string\n",
    "print(str1[0])\n",
    "\n",
    "# prints characters starting from 2nd to 5th\n",
    "print(str1[2:5])\n",
    "\n",
    "# length of string\n",
    "print(len(str1))\n",
    "\n",
    "# concatenate string\n",
    "print(str1 + \" Test \")"
   ]
  },
  {
   "cell_type": "code",
   "execution_count": 35,
   "id": "7b9bd6f5",
   "metadata": {},
   "outputs": [
    {
     "name": "stdout",
     "output_type": "stream",
     "text": [
      "['Jessa', 10, 20, 'Kelly', 50, 10.5]\n",
      "10\n",
      "10.5\n",
      "[10, 20, 'Kelly']\n",
      "['Emma', 10, 20, 'Kelly', 50, 10.5]\n",
      "['Emma', 10, 20, 'Kelly', 50, 10.5, 100]\n"
     ]
    }
   ],
   "source": [
    "# List type variable  \n",
    "\n",
    "my_list = ['Jessa', 10, 20, 'Kelly', 50, 10.5]\n",
    "# print entire list\n",
    "print(my_list)  # ['Jessa', 10, 20, 'Kelly', 50, 10.5]\n",
    "\n",
    "# Accessing 1st element of a list\n",
    "print(my_list[1])\n",
    "\n",
    "\n",
    "# Accessing last number of list\n",
    "print(my_list[-1])\n",
    "\n",
    "\n",
    "# Accessing Chunk of the list\n",
    "print(my_list[1:4])\n",
    "\n",
    "\n",
    "# modifying first element of the list\n",
    "my_list[0]= \"Emma\"\n",
    "print(my_list)\n",
    "\n",
    "# Add one more element\n",
    "my_list.append(100)\n",
    "print(my_list)"
   ]
  },
  {
   "cell_type": "code",
   "execution_count": 36,
   "id": "df7fc638",
   "metadata": {},
   "outputs": [
    {
     "name": "stdout",
     "output_type": "stream",
     "text": [
      "<class 'int'>\n",
      "<class 'float'>\n",
      "<class 'str'>\n",
      "<class 'list'>\n",
      "<class 'set'>\n",
      "<class 'tuple'>\n",
      "<class 'dict'>\n"
     ]
    }
   ],
   "source": [
    "# Get the data type of variable\n",
    "\n",
    "a = 100\n",
    "print(type(a)) \n",
    "\n",
    "b = 100.568\n",
    "print(type(b))  \n",
    "\n",
    "str1 = \"PYnative\"\n",
    "print(type(str1))  \n",
    "\n",
    "my_list = [10, 20, 20.5, 100]\n",
    "print(type(my_list))  \n",
    "\n",
    "my_set = {'Emma', 'Jessa', 'Kelly'}\n",
    "print(type(my_set))  \n",
    "\n",
    "my_tuple = (5, 10, 15, 20, 25)\n",
    "print(type(my_tuple))  \n",
    "\n",
    "my_dict = {1: 'William', 2: 'John'}\n",
    "print(type(my_dict))  "
   ]
  },
  {
   "cell_type": "code",
   "execution_count": 39,
   "id": "0d7e9364",
   "metadata": {},
   "outputs": [
    {
     "name": "stdout",
     "output_type": "stream",
     "text": [
      "list\n",
      "tuple\n"
     ]
    }
   ],
   "source": [
    "# If we want to get the name of the datatype only as output.\n",
    "list1=['Emma', 10, 20, 'Kelly', 50, 10.5, 100]\n",
    "\n",
    "print(type(list1).__name__)\n",
    "\n",
    "my_tuple=('Emma', 10, 20, 'Kelly', 50, 10.5, 100)\n",
    "print(type(my_tuple).__name__)\n"
   ]
  },
  {
   "cell_type": "code",
   "execution_count": 40,
   "id": "d4b691ff",
   "metadata": {},
   "outputs": [
    {
     "name": "stdout",
     "output_type": "stream",
     "text": [
      "200\n",
      "300\n",
      "500\n"
     ]
    }
   ],
   "source": [
    "# Variable’s case-sensitive\n",
    "\n",
    "a= 200\n",
    "A=300\n",
    "\n",
    "# value of a\n",
    "print(a)\n",
    "\n",
    "# vlue of A\n",
    "print(A)\n",
    "\n",
    "a= a + A\n",
    "print(a)\n"
   ]
  },
  {
   "cell_type": "code",
   "execution_count": 42,
   "id": "568edddc",
   "metadata": {},
   "outputs": [
    {
     "name": "stdout",
     "output_type": "stream",
     "text": [
      "100\n",
      "1000\n"
     ]
    }
   ],
   "source": [
    "# constantnt variable\n",
    "\n",
    "MIN_VALUE = 100\n",
    "MAX_VALUE = 1000\n",
    "\n",
    "print(MIN_VALUE)\n",
    "print(MAX_VALUE)"
   ]
  },
  {
   "cell_type": "code",
   "execution_count": 46,
   "id": "1f185e4b",
   "metadata": {},
   "outputs": [
    {
     "name": "stdout",
     "output_type": "stream",
     "text": [
      "Value of test 1 in function: 900\n"
     ]
    },
    {
     "ename": "NameError",
     "evalue": "name 'price' is not defined",
     "output_type": "error",
     "traceback": [
      "\u001b[1;31m---------------------------------------------------------------------------\u001b[0m",
      "\u001b[1;31mNameError\u001b[0m                                 Traceback (most recent call last)",
      "Input \u001b[1;32mIn [46]\u001b[0m, in \u001b[0;36m<cell line: 15>\u001b[1;34m()\u001b[0m\n\u001b[0;32m     11\u001b[0m     \u001b[38;5;28mprint\u001b[39m(\u001b[38;5;124m\"\u001b[39m\u001b[38;5;124mValue of test 2 in function:\u001b[39m\u001b[38;5;124m\"\u001b[39m, price)\n\u001b[0;32m     14\u001b[0m test1()\n\u001b[1;32m---> 15\u001b[0m \u001b[43mtest2\u001b[49m\u001b[43m(\u001b[49m\u001b[43m)\u001b[49m\n",
      "Input \u001b[1;32mIn [46]\u001b[0m, in \u001b[0;36mtest2\u001b[1;34m()\u001b[0m\n\u001b[0;32m     10\u001b[0m \u001b[38;5;28;01mdef\u001b[39;00m \u001b[38;5;21mtest2\u001b[39m():\n\u001b[1;32m---> 11\u001b[0m     \u001b[38;5;28mprint\u001b[39m(\u001b[38;5;124m\"\u001b[39m\u001b[38;5;124mValue of test 2 in function:\u001b[39m\u001b[38;5;124m\"\u001b[39m, \u001b[43mprice\u001b[49m)\n",
      "\u001b[1;31mNameError\u001b[0m: name 'price' is not defined"
     ]
    }
   ],
   "source": [
    "# Variable scope\n",
    "# 1 Local variable\n",
    "# A local variable is a variable that is accessible inside a block of code only where it is declared.\n",
    "\n",
    "def test1():\n",
    "    price = 900     # Local variable\n",
    "    print(\"Value of test 1 in function:\", price)\n",
    "    \n",
    "    \n",
    "def test2():\n",
    "    print(\"Value of test 2 in function:\", price)\n",
    "    \n",
    "    \n",
    "test1()\n",
    "test2()\n",
    "    \n",
    "\n"
   ]
  },
  {
   "cell_type": "code",
   "execution_count": 48,
   "id": "aee64e27",
   "metadata": {},
   "outputs": [
    {
     "name": "stdout",
     "output_type": "stream",
     "text": [
      "Value of test1 in function 900\n",
      "Value of test in function  900\n"
     ]
    }
   ],
   "source": [
    "# Global Variable\n",
    "# A Global variable is a variable that is defined outside of the method (block of code). That is accessible anywhere in the code file.\n",
    "\n",
    "price = 900     # GLobal variable\n",
    "\n",
    "def test1():\n",
    "    print(\"Value of test1 in function\",price)\n",
    "    \n",
    "def test2():\n",
    "    print(\"Value of test in function \",price)\n",
    "    \n",
    "test1()\n",
    "test2()\n",
    "\n"
   ]
  },
  {
   "cell_type": "code",
   "execution_count": 49,
   "id": "ac7f57e8",
   "metadata": {},
   "outputs": [
    {
     "name": "stdout",
     "output_type": "stream",
     "text": [
      "3242267436432\n",
      "3242267436432\n"
     ]
    }
   ],
   "source": [
    "# Object/Variable identity and references\n",
    "\n",
    "a = 300\n",
    "b = a\n",
    "\n",
    "print(id(a))\n",
    "print(id(b))"
   ]
  },
  {
   "cell_type": "code",
   "execution_count": 58,
   "id": "878af347",
   "metadata": {},
   "outputs": [
    {
     "name": "stdout",
     "output_type": "stream",
     "text": [
      "3242162854352\n",
      "3242267439472\n"
     ]
    }
   ],
   "source": [
    "a= 200\n",
    "b= 300\n",
    "\n",
    "print(id(a))\n",
    "print(id(b))"
   ]
  },
  {
   "cell_type": "code",
   "execution_count": 57,
   "id": "f355c6ad",
   "metadata": {},
   "outputs": [
    {
     "name": "stdout",
     "output_type": "stream",
     "text": [
      "<class 'int'>\n",
      "(5+0j)\n",
      "<class 'complex'>\n"
     ]
    }
   ],
   "source": [
    "a= 5\n",
    "print(type(a))\n",
    "c=complex(a)\n",
    "print(c)\n",
    "print(type(c))"
   ]
  },
  {
   "cell_type": "markdown",
   "id": "6d0e3dd7",
   "metadata": {},
   "source": [
    "# map"
   ]
  },
  {
   "cell_type": "code",
   "execution_count": 3,
   "id": "8e8f35fa",
   "metadata": {},
   "outputs": [
    {
     "name": "stdout",
     "output_type": "stream",
     "text": [
      "<map object at 0x0000024F675B6B30>\n",
      "(5, 6, 6)\n"
     ]
    }
   ],
   "source": [
    "def myfunc(n):\n",
    "    return len(n)\n",
    "\n",
    "x= map(myfunc, (\"apple\", \"banana\", \"cherry\"))\n",
    "print(x)\n",
    "\n",
    "print(tuple(x))"
   ]
  },
  {
   "cell_type": "code",
   "execution_count": 36,
   "id": "bdf82cf0",
   "metadata": {},
   "outputs": [
    {
     "name": "stdout",
     "output_type": "stream",
     "text": [
      "<map object at 0x0000024F676D4B20>\n",
      "['applechilli', 'bananatomato', 'cherrypotato']\n"
     ]
    }
   ],
   "source": [
    "def myfunc(a,b):\n",
    "    return a+b\n",
    "\n",
    "x= map(myfunc, (\"apple\", \"banana\", \"cherry\"), (\"chilli\", \"tomato\", \"potato\"))\n",
    "print(x)\n",
    "\n",
    "print(list(x))"
   ]
  },
  {
   "cell_type": "code",
   "execution_count": 1,
   "id": "ab28e2e4",
   "metadata": {},
   "outputs": [
    {
     "ename": "TypeError",
     "evalue": "'int' object is not subscriptable",
     "output_type": "error",
     "traceback": [
      "\u001b[1;31m---------------------------------------------------------------------------\u001b[0m",
      "\u001b[1;31mTypeError\u001b[0m                                 Traceback (most recent call last)",
      "Input \u001b[1;32mIn [1]\u001b[0m, in \u001b[0;36m<cell line: 5>\u001b[1;34m()\u001b[0m\n\u001b[0;32m      2\u001b[0m numbers\u001b[38;5;241m=\u001b[39m\u001b[38;5;28mlist\u001b[39m(\u001b[38;5;28mmap\u001b[39m(\u001b[38;5;28mint\u001b[39m, numbers))\n\u001b[0;32m      4\u001b[0m numbers\u001b[38;5;241m=\u001b[39m numbers[\u001b[38;5;241m2\u001b[39m] \u001b[38;5;241m+\u001b[39m \u001b[38;5;241m1\u001b[39m\n\u001b[1;32m----> 5\u001b[0m \u001b[38;5;28mprint\u001b[39m(\u001b[43mnumbers\u001b[49m\u001b[43m[\u001b[49m\u001b[38;5;241;43m2\u001b[39;49m\u001b[43m]\u001b[49m)\n",
      "\u001b[1;31mTypeError\u001b[0m: 'int' object is not subscriptable"
     ]
    }
   ],
   "source": [
    "numbers = [\"23\", \"45\", \"78\"]\n",
    "numbers=list(map(int, numbers))\n",
    "\n",
    "numbers= numbers[2] + 1\n",
    "print(numbers[2])\n"
   ]
  },
  {
   "cell_type": "code",
   "execution_count": 4,
   "id": "280d587f",
   "metadata": {},
   "outputs": [
    {
     "name": "stdout",
     "output_type": "stream",
     "text": [
      "[9, 36, 64, 49, 36, 81, 361]\n"
     ]
    }
   ],
   "source": [
    "def sq (a):\n",
    "    return a * a\n",
    "\n",
    "num = [3,6, 8, 7,6, 9, 19]\n",
    "square = list (map(sq , num))\n",
    "\n",
    "print(square)"
   ]
  },
  {
   "cell_type": "code",
   "execution_count": 5,
   "id": "6c0380c7",
   "metadata": {},
   "outputs": [
    {
     "name": "stdout",
     "output_type": "stream",
     "text": [
      "[9, 36, 64, 49, 36, 81, 361]\n"
     ]
    }
   ],
   "source": [
    "num = [3,6, 8, 7,6, 9, 19]\n",
    "# we can also use lamda function and it also give same out put \n",
    "square = list (map(lambda x: x * x , num))\n",
    "\n",
    "print(square)"
   ]
  },
  {
   "cell_type": "code",
   "execution_count": 39,
   "id": "7c19db53",
   "metadata": {},
   "outputs": [
    {
     "name": "stdout",
     "output_type": "stream",
     "text": [
      "[1, 4, 9, 16]\n"
     ]
    }
   ],
   "source": [
    "a=[1,2,3,4]\n",
    "b=map(lambda x : x*x,a)\n",
    "print(list(b))"
   ]
  },
  {
   "cell_type": "code",
   "execution_count": 11,
   "id": "447dd2f4",
   "metadata": {},
   "outputs": [
    {
     "name": "stdout",
     "output_type": "stream",
     "text": [
      "[0, 0]\n",
      "[1, 1]\n",
      "[4, 8]\n",
      "[9, 27]\n",
      "[16, 64]\n",
      "[25, 125]\n",
      "[36, 216]\n",
      "[49, 343]\n"
     ]
    }
   ],
   "source": [
    "def square(a):\n",
    "    return a * a\n",
    "\n",
    "def cube(a):\n",
    "    return a * a * a\n",
    "\n",
    "func = [square , cube]\n",
    "\n",
    "for i in range (8):\n",
    "    z= list(map(lambda x : x(i), func))\n",
    "    print(z)"
   ]
  },
  {
   "cell_type": "code",
   "execution_count": 38,
   "id": "99f1066a",
   "metadata": {},
   "outputs": [
    {
     "name": "stdout",
     "output_type": "stream",
     "text": [
      "[1, 3, 7, 9]\n"
     ]
    }
   ],
   "source": [
    "a=[1,2,3,4,6,7,9,10]\n",
    "b=filter(lambda x : x%2==1,a)\n",
    "print(list(b))"
   ]
  },
  {
   "cell_type": "code",
   "execution_count": 24,
   "id": "d635559e",
   "metadata": {
    "scrolled": true
   },
   "outputs": [
    {
     "name": "stdout",
     "output_type": "stream",
     "text": [
      "applebanaancherry\n"
     ]
    }
   ],
   "source": [
    "from functools import reduce\n",
    "a=[\"apple\",\"banaan\",\"cherry\"]\n",
    "b=reduce(lambda x,y : x+y ,a)\n",
    "print(b)"
   ]
  },
  {
   "cell_type": "code",
   "execution_count": 31,
   "id": "eeb5631e",
   "metadata": {},
   "outputs": [
    {
     "name": "stdout",
     "output_type": "stream",
     "text": [
      "80\n"
     ]
    }
   ],
   "source": [
    "x= lambda a,b,c : a+b+c\n",
    "#x= (30, 20,30)\n",
    "print(x(30,20, 30))"
   ]
  },
  {
   "cell_type": "markdown",
   "id": "e955afb6",
   "metadata": {},
   "source": [
    "# filter"
   ]
  },
  {
   "cell_type": "code",
   "execution_count": 40,
   "id": "4c3dc186",
   "metadata": {},
   "outputs": [
    {
     "name": "stdout",
     "output_type": "stream",
     "text": [
      "21\n",
      "34\n",
      "67\n",
      "19\n"
     ]
    }
   ],
   "source": [
    "ages= [ 21, 34,67,10,11, 19 , 13]\n",
    "\n",
    "def myfunc(x):\n",
    "    if x < 18:\n",
    "        return False\n",
    "    else:\n",
    "        return True\n",
    "    \n",
    "adults= filter(myfunc,ages)\n",
    "\n",
    "for x in adults:\n",
    "    print(x)\n",
    "        \n",
    "    "
   ]
  },
  {
   "cell_type": "code",
   "execution_count": 45,
   "id": "6781bc75",
   "metadata": {},
   "outputs": [
    {
     "name": "stdout",
     "output_type": "stream",
     "text": [
      "a\n",
      "i\n",
      "o\n"
     ]
    }
   ],
   "source": [
    "def func(variable):\n",
    "    letters= ['a', 'e','i', 'o', 'u']\n",
    "    if (variable in letters):\n",
    "        return True\n",
    "    else :\n",
    "          False\n",
    "              \n",
    "sequence= ['a', 'v', 'g', 'f', 'i', 'o', 'j']\n",
    "\n",
    "x= filter(func, sequence)\n",
    "\n",
    "for s in x:\n",
    "    print(s)         \n",
    "             \n",
    "                         "
   ]
  },
  {
   "cell_type": "code",
   "execution_count": 57,
   "id": "938df086",
   "metadata": {},
   "outputs": [
    {
     "name": "stdout",
     "output_type": "stream",
     "text": [
      "[9, 5, 7]\n",
      "[2, 6, 8, 4]\n"
     ]
    }
   ],
   "source": [
    "seq= [2,6,8,9,4,5,7]\n",
    "\n",
    "a= filter(lambda x: x% 2==1 ,seq)\n",
    "b= filter(lambda x: x %2==0, seq)\n",
    "\n",
    "print(list(a))\n",
    "print(list(b))"
   ]
  },
  {
   "cell_type": "code",
   "execution_count": 12,
   "id": "72ff8317",
   "metadata": {},
   "outputs": [
    {
     "name": "stdout",
     "output_type": "stream",
     "text": [
      "{'aaple': 2, 'bana': 6, 'cherry': 9}\n"
     ]
    }
   ],
   "source": [
    "a= [\"aaple\", \"bana\", \"cherry\"]\n",
    "b=[2, 6,9,]\n",
    "c= zip(a,b)\n",
    "print(dict(c))"
   ]
  },
  {
   "cell_type": "code",
   "execution_count": null,
   "id": "2c06a795",
   "metadata": {},
   "outputs": [],
   "source": []
  },
  {
   "cell_type": "code",
   "execution_count": 15,
   "id": "ca912397",
   "metadata": {},
   "outputs": [
    {
     "name": "stdout",
     "output_type": "stream",
     "text": [
      "d t f\n"
     ]
    }
   ],
   "source": [
    "lst= ['d', 't', 'f']\n",
    "      \n",
    "x= \" \".join (lst)\n",
    "print(x)"
   ]
  },
  {
   "cell_type": "code",
   "execution_count": 8,
   "id": "896d3d44",
   "metadata": {},
   "outputs": [
    {
     "name": "stdout",
     "output_type": "stream",
     "text": [
      "10\n",
      "11\n",
      "14\n",
      "19\n",
      "26\n"
     ]
    }
   ],
   "source": [
    "# Genrator\n",
    "\n",
    "def square(x):\n",
    "    for i in range(5):\n",
    "        yield i* i\n",
    "        \n",
    "def test (x):\n",
    "    for i in square(5):\n",
    "        print(i+ x)\n",
    "        \n",
    "test(10)\n",
    "    "
   ]
  },
  {
   "cell_type": "code",
   "execution_count": 13,
   "id": "e904c4cc",
   "metadata": {},
   "outputs": [
    {
     "name": "stdout",
     "output_type": "stream",
     "text": [
      "['__abs__', '__add__', '__and__', '__bool__', '__ceil__', '__class__', '__delattr__', '__dir__', '__divmod__', '__doc__', '__eq__', '__float__', '__floor__', '__floordiv__', '__format__', '__ge__', '__getattribute__', '__getnewargs__', '__gt__', '__hash__', '__index__', '__init__', '__init_subclass__', '__int__', '__invert__', '__le__', '__lshift__', '__lt__', '__mod__', '__mul__', '__ne__', '__neg__', '__new__', '__or__', '__pos__', '__pow__', '__radd__', '__rand__', '__rdivmod__', '__reduce__', '__reduce_ex__', '__repr__', '__rfloordiv__', '__rlshift__', '__rmod__', '__rmul__', '__ror__', '__round__', '__rpow__', '__rrshift__', '__rshift__', '__rsub__', '__rtruediv__', '__rxor__', '__setattr__', '__sizeof__', '__str__', '__sub__', '__subclasshook__', '__truediv__', '__trunc__', '__xor__', 'as_integer_ratio', 'bit_count', 'bit_length', 'conjugate', 'denominator', 'from_bytes', 'imag', 'numerator', 'real', 'to_bytes']\n"
     ]
    }
   ],
   "source": [
    "a=2\n",
    "print(dir(a))"
   ]
  },
  {
   "cell_type": "code",
   "execution_count": 100,
   "id": "20710c95",
   "metadata": {},
   "outputs": [
    {
     "name": "stdout",
     "output_type": "stream",
     "text": [
      "1 . What is sentance?\n",
      "Ans. A group of word which expresses a complete thought.\n",
      "2 . What is verb?\n",
      "Ans. words that show an action (sing), occurrence (develop), or state of being (exist).\n",
      "3 . What's mine task?\n",
      "Ans. making nested list\n",
      "4 . What is your name?\n",
      "Ans. My name is kelly\n",
      "Here is Explanation\n",
      "1 a set of words that is complete in itself, typically containing a subject and predicate,\n",
      "\n",
      "\n",
      "3 Tell me about your self\n"
     ]
    }
   ],
   "source": [
    "Questions = [ \n",
    "        {\n",
    "         \"Question\"      : \"What is sentance?\",\n",
    "         \"Answer\"       :  \"A group of word which expresses a complete thought.\",\n",
    "         \"Explanation\" :  \"a set of words that is complete in itself, typically containing a subject and predicate,\"},\n",
    "    \n",
    "        {\n",
    "        \"Question\"    :   \"What is verb?\",\n",
    "        \"Answer\"      :    \"words that show an action (sing), occurrence (develop), or state of being (exist).\",\n",
    "        \"Explanation\"  :   \"\"},\n",
    "      \n",
    "        {\n",
    "        \"Question\"   : \"What's mine task?\",\n",
    "        \"Answer\"     : \"making nested list\",\n",
    "        \"Explanation\":  \"\"},\n",
    "    \n",
    "        {\n",
    "        \"Question\"   :   \"What is your name?\",\n",
    "        \"Answer\"     :    \"My name is kelly\",\n",
    "        \"Explanation\" :    \"Tell me about your self\"}\n",
    "        \n",
    "\n",
    "]    \n",
    "             \n",
    "    \n",
    "    \n",
    "\n",
    "#print(Questions[2][\"Question\"])\n",
    "\n",
    "\n",
    "num= 1\n",
    "A=\"Ans\"\n",
    "for i in Questions:\n",
    "\n",
    "        q= i[\"Question\"]\n",
    "        r= i[\"Answer\"]\n",
    "        \n",
    "       \n",
    "        print(num,\". \"+  q)\n",
    "        num += 1\n",
    "        print(A +\". \"+  r)\n",
    "\n",
    "        \n",
    "num=1        \n",
    "print(\"Here is Explanation\")        \n",
    "for i in Questions:\n",
    "    s= i[\"Explanation\"]\n",
    "    \n",
    "    if s:\n",
    "        print(num ,s)\n",
    "    else:\n",
    "        pass\n",
    "\n",
    "        num+=1\n",
    "        print(s)\n",
    "    \n",
    "    \n",
    "    \n"
   ]
  },
  {
   "cell_type": "code",
   "execution_count": 51,
   "id": "6d445aa8",
   "metadata": {},
   "outputs": [
    {
     "name": "stdout",
     "output_type": "stream",
     "text": [
      "false\n"
     ]
    }
   ],
   "source": [
    "a= \"\"\n",
    "if a :\n",
    "    print(\"True\")\n",
    "else:\n",
    "    print(\"false\")"
   ]
  },
  {
   "cell_type": "code",
   "execution_count": 58,
   "id": "83857464",
   "metadata": {},
   "outputs": [
    {
     "name": "stdout",
     "output_type": "stream",
     "text": [
      "What is sentance?\n"
     ]
    }
   ],
   "source": [
    "i ={\n",
    "         \"Question\"      : \"What is sentance?\",\n",
    "         \"Answer\"       :  \"A group of word which expresses a complete thought.\",\n",
    "         \"Explanation \" :  \"a set of words that is complete in itself, typically containing a subject and predicate,\"}\n",
    "a=i[\"Question\"]\n",
    "print(a)\n",
    "    "
   ]
  },
  {
   "cell_type": "code",
   "execution_count": 14,
   "id": "720ae723",
   "metadata": {},
   "outputs": [
    {
     "ename": "AttributeError",
     "evalue": "'tuple' object has no attribute 'append'",
     "output_type": "error",
     "traceback": [
      "\u001b[1;31m---------------------------------------------------------------------------\u001b[0m",
      "\u001b[1;31mAttributeError\u001b[0m                            Traceback (most recent call last)",
      "Input \u001b[1;32mIn [14]\u001b[0m, in \u001b[0;36m<cell line: 6>\u001b[1;34m()\u001b[0m\n\u001b[0;32m      4\u001b[0m         l\u001b[38;5;241m.\u001b[39mappend(i\u001b[38;5;241m*\u001b[39m\u001b[38;5;241m*\u001b[39m\u001b[38;5;241m2\u001b[39m)\n\u001b[0;32m      5\u001b[0m     \u001b[38;5;28mprint\u001b[39m(l)\n\u001b[1;32m----> 6\u001b[0m \u001b[43msquare\u001b[49m\u001b[43m(\u001b[49m\u001b[43m)\u001b[49m\n",
      "Input \u001b[1;32mIn [14]\u001b[0m, in \u001b[0;36msquare\u001b[1;34m()\u001b[0m\n\u001b[0;32m      2\u001b[0m l\u001b[38;5;241m=\u001b[39m ()\n\u001b[0;32m      3\u001b[0m \u001b[38;5;28;01mfor\u001b[39;00m i \u001b[38;5;129;01min\u001b[39;00m \u001b[38;5;28mrange\u001b[39m(\u001b[38;5;241m1\u001b[39m,\u001b[38;5;241m5\u001b[39m):\n\u001b[1;32m----> 4\u001b[0m     \u001b[43ml\u001b[49m\u001b[38;5;241;43m.\u001b[39;49m\u001b[43mappend\u001b[49m(i\u001b[38;5;241m*\u001b[39m\u001b[38;5;241m*\u001b[39m\u001b[38;5;241m2\u001b[39m)\n\u001b[0;32m      5\u001b[0m \u001b[38;5;28mprint\u001b[39m(l)\n",
      "\u001b[1;31mAttributeError\u001b[0m: 'tuple' object has no attribute 'append'"
     ]
    }
   ],
   "source": [
    "def square():\n",
    "    l= \n",
    "    for i in range(1,5):\n",
    "        l.append(i**2)\n",
    "    print(l)\n",
    "square()\n",
    "       \n",
    "    "
   ]
  },
  {
   "cell_type": "code",
   "execution_count": 13,
   "id": "8c3d15bf",
   "metadata": {},
   "outputs": [
    {
     "name": "stdout",
     "output_type": "stream",
     "text": [
      "[1, 4, 9, 16]\n"
     ]
    }
   ],
   "source": [
    "def square():\n",
    "    l=list()\n",
    "    for i in range(1, 5):\n",
    "        l.append(i**2)\n",
    "    print(l)\n",
    "square()\n",
    "   "
   ]
  },
  {
   "cell_type": "code",
   "execution_count": 17,
   "id": "a538b4e6",
   "metadata": {},
   "outputs": [
    {
     "name": "stdout",
     "output_type": "stream",
     "text": [
      "[2, 8, 18, 32]\n"
     ]
    }
   ],
   "source": [
    "z = [1,2,3,4]\n",
    "y=list(map(lambda x: x*x*2 ,z ))\n",
    "print(y)"
   ]
  },
  {
   "cell_type": "code",
   "execution_count": 6,
   "id": "9015b3e1",
   "metadata": {},
   "outputs": [
    {
     "name": "stdout",
     "output_type": "stream",
     "text": [
      "write your number:1 2 3 4 5 \n",
      "[2, 8, 18, 32, 50]\n"
     ]
    }
   ],
   "source": [
    "#n= int(input(\"write your numbet\"))\n",
    "#n=map(int(input(\"print your number\")))\n",
    "\n",
    "n= list(map(int,input(\"write your number:\").split()))\n",
    "m= list(map(lambda x : x**2 + x**2  ,n))\n",
    "    \n",
    "\n",
    "print(m)"
   ]
  },
  {
   "cell_type": "code",
   "execution_count": 9,
   "id": "1126ec47",
   "metadata": {},
   "outputs": [
    {
     "name": "stdout",
     "output_type": "stream",
     "text": [
      "[5, 3, 7, 4]\n"
     ]
    }
   ],
   "source": [
    "z= [5,8,15,19]\n",
    "\n",
    "diffs=[z[0]] +[x-y for x,y in zip (z[1:], z[:-1])]\n",
    "print(diffs)\n",
    "\n",
    "\n",
    "\n",
    "\n",
    "\n",
    "\n",
    "\n",
    "# for i in range(li.index(li[-1])+1):\n",
    "#     print(li[i])\n"
   ]
  },
  {
   "cell_type": "code",
   "execution_count": 2,
   "id": "ca3c2518",
   "metadata": {},
   "outputs": [
    {
     "name": "stdout",
     "output_type": "stream",
     "text": [
      "0\n",
      "1\n",
      "4\n",
      "9\n",
      "16\n",
      "25\n",
      "36\n",
      "49\n",
      "64\n",
      "81\n",
      "100\n"
     ]
    }
   ],
   "source": [
    "for i in range(11):\n",
    "    x=i * i \n",
    "    print(x)"
   ]
  },
  {
   "cell_type": "code",
   "execution_count": null,
   "id": "134a5ff3",
   "metadata": {},
   "outputs": [],
   "source": []
  }
 ],
 "metadata": {
  "kernelspec": {
   "display_name": "Python 3 (ipykernel)",
   "language": "python",
   "name": "python3"
  },
  "language_info": {
   "codemirror_mode": {
    "name": "ipython",
    "version": 3
   },
   "file_extension": ".py",
   "mimetype": "text/x-python",
   "name": "python",
   "nbconvert_exporter": "python",
   "pygments_lexer": "ipython3",
   "version": "3.10.4"
  }
 },
 "nbformat": 4,
 "nbformat_minor": 5
}
